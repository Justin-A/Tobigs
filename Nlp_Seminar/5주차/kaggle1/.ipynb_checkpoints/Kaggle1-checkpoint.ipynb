{
 "cells": [
  {
   "cell_type": "markdown",
   "metadata": {
    "colab_type": "text",
    "id": "6I-5cxS4COX6"
   },
   "source": [
    "# Tutorial for \n",
    "https://www.kaggle.com/c/word2vec-nlp-tutorial/data"
   ]
  },
  {
   "cell_type": "markdown",
   "metadata": {},
   "source": [
    "## 0. 데이터 불러오기"
   ]
  },
  {
   "cell_type": "code",
   "execution_count": 1,
   "metadata": {
    "colab": {
     "autoexec": {
      "startup": false,
      "wait_interval": 0
     },
     "base_uri": "https://localhost:8080/",
     "height": 196,
     "resources": {
      "http://localhost:8080/nbextensions/google.colab/files.js": {
       "data": "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",
       "headers": [
        [
         "content-type",
         "application/javascript"
        ]
       ],
       "ok": true,
       "status": 200,
       "status_text": ""
      }
     }
    },
    "colab_type": "code",
    "collapsed": false,
    "executionInfo": {
     "elapsed": 1131282,
     "status": "ok",
     "timestamp": 1526410267816,
     "user": {
      "displayName": "이현경",
      "photoUrl": "https://lh3.googleusercontent.com/a/default-user=s128",
      "userId": "112345304399997048072"
     },
     "user_tz": -540
    },
    "id": "_U2NLCZYEFu0",
    "outputId": "145cad86-ebb7-4c46-c1da-e9c46143fdae"
   },
   "outputs": [
    {
     "ename": "ModuleNotFoundError",
     "evalue": "No module named 'google.colab'",
     "output_type": "error",
     "traceback": [
      "\u001b[0;31m---------------------------------------------------------------------------\u001b[0m",
      "\u001b[0;31mModuleNotFoundError\u001b[0m                       Traceback (most recent call last)",
      "\u001b[0;32m<ipython-input-1-21dc3c638f66>\u001b[0m in \u001b[0;36m<module>\u001b[0;34m()\u001b[0m\n\u001b[0;32m----> 1\u001b[0;31m \u001b[0;32mfrom\u001b[0m \u001b[0mgoogle\u001b[0m\u001b[0;34m.\u001b[0m\u001b[0mcolab\u001b[0m \u001b[0;32mimport\u001b[0m \u001b[0mfiles\u001b[0m\u001b[0;34m\u001b[0m\u001b[0m\n\u001b[0m\u001b[1;32m      2\u001b[0m \u001b[0muploaded\u001b[0m \u001b[0;34m=\u001b[0m \u001b[0mfiles\u001b[0m\u001b[0;34m.\u001b[0m\u001b[0mupload\u001b[0m\u001b[0;34m(\u001b[0m\u001b[0;34m)\u001b[0m\u001b[0;34m\u001b[0m\u001b[0m\n",
      "\u001b[0;31mModuleNotFoundError\u001b[0m: No module named 'google.colab'"
     ]
    }
   ],
   "source": [
    "from google.colab import files\n",
    "uploaded = files.upload()"
   ]
  },
  {
   "cell_type": "code",
   "execution_count": 61,
   "metadata": {
    "colab": {
     "autoexec": {
      "startup": false,
      "wait_interval": 0
     }
    },
    "colab_type": "code",
    "collapsed": true,
    "id": "QUwuy_rHEu5_"
   },
   "outputs": [],
   "source": [
    "import pandas as pd\n",
    "\n",
    "train = pd.read_csv('labeledTrainData.tsv', \n",
    "                    header=0, delimiter='\\t', quoting=3)\n",
    "test = pd.read_csv('testData.tsv', \n",
    "                   header=0, delimiter='\\t', quoting=3)\n",
    "# header = 0 : 첫번째 줄 부터 열이 있음\n",
    "# quoting = 3 : 쌍따옴표 무시"
   ]
  },
  {
   "cell_type": "code",
   "execution_count": 62,
   "metadata": {
    "colab": {
     "autoexec": {
      "startup": false,
      "wait_interval": 0
     },
     "base_uri": "https://localhost:8080/",
     "height": 34
    },
    "colab_type": "code",
    "collapsed": false,
    "executionInfo": {
     "elapsed": 539,
     "status": "ok",
     "timestamp": 1526410318503,
     "user": {
      "displayName": "이현경",
      "photoUrl": "https://lh3.googleusercontent.com/a/default-user=s128",
      "userId": "112345304399997048072"
     },
     "user_tz": -540
    },
    "id": "V_wOqF6JJPHC",
    "outputId": "f24494de-5b70-431f-9453-b8b0d164f697"
   },
   "outputs": [
    {
     "data": {
      "text/plain": [
       "(25000, 3)"
      ]
     },
     "execution_count": 62,
     "metadata": {},
     "output_type": "execute_result"
    }
   ],
   "source": [
    "train.shape"
   ]
  },
  {
   "cell_type": "code",
   "execution_count": 63,
   "metadata": {
    "colab": {
     "autoexec": {
      "startup": false,
      "wait_interval": 0
     },
     "base_uri": "https://localhost:8080/",
     "height": 195
    },
    "colab_type": "code",
    "collapsed": false,
    "executionInfo": {
     "elapsed": 590,
     "status": "ok",
     "timestamp": 1526410329842,
     "user": {
      "displayName": "이현경",
      "photoUrl": "https://lh3.googleusercontent.com/a/default-user=s128",
      "userId": "112345304399997048072"
     },
     "user_tz": -540
    },
    "id": "cR0SvNfHJQ98",
    "outputId": "03e3be73-0946-4e2d-826f-bee2f2185a7e"
   },
   "outputs": [
    {
     "data": {
      "text/html": [
       "<div>\n",
       "<style scoped>\n",
       "    .dataframe tbody tr th:only-of-type {\n",
       "        vertical-align: middle;\n",
       "    }\n",
       "\n",
       "    .dataframe tbody tr th {\n",
       "        vertical-align: top;\n",
       "    }\n",
       "\n",
       "    .dataframe thead th {\n",
       "        text-align: right;\n",
       "    }\n",
       "</style>\n",
       "<table border=\"1\" class=\"dataframe\">\n",
       "  <thead>\n",
       "    <tr style=\"text-align: right;\">\n",
       "      <th></th>\n",
       "      <th>id</th>\n",
       "      <th>sentiment</th>\n",
       "      <th>review</th>\n",
       "    </tr>\n",
       "  </thead>\n",
       "  <tbody>\n",
       "    <tr>\n",
       "      <th>0</th>\n",
       "      <td>\"5814_8\"</td>\n",
       "      <td>1</td>\n",
       "      <td>\"With all this stuff going down at the moment ...</td>\n",
       "    </tr>\n",
       "    <tr>\n",
       "      <th>1</th>\n",
       "      <td>\"2381_9\"</td>\n",
       "      <td>1</td>\n",
       "      <td>\"\\\"The Classic War of the Worlds\\\" by Timothy ...</td>\n",
       "    </tr>\n",
       "    <tr>\n",
       "      <th>2</th>\n",
       "      <td>\"7759_3\"</td>\n",
       "      <td>0</td>\n",
       "      <td>\"The film starts with a manager (Nicholas Bell...</td>\n",
       "    </tr>\n",
       "    <tr>\n",
       "      <th>3</th>\n",
       "      <td>\"3630_4\"</td>\n",
       "      <td>0</td>\n",
       "      <td>\"It must be assumed that those who praised thi...</td>\n",
       "    </tr>\n",
       "    <tr>\n",
       "      <th>4</th>\n",
       "      <td>\"9495_8\"</td>\n",
       "      <td>1</td>\n",
       "      <td>\"Superbly trashy and wondrously unpretentious ...</td>\n",
       "    </tr>\n",
       "  </tbody>\n",
       "</table>\n",
       "</div>"
      ],
      "text/plain": [
       "         id  sentiment                                             review\n",
       "0  \"5814_8\"          1  \"With all this stuff going down at the moment ...\n",
       "1  \"2381_9\"          1  \"\\\"The Classic War of the Worlds\\\" by Timothy ...\n",
       "2  \"7759_3\"          0  \"The film starts with a manager (Nicholas Bell...\n",
       "3  \"3630_4\"          0  \"It must be assumed that those who praised thi...\n",
       "4  \"9495_8\"          1  \"Superbly trashy and wondrously unpretentious ..."
      ]
     },
     "execution_count": 63,
     "metadata": {},
     "output_type": "execute_result"
    }
   ],
   "source": [
    "train.head()"
   ]
  },
  {
   "cell_type": "code",
   "execution_count": 64,
   "metadata": {
    "colab": {
     "autoexec": {
      "startup": false,
      "wait_interval": 0
     },
     "base_uri": "https://localhost:8080/",
     "height": 34
    },
    "colab_type": "code",
    "collapsed": false,
    "executionInfo": {
     "elapsed": 541,
     "status": "ok",
     "timestamp": 1526410338193,
     "user": {
      "displayName": "이현경",
      "photoUrl": "https://lh3.googleusercontent.com/a/default-user=s128",
      "userId": "112345304399997048072"
     },
     "user_tz": -540
    },
    "id": "f7irCBDWJTtm",
    "outputId": "8bb87563-cb14-4f2c-d8fd-6cd4fe87dfda"
   },
   "outputs": [
    {
     "data": {
      "text/plain": [
       "(25000, 2)"
      ]
     },
     "execution_count": 64,
     "metadata": {},
     "output_type": "execute_result"
    }
   ],
   "source": [
    "test.shape"
   ]
  },
  {
   "cell_type": "code",
   "execution_count": 65,
   "metadata": {
    "colab": {
     "autoexec": {
      "startup": false,
      "wait_interval": 0
     },
     "base_uri": "https://localhost:8080/",
     "height": 195
    },
    "colab_type": "code",
    "collapsed": false,
    "executionInfo": {
     "elapsed": 592,
     "status": "ok",
     "timestamp": 1526410345848,
     "user": {
      "displayName": "이현경",
      "photoUrl": "https://lh3.googleusercontent.com/a/default-user=s128",
      "userId": "112345304399997048072"
     },
     "user_tz": -540
    },
    "id": "8upMxV5UJVxf",
    "outputId": "03f8e879-95df-48c7-cc54-22b14f5e285d"
   },
   "outputs": [
    {
     "data": {
      "text/html": [
       "<div>\n",
       "<style scoped>\n",
       "    .dataframe tbody tr th:only-of-type {\n",
       "        vertical-align: middle;\n",
       "    }\n",
       "\n",
       "    .dataframe tbody tr th {\n",
       "        vertical-align: top;\n",
       "    }\n",
       "\n",
       "    .dataframe thead th {\n",
       "        text-align: right;\n",
       "    }\n",
       "</style>\n",
       "<table border=\"1\" class=\"dataframe\">\n",
       "  <thead>\n",
       "    <tr style=\"text-align: right;\">\n",
       "      <th></th>\n",
       "      <th>id</th>\n",
       "      <th>sentiment</th>\n",
       "      <th>review</th>\n",
       "    </tr>\n",
       "  </thead>\n",
       "  <tbody>\n",
       "    <tr>\n",
       "      <th>0</th>\n",
       "      <td>\"5814_8\"</td>\n",
       "      <td>1</td>\n",
       "      <td>\"With all this stuff going down at the moment ...</td>\n",
       "    </tr>\n",
       "    <tr>\n",
       "      <th>1</th>\n",
       "      <td>\"2381_9\"</td>\n",
       "      <td>1</td>\n",
       "      <td>\"\\\"The Classic War of the Worlds\\\" by Timothy ...</td>\n",
       "    </tr>\n",
       "    <tr>\n",
       "      <th>2</th>\n",
       "      <td>\"7759_3\"</td>\n",
       "      <td>0</td>\n",
       "      <td>\"The film starts with a manager (Nicholas Bell...</td>\n",
       "    </tr>\n",
       "    <tr>\n",
       "      <th>3</th>\n",
       "      <td>\"3630_4\"</td>\n",
       "      <td>0</td>\n",
       "      <td>\"It must be assumed that those who praised thi...</td>\n",
       "    </tr>\n",
       "    <tr>\n",
       "      <th>4</th>\n",
       "      <td>\"9495_8\"</td>\n",
       "      <td>1</td>\n",
       "      <td>\"Superbly trashy and wondrously unpretentious ...</td>\n",
       "    </tr>\n",
       "  </tbody>\n",
       "</table>\n",
       "</div>"
      ],
      "text/plain": [
       "         id  sentiment                                             review\n",
       "0  \"5814_8\"          1  \"With all this stuff going down at the moment ...\n",
       "1  \"2381_9\"          1  \"\\\"The Classic War of the Worlds\\\" by Timothy ...\n",
       "2  \"7759_3\"          0  \"The film starts with a manager (Nicholas Bell...\n",
       "3  \"3630_4\"          0  \"It must be assumed that those who praised thi...\n",
       "4  \"9495_8\"          1  \"Superbly trashy and wondrously unpretentious ..."
      ]
     },
     "execution_count": 65,
     "metadata": {},
     "output_type": "execute_result"
    }
   ],
   "source": [
    "train.head()"
   ]
  },
  {
   "cell_type": "code",
   "execution_count": 66,
   "metadata": {
    "colab": {
     "autoexec": {
      "startup": false,
      "wait_interval": 0
     },
     "base_uri": "https://localhost:8080/",
     "height": 70
    },
    "colab_type": "code",
    "collapsed": false,
    "executionInfo": {
     "elapsed": 536,
     "status": "ok",
     "timestamp": 1526410353258,
     "user": {
      "displayName": "이현경",
      "photoUrl": "https://lh3.googleusercontent.com/a/default-user=s128",
      "userId": "112345304399997048072"
     },
     "user_tz": -540
    },
    "id": "Bb5a9tmXJXn_",
    "outputId": "e05f33ef-939e-4467-b336-2ec114cd868f"
   },
   "outputs": [
    {
     "data": {
      "text/plain": [
       "1    12500\n",
       "0    12500\n",
       "Name: sentiment, dtype: int64"
      ]
     },
     "execution_count": 66,
     "metadata": {},
     "output_type": "execute_result"
    }
   ],
   "source": [
    "train['sentiment'].value_counts()"
   ]
  },
  {
   "cell_type": "markdown",
   "metadata": {},
   "source": [
    "라벨이 1 인것과 0 인것의 갯수가 동일함<br>\n",
    "rating > 5 : 1 , rating < 5 : 0 "
   ]
  },
  {
   "cell_type": "code",
   "execution_count": 67,
   "metadata": {
    "colab": {
     "autoexec": {
      "startup": false,
      "wait_interval": 0
     },
     "base_uri": "https://localhost:8080/",
     "height": 34
    },
    "colab_type": "code",
    "collapsed": false,
    "executionInfo": {
     "elapsed": 522,
     "status": "ok",
     "timestamp": 1526410357834,
     "user": {
      "displayName": "이현경",
      "photoUrl": "https://lh3.googleusercontent.com/a/default-user=s128",
      "userId": "112345304399997048072"
     },
     "user_tz": -540
    },
    "id": "t5FLayI8JZcQ",
    "outputId": "1775c8c4-fffb-4762-8df7-cd7e02ac1a32"
   },
   "outputs": [
    {
     "data": {
      "text/plain": [
       "0"
      ]
     },
     "execution_count": 67,
     "metadata": {},
     "output_type": "execute_result"
    }
   ],
   "source": [
    "sum(train['id'].value_counts() > 1)"
   ]
  },
  {
   "cell_type": "markdown",
   "metadata": {},
   "source": [
    "id 가 1 이상인것은 0개 -> 중복이 없음"
   ]
  },
  {
   "cell_type": "code",
   "execution_count": 68,
   "metadata": {
    "colab": {
     "autoexec": {
      "startup": false,
      "wait_interval": 0
     },
     "base_uri": "https://localhost:8080/",
     "height": 54
    },
    "colab_type": "code",
    "collapsed": false,
    "executionInfo": {
     "elapsed": 606,
     "status": "ok",
     "timestamp": 1526410370545,
     "user": {
      "displayName": "이현경",
      "photoUrl": "https://lh3.googleusercontent.com/a/default-user=s128",
      "userId": "112345304399997048072"
     },
     "user_tz": -540
    },
    "id": "k8Io30lkJdU_",
    "outputId": "9c0fedad-8da3-440e-d7d8-b0f031b9e4a6"
   },
   "outputs": [
    {
     "data": {
      "text/plain": [
       "'\"With all this stuff going down at the moment with MJ i\\'ve started listening to his music, watching the odd documentary here and there, watched The Wiz and watched Moonwalker again. Maybe i just want to get a certain insight into this guy who i thought was really cool in the eighties just to maybe make up my mind whether he is guilty or innocent. Moonwalker is part biography, part feature film which i remember going to see at the cinema when it was originally released. Some of it has subtle messages about MJ\\'s feeling towards the press and also the obvious message of drugs are bad m\\'kay.<br /><br />Visually impressive but of course this is all about Michael Jackson so unless you remotely like MJ in anyway then you are going to hate this and find it boring. Some may call MJ an egotist for consenting to the making of this movie BUT MJ and most of his fans would say that he made it for the fans which if true is really nice of him.<br /><br />The actual feature film bit when it finally starts is only on for 20 minutes or so excluding the Smooth Criminal sequence and Joe Pesci is convincing as a psychopathic all powerful drug lord. Why he wants MJ dead so bad is beyond me. Because MJ overheard his plans? Nah, Joe Pesci\\'s character ranted that he wanted people to know it is he who is supplying drugs etc so i dunno, maybe he just hates MJ\\'s music.<br /><br />Lots of cool things in this like MJ turning into a car and a robot and the whole Speed Demon sequence. Also, the director must have had the patience of a saint when it came to filming the kiddy Bad sequence as usually directors hate working with one kid let alone a whole bunch of them performing a complex dance scene.<br /><br />Bottom line, this movie is for people who like MJ on one level or another (which i think is most people). If not, then stay away. It does try and give off a wholesome message and ironically MJ\\'s bestest buddy in this movie is a girl! Michael Jackson is truly one of the most talented people ever to grace this planet but is he guilty? Well, with all the attention i\\'ve gave this subject....hmmm well i don\\'t know because people can be different behind closed doors, i know this for a fact. He is either an extremely nice but stupid guy or one of the most sickest liars. I hope he is not the latter.\"'"
      ]
     },
     "execution_count": 68,
     "metadata": {},
     "output_type": "execute_result"
    }
   ],
   "source": [
    "train['review'][0]"
   ]
  },
  {
   "cell_type": "markdown",
   "metadata": {},
   "source": [
    "제거해야 할 태그, 특수문자 등이 보임"
   ]
  },
  {
   "cell_type": "markdown",
   "metadata": {
    "colab_type": "text",
    "id": "gn1hstfMgRso"
   },
   "source": [
    "# Part1 : 간단한 bag of words 실습 "
   ]
  },
  {
   "cell_type": "markdown",
   "metadata": {},
   "source": [
    "## 1. 데이터 전처리\n",
    "### 1-1. 태그 제거"
   ]
  },
  {
   "cell_type": "code",
   "execution_count": 69,
   "metadata": {
    "colab": {
     "autoexec": {
      "startup": false,
      "wait_interval": 0
     }
    },
    "colab_type": "code",
    "collapsed": true,
    "id": "1dJjgkCTJalw"
   },
   "outputs": [],
   "source": [
    "from bs4 import BeautifulSoup"
   ]
  },
  {
   "cell_type": "code",
   "execution_count": 70,
   "metadata": {
    "colab": {
     "autoexec": {
      "startup": false,
      "wait_interval": 0
     }
    },
    "colab_type": "code",
    "collapsed": true,
    "id": "srM6ouuPJgdN"
   },
   "outputs": [],
   "source": [
    "# 뷰솝의 .get_text() 함수 이용 (Tag 제거)\n",
    "clean_before = train['review'][0]\n",
    "clean_after = BeautifulSoup(train['review'][0], \"html5lib\").get_text()"
   ]
  },
  {
   "cell_type": "code",
   "execution_count": 71,
   "metadata": {
    "colab": {
     "autoexec": {
      "startup": false,
      "wait_interval": 0
     },
     "base_uri": "https://localhost:8080/",
     "height": 54
    },
    "colab_type": "code",
    "collapsed": false,
    "executionInfo": {
     "elapsed": 527,
     "status": "ok",
     "timestamp": 1526410395241,
     "user": {
      "displayName": "이현경",
      "photoUrl": "https://lh3.googleusercontent.com/a/default-user=s128",
      "userId": "112345304399997048072"
     },
     "user_tz": -540
    },
    "id": "kp6kK5KoJhwd",
    "outputId": "413ca3e7-b417-48a2-a413-5b6019a0e82d"
   },
   "outputs": [
    {
     "data": {
      "text/plain": [
       "'\"With all this stuff going down at the moment with MJ i\\'ve started listening to his music, watching the odd documentary here and there, watched The Wiz and watched Moonwalker again. Maybe i just want to get a certain insight into this guy who i thought was really cool in the eighties just to maybe make up my mind whether he is guilty or innocent. Moonwalker is part biography, part feature film which i remember going to see at the cinema when it was originally released. Some of it has subtle messages about MJ\\'s feeling towards the press and also the obvious message of drugs are bad m\\'kay.<br /><br />Visually impressive but of course this is all about Michael Jackson so unless you remotely like MJ in anyway then you are going to hate this and find it boring. Some may call MJ an egotist for consenting to the making of this movie BUT MJ and most of his fans would say that he made it for the fans which if true is really nice of him.<br /><br />The actual feature film bit when it finally starts is only on for 20 minutes or so excluding the Smooth Criminal sequence and Joe Pesci is convincing as a psychopathic all powerful drug lord. Why he wants MJ dead so bad is beyond me. Because MJ overheard his plans? Nah, Joe Pesci\\'s character ranted that he wanted people to know it is he who is supplying drugs etc so i dunno, maybe he just hates MJ\\'s music.<br /><br />Lots of cool things in this like MJ turning into a car and a robot and the whole Speed Demon sequence. Also, the director must have had the patience of a saint when it came to filming the kiddy Bad sequence as usually directors hate working with one kid let alone a whole bunch of them performing a complex dance scene.<br /><br />Bottom line, this movie is for people who like MJ on one level or another (which i think is most people). If not, then stay away. It does try and give off a wholesome message and ironically MJ\\'s bestest buddy in this movie is a girl! Michael Jackson is truly one of the most talented people ever to grace this planet but is he guilty? Well, with all the attention i\\'ve gave this subject....hmmm well i don\\'t know because people can be different behind closed doors, i know this for a fact. He is either an extremely nice but stupid guy or one of the most sickest liars. I hope he is not the latter.\"'"
      ]
     },
     "execution_count": 71,
     "metadata": {},
     "output_type": "execute_result"
    }
   ],
   "source": [
    "clean_before"
   ]
  },
  {
   "cell_type": "code",
   "execution_count": 72,
   "metadata": {
    "colab": {
     "autoexec": {
      "startup": false,
      "wait_interval": 0
     },
     "base_uri": "https://localhost:8080/",
     "height": 54
    },
    "colab_type": "code",
    "collapsed": false,
    "executionInfo": {
     "elapsed": 569,
     "status": "ok",
     "timestamp": 1526410400913,
     "user": {
      "displayName": "이현경",
      "photoUrl": "https://lh3.googleusercontent.com/a/default-user=s128",
      "userId": "112345304399997048072"
     },
     "user_tz": -540
    },
    "id": "uaaqg23IJjst",
    "outputId": "cffe67d3-527a-4def-abec-528e72faa901"
   },
   "outputs": [
    {
     "data": {
      "text/plain": [
       "'\"With all this stuff going down at the moment with MJ i\\'ve started listening to his music, watching the odd documentary here and there, watched The Wiz and watched Moonwalker again. Maybe i just want to get a certain insight into this guy who i thought was really cool in the eighties just to maybe make up my mind whether he is guilty or innocent. Moonwalker is part biography, part feature film which i remember going to see at the cinema when it was originally released. Some of it has subtle messages about MJ\\'s feeling towards the press and also the obvious message of drugs are bad m\\'kay.Visually impressive but of course this is all about Michael Jackson so unless you remotely like MJ in anyway then you are going to hate this and find it boring. Some may call MJ an egotist for consenting to the making of this movie BUT MJ and most of his fans would say that he made it for the fans which if true is really nice of him.The actual feature film bit when it finally starts is only on for 20 minutes or so excluding the Smooth Criminal sequence and Joe Pesci is convincing as a psychopathic all powerful drug lord. Why he wants MJ dead so bad is beyond me. Because MJ overheard his plans? Nah, Joe Pesci\\'s character ranted that he wanted people to know it is he who is supplying drugs etc so i dunno, maybe he just hates MJ\\'s music.Lots of cool things in this like MJ turning into a car and a robot and the whole Speed Demon sequence. Also, the director must have had the patience of a saint when it came to filming the kiddy Bad sequence as usually directors hate working with one kid let alone a whole bunch of them performing a complex dance scene.Bottom line, this movie is for people who like MJ on one level or another (which i think is most people). If not, then stay away. It does try and give off a wholesome message and ironically MJ\\'s bestest buddy in this movie is a girl! Michael Jackson is truly one of the most talented people ever to grace this planet but is he guilty? Well, with all the attention i\\'ve gave this subject....hmmm well i don\\'t know because people can be different behind closed doors, i know this for a fact. He is either an extremely nice but stupid guy or one of the most sickest liars. I hope he is not the latter.\"'"
      ]
     },
     "execution_count": 72,
     "metadata": {},
     "output_type": "execute_result"
    }
   ],
   "source": [
    "clean_after"
   ]
  },
  {
   "cell_type": "markdown",
   "metadata": {},
   "source": [
    "### 1-2. 특수문자 제거"
   ]
  },
  {
   "cell_type": "code",
   "execution_count": 73,
   "metadata": {
    "colab": {
     "autoexec": {
      "startup": false,
      "wait_interval": 0
     },
     "base_uri": "https://localhost:8080/",
     "height": 54
    },
    "colab_type": "code",
    "collapsed": false,
    "executionInfo": {
     "elapsed": 582,
     "status": "ok",
     "timestamp": 1526410418361,
     "user": {
      "displayName": "이현경",
      "photoUrl": "https://lh3.googleusercontent.com/a/default-user=s128",
      "userId": "112345304399997048072"
     },
     "user_tz": -540
    },
    "id": "3GWeJEPXJlDd",
    "outputId": "67bd94cb-c736-4004-9b79-c89249df7311"
   },
   "outputs": [
    {
     "data": {
      "text/plain": [
       "' With all this stuff going down at the moment with MJ i ve started listening to his music  watching the odd documentary here and there  watched The Wiz and watched Moonwalker again  Maybe i just want to get a certain insight into this guy who i thought was really cool in the eighties just to maybe make up my mind whether he is guilty or innocent  Moonwalker is part biography  part feature film which i remember going to see at the cinema when it was originally released  Some of it has subtle messages about MJ s feeling towards the press and also the obvious message of drugs are bad m kay Visually impressive but of course this is all about Michael Jackson so unless you remotely like MJ in anyway then you are going to hate this and find it boring  Some may call MJ an egotist for consenting to the making of this movie BUT MJ and most of his fans would say that he made it for the fans which if true is really nice of him The actual feature film bit when it finally starts is only on for    minutes or so excluding the Smooth Criminal sequence and Joe Pesci is convincing as a psychopathic all powerful drug lord  Why he wants MJ dead so bad is beyond me  Because MJ overheard his plans  Nah  Joe Pesci s character ranted that he wanted people to know it is he who is supplying drugs etc so i dunno  maybe he just hates MJ s music Lots of cool things in this like MJ turning into a car and a robot and the whole Speed Demon sequence  Also  the director must have had the patience of a saint when it came to filming the kiddy Bad sequence as usually directors hate working with one kid let alone a whole bunch of them performing a complex dance scene Bottom line  this movie is for people who like MJ on one level or another  which i think is most people   If not  then stay away  It does try and give off a wholesome message and ironically MJ s bestest buddy in this movie is a girl  Michael Jackson is truly one of the most talented people ever to grace this planet but is he guilty  Well  with all the attention i ve gave this subject    hmmm well i don t know because people can be different behind closed doors  i know this for a fact  He is either an extremely nice but stupid guy or one of the most sickest liars  I hope he is not the latter  '"
      ]
     },
     "execution_count": 73,
     "metadata": {},
     "output_type": "execute_result"
    }
   ],
   "source": [
    "import re\n",
    "\n",
    "clean_after2 = re.sub('[^a-zA-Z]', ' ', clean_after)\n",
    "clean_after2"
   ]
  },
  {
   "cell_type": "markdown",
   "metadata": {},
   "source": [
    "### 1-3. 모두 소문자로 바꾸기"
   ]
  },
  {
   "cell_type": "code",
   "execution_count": 74,
   "metadata": {
    "colab": {
     "autoexec": {
      "startup": false,
      "wait_interval": 0
     },
     "base_uri": "https://localhost:8080/",
     "height": 54
    },
    "colab_type": "code",
    "collapsed": false,
    "executionInfo": {
     "elapsed": 525,
     "status": "ok",
     "timestamp": 1526410425433,
     "user": {
      "displayName": "이현경",
      "photoUrl": "https://lh3.googleusercontent.com/a/default-user=s128",
      "userId": "112345304399997048072"
     },
     "user_tz": -540
    },
    "id": "16-Rfp00JpVJ",
    "outputId": "55c20ad3-647e-4305-f01f-abd5d112b926"
   },
   "outputs": [
    {
     "data": {
      "text/plain": [
       "' with all this stuff going down at the moment with mj i ve started listening to his music  watching the odd documentary here and there  watched the wiz and watched moonwalker again  maybe i just want to get a certain insight into this guy who i thought was really cool in the eighties just to maybe make up my mind whether he is guilty or innocent  moonwalker is part biography  part feature film which i remember going to see at the cinema when it was originally released  some of it has subtle messages about mj s feeling towards the press and also the obvious message of drugs are bad m kay visually impressive but of course this is all about michael jackson so unless you remotely like mj in anyway then you are going to hate this and find it boring  some may call mj an egotist for consenting to the making of this movie but mj and most of his fans would say that he made it for the fans which if true is really nice of him the actual feature film bit when it finally starts is only on for    minutes or so excluding the smooth criminal sequence and joe pesci is convincing as a psychopathic all powerful drug lord  why he wants mj dead so bad is beyond me  because mj overheard his plans  nah  joe pesci s character ranted that he wanted people to know it is he who is supplying drugs etc so i dunno  maybe he just hates mj s music lots of cool things in this like mj turning into a car and a robot and the whole speed demon sequence  also  the director must have had the patience of a saint when it came to filming the kiddy bad sequence as usually directors hate working with one kid let alone a whole bunch of them performing a complex dance scene bottom line  this movie is for people who like mj on one level or another  which i think is most people   if not  then stay away  it does try and give off a wholesome message and ironically mj s bestest buddy in this movie is a girl  michael jackson is truly one of the most talented people ever to grace this planet but is he guilty  well  with all the attention i ve gave this subject    hmmm well i don t know because people can be different behind closed doors  i know this for a fact  he is either an extremely nice but stupid guy or one of the most sickest liars  i hope he is not the latter  '"
      ]
     },
     "execution_count": 74,
     "metadata": {},
     "output_type": "execute_result"
    }
   ],
   "source": [
    "clean_after3 = clean_after2.lower()\n",
    "clean_after3"
   ]
  },
  {
   "cell_type": "markdown",
   "metadata": {},
   "source": [
    "### 1-4. stopwords 처리 (의미 없는 단어를 처리)"
   ]
  },
  {
   "cell_type": "code",
   "execution_count": 75,
   "metadata": {
    "colab": {
     "autoexec": {
      "startup": false,
      "wait_interval": 0
     }
    },
    "colab_type": "code",
    "collapsed": true,
    "id": "5vd_ltpEJrDP"
   },
   "outputs": [],
   "source": [
    "stopwords = ['i', 'me', 'my', 'myself', 'we', 'our', 'ours', 'ourselves', 'you', 'your', 'the', 'to', 'is', 'are', 'this', 'that']"
   ]
  },
  {
   "cell_type": "code",
   "execution_count": 76,
   "metadata": {
    "colab": {
     "autoexec": {
      "startup": false,
      "wait_interval": 0
     },
     "base_uri": "https://localhost:8080/",
     "height": 6423
    },
    "colab_type": "code",
    "collapsed": false,
    "executionInfo": {
     "elapsed": 540,
     "status": "ok",
     "timestamp": 1526410439277,
     "user": {
      "displayName": "이현경",
      "photoUrl": "https://lh3.googleusercontent.com/a/default-user=s128",
      "userId": "112345304399997048072"
     },
     "user_tz": -540
    },
    "id": "6kg9CEVpJtdf",
    "outputId": "5020ab4d-e593-43f8-8d93-afd0d1a56ac0"
   },
   "outputs": [
    {
     "data": {
      "text/plain": [
       "['with',\n",
       " 'all',\n",
       " 'stuff',\n",
       " 'going',\n",
       " 'down',\n",
       " 'at',\n",
       " 'moment',\n",
       " 'with',\n",
       " 'mj',\n",
       " 've',\n",
       " 'started',\n",
       " 'listening',\n",
       " 'his',\n",
       " 'music',\n",
       " 'watching',\n",
       " 'odd',\n",
       " 'documentary',\n",
       " 'here',\n",
       " 'and',\n",
       " 'there',\n",
       " 'watched',\n",
       " 'wiz',\n",
       " 'and',\n",
       " 'watched',\n",
       " 'moonwalker',\n",
       " 'again',\n",
       " 'maybe',\n",
       " 'just',\n",
       " 'want',\n",
       " 'get',\n",
       " 'a',\n",
       " 'certain',\n",
       " 'insight',\n",
       " 'into',\n",
       " 'guy',\n",
       " 'who',\n",
       " 'thought',\n",
       " 'was',\n",
       " 'really',\n",
       " 'cool',\n",
       " 'in',\n",
       " 'eighties',\n",
       " 'just',\n",
       " 'maybe',\n",
       " 'make',\n",
       " 'up',\n",
       " 'mind',\n",
       " 'whether',\n",
       " 'he',\n",
       " 'guilty',\n",
       " 'or',\n",
       " 'innocent',\n",
       " 'moonwalker',\n",
       " 'part',\n",
       " 'biography',\n",
       " 'part',\n",
       " 'feature',\n",
       " 'film',\n",
       " 'which',\n",
       " 'remember',\n",
       " 'going',\n",
       " 'see',\n",
       " 'at',\n",
       " 'cinema',\n",
       " 'when',\n",
       " 'it',\n",
       " 'was',\n",
       " 'originally',\n",
       " 'released',\n",
       " 'some',\n",
       " 'of',\n",
       " 'it',\n",
       " 'has',\n",
       " 'subtle',\n",
       " 'messages',\n",
       " 'about',\n",
       " 'mj',\n",
       " 's',\n",
       " 'feeling',\n",
       " 'towards',\n",
       " 'press',\n",
       " 'and',\n",
       " 'also',\n",
       " 'obvious',\n",
       " 'message',\n",
       " 'of',\n",
       " 'drugs',\n",
       " 'bad',\n",
       " 'm',\n",
       " 'kay',\n",
       " 'visually',\n",
       " 'impressive',\n",
       " 'but',\n",
       " 'of',\n",
       " 'course',\n",
       " 'all',\n",
       " 'about',\n",
       " 'michael',\n",
       " 'jackson',\n",
       " 'so',\n",
       " 'unless',\n",
       " 'remotely',\n",
       " 'like',\n",
       " 'mj',\n",
       " 'in',\n",
       " 'anyway',\n",
       " 'then',\n",
       " 'going',\n",
       " 'hate',\n",
       " 'and',\n",
       " 'find',\n",
       " 'it',\n",
       " 'boring',\n",
       " 'some',\n",
       " 'may',\n",
       " 'call',\n",
       " 'mj',\n",
       " 'an',\n",
       " 'egotist',\n",
       " 'for',\n",
       " 'consenting',\n",
       " 'making',\n",
       " 'of',\n",
       " 'movie',\n",
       " 'but',\n",
       " 'mj',\n",
       " 'and',\n",
       " 'most',\n",
       " 'of',\n",
       " 'his',\n",
       " 'fans',\n",
       " 'would',\n",
       " 'say',\n",
       " 'he',\n",
       " 'made',\n",
       " 'it',\n",
       " 'for',\n",
       " 'fans',\n",
       " 'which',\n",
       " 'if',\n",
       " 'true',\n",
       " 'really',\n",
       " 'nice',\n",
       " 'of',\n",
       " 'him',\n",
       " 'actual',\n",
       " 'feature',\n",
       " 'film',\n",
       " 'bit',\n",
       " 'when',\n",
       " 'it',\n",
       " 'finally',\n",
       " 'starts',\n",
       " 'only',\n",
       " 'on',\n",
       " 'for',\n",
       " 'minutes',\n",
       " 'or',\n",
       " 'so',\n",
       " 'excluding',\n",
       " 'smooth',\n",
       " 'criminal',\n",
       " 'sequence',\n",
       " 'and',\n",
       " 'joe',\n",
       " 'pesci',\n",
       " 'convincing',\n",
       " 'as',\n",
       " 'a',\n",
       " 'psychopathic',\n",
       " 'all',\n",
       " 'powerful',\n",
       " 'drug',\n",
       " 'lord',\n",
       " 'why',\n",
       " 'he',\n",
       " 'wants',\n",
       " 'mj',\n",
       " 'dead',\n",
       " 'so',\n",
       " 'bad',\n",
       " 'beyond',\n",
       " 'because',\n",
       " 'mj',\n",
       " 'overheard',\n",
       " 'his',\n",
       " 'plans',\n",
       " 'nah',\n",
       " 'joe',\n",
       " 'pesci',\n",
       " 's',\n",
       " 'character',\n",
       " 'ranted',\n",
       " 'he',\n",
       " 'wanted',\n",
       " 'people',\n",
       " 'know',\n",
       " 'it',\n",
       " 'he',\n",
       " 'who',\n",
       " 'supplying',\n",
       " 'drugs',\n",
       " 'etc',\n",
       " 'so',\n",
       " 'dunno',\n",
       " 'maybe',\n",
       " 'he',\n",
       " 'just',\n",
       " 'hates',\n",
       " 'mj',\n",
       " 's',\n",
       " 'music',\n",
       " 'lots',\n",
       " 'of',\n",
       " 'cool',\n",
       " 'things',\n",
       " 'in',\n",
       " 'like',\n",
       " 'mj',\n",
       " 'turning',\n",
       " 'into',\n",
       " 'a',\n",
       " 'car',\n",
       " 'and',\n",
       " 'a',\n",
       " 'robot',\n",
       " 'and',\n",
       " 'whole',\n",
       " 'speed',\n",
       " 'demon',\n",
       " 'sequence',\n",
       " 'also',\n",
       " 'director',\n",
       " 'must',\n",
       " 'have',\n",
       " 'had',\n",
       " 'patience',\n",
       " 'of',\n",
       " 'a',\n",
       " 'saint',\n",
       " 'when',\n",
       " 'it',\n",
       " 'came',\n",
       " 'filming',\n",
       " 'kiddy',\n",
       " 'bad',\n",
       " 'sequence',\n",
       " 'as',\n",
       " 'usually',\n",
       " 'directors',\n",
       " 'hate',\n",
       " 'working',\n",
       " 'with',\n",
       " 'one',\n",
       " 'kid',\n",
       " 'let',\n",
       " 'alone',\n",
       " 'a',\n",
       " 'whole',\n",
       " 'bunch',\n",
       " 'of',\n",
       " 'them',\n",
       " 'performing',\n",
       " 'a',\n",
       " 'complex',\n",
       " 'dance',\n",
       " 'scene',\n",
       " 'bottom',\n",
       " 'line',\n",
       " 'movie',\n",
       " 'for',\n",
       " 'people',\n",
       " 'who',\n",
       " 'like',\n",
       " 'mj',\n",
       " 'on',\n",
       " 'one',\n",
       " 'level',\n",
       " 'or',\n",
       " 'another',\n",
       " 'which',\n",
       " 'think',\n",
       " 'most',\n",
       " 'people',\n",
       " 'if',\n",
       " 'not',\n",
       " 'then',\n",
       " 'stay',\n",
       " 'away',\n",
       " 'it',\n",
       " 'does',\n",
       " 'try',\n",
       " 'and',\n",
       " 'give',\n",
       " 'off',\n",
       " 'a',\n",
       " 'wholesome',\n",
       " 'message',\n",
       " 'and',\n",
       " 'ironically',\n",
       " 'mj',\n",
       " 's',\n",
       " 'bestest',\n",
       " 'buddy',\n",
       " 'in',\n",
       " 'movie',\n",
       " 'a',\n",
       " 'girl',\n",
       " 'michael',\n",
       " 'jackson',\n",
       " 'truly',\n",
       " 'one',\n",
       " 'of',\n",
       " 'most',\n",
       " 'talented',\n",
       " 'people',\n",
       " 'ever',\n",
       " 'grace',\n",
       " 'planet',\n",
       " 'but',\n",
       " 'he',\n",
       " 'guilty',\n",
       " 'well',\n",
       " 'with',\n",
       " 'all',\n",
       " 'attention',\n",
       " 've',\n",
       " 'gave',\n",
       " 'subject',\n",
       " 'hmmm',\n",
       " 'well',\n",
       " 'don',\n",
       " 't',\n",
       " 'know',\n",
       " 'because',\n",
       " 'people',\n",
       " 'can',\n",
       " 'be',\n",
       " 'different',\n",
       " 'behind',\n",
       " 'closed',\n",
       " 'doors',\n",
       " 'know',\n",
       " 'for',\n",
       " 'a',\n",
       " 'fact',\n",
       " 'he',\n",
       " 'either',\n",
       " 'an',\n",
       " 'extremely',\n",
       " 'nice',\n",
       " 'but',\n",
       " 'stupid',\n",
       " 'guy',\n",
       " 'or',\n",
       " 'one',\n",
       " 'of',\n",
       " 'most',\n",
       " 'sickest',\n",
       " 'liars',\n",
       " 'hope',\n",
       " 'he',\n",
       " 'not',\n",
       " 'latter']"
      ]
     },
     "execution_count": 76,
     "metadata": {},
     "output_type": "execute_result"
    }
   ],
   "source": [
    "clean_after4 = [w for w in clean_after3.split() if not w in stopwords]\n",
    "clean_after4"
   ]
  },
  {
   "cell_type": "markdown",
   "metadata": {},
   "source": [
    "### 1-5. stemming (do, does, doing -> Do 어근에서 파생, 한 단어로 처리)"
   ]
  },
  {
   "cell_type": "code",
   "execution_count": 77,
   "metadata": {
    "colab": {
     "autoexec": {
      "startup": false,
      "wait_interval": 0
     }
    },
    "colab_type": "code",
    "collapsed": true,
    "id": "rbR2F9DKJudG"
   },
   "outputs": [],
   "source": [
    "from nltk.stem.snowball import SnowballStemmer\n",
    "\n",
    "stemmer = SnowballStemmer('english')\n",
    "clean_after5 = [stemmer.stem(w) for w in clean_after4]"
   ]
  },
  {
   "cell_type": "code",
   "execution_count": 78,
   "metadata": {
    "colab": {
     "autoexec": {
      "startup": false,
      "wait_interval": 0
     },
     "base_uri": "https://localhost:8080/",
     "height": 6423
    },
    "colab_type": "code",
    "collapsed": false,
    "executionInfo": {
     "elapsed": 549,
     "status": "ok",
     "timestamp": 1526410512817,
     "user": {
      "displayName": "이현경",
      "photoUrl": "https://lh3.googleusercontent.com/a/default-user=s128",
      "userId": "112345304399997048072"
     },
     "user_tz": -540
    },
    "id": "KRSMsWVAJwV1",
    "outputId": "20b18279-7dad-469e-c8bb-d172d6fef7a0"
   },
   "outputs": [
    {
     "data": {
      "text/plain": [
       "['with',\n",
       " 'all',\n",
       " 'stuff',\n",
       " 'go',\n",
       " 'down',\n",
       " 'at',\n",
       " 'moment',\n",
       " 'with',\n",
       " 'mj',\n",
       " 've',\n",
       " 'start',\n",
       " 'listen',\n",
       " 'his',\n",
       " 'music',\n",
       " 'watch',\n",
       " 'odd',\n",
       " 'documentari',\n",
       " 'here',\n",
       " 'and',\n",
       " 'there',\n",
       " 'watch',\n",
       " 'wiz',\n",
       " 'and',\n",
       " 'watch',\n",
       " 'moonwalk',\n",
       " 'again',\n",
       " 'mayb',\n",
       " 'just',\n",
       " 'want',\n",
       " 'get',\n",
       " 'a',\n",
       " 'certain',\n",
       " 'insight',\n",
       " 'into',\n",
       " 'guy',\n",
       " 'who',\n",
       " 'thought',\n",
       " 'was',\n",
       " 'realli',\n",
       " 'cool',\n",
       " 'in',\n",
       " 'eighti',\n",
       " 'just',\n",
       " 'mayb',\n",
       " 'make',\n",
       " 'up',\n",
       " 'mind',\n",
       " 'whether',\n",
       " 'he',\n",
       " 'guilti',\n",
       " 'or',\n",
       " 'innoc',\n",
       " 'moonwalk',\n",
       " 'part',\n",
       " 'biographi',\n",
       " 'part',\n",
       " 'featur',\n",
       " 'film',\n",
       " 'which',\n",
       " 'rememb',\n",
       " 'go',\n",
       " 'see',\n",
       " 'at',\n",
       " 'cinema',\n",
       " 'when',\n",
       " 'it',\n",
       " 'was',\n",
       " 'origin',\n",
       " 'releas',\n",
       " 'some',\n",
       " 'of',\n",
       " 'it',\n",
       " 'has',\n",
       " 'subtl',\n",
       " 'messag',\n",
       " 'about',\n",
       " 'mj',\n",
       " 's',\n",
       " 'feel',\n",
       " 'toward',\n",
       " 'press',\n",
       " 'and',\n",
       " 'also',\n",
       " 'obvious',\n",
       " 'messag',\n",
       " 'of',\n",
       " 'drug',\n",
       " 'bad',\n",
       " 'm',\n",
       " 'kay',\n",
       " 'visual',\n",
       " 'impress',\n",
       " 'but',\n",
       " 'of',\n",
       " 'cours',\n",
       " 'all',\n",
       " 'about',\n",
       " 'michael',\n",
       " 'jackson',\n",
       " 'so',\n",
       " 'unless',\n",
       " 'remot',\n",
       " 'like',\n",
       " 'mj',\n",
       " 'in',\n",
       " 'anyway',\n",
       " 'then',\n",
       " 'go',\n",
       " 'hate',\n",
       " 'and',\n",
       " 'find',\n",
       " 'it',\n",
       " 'bore',\n",
       " 'some',\n",
       " 'may',\n",
       " 'call',\n",
       " 'mj',\n",
       " 'an',\n",
       " 'egotist',\n",
       " 'for',\n",
       " 'consent',\n",
       " 'make',\n",
       " 'of',\n",
       " 'movi',\n",
       " 'but',\n",
       " 'mj',\n",
       " 'and',\n",
       " 'most',\n",
       " 'of',\n",
       " 'his',\n",
       " 'fan',\n",
       " 'would',\n",
       " 'say',\n",
       " 'he',\n",
       " 'made',\n",
       " 'it',\n",
       " 'for',\n",
       " 'fan',\n",
       " 'which',\n",
       " 'if',\n",
       " 'true',\n",
       " 'realli',\n",
       " 'nice',\n",
       " 'of',\n",
       " 'him',\n",
       " 'actual',\n",
       " 'featur',\n",
       " 'film',\n",
       " 'bit',\n",
       " 'when',\n",
       " 'it',\n",
       " 'final',\n",
       " 'start',\n",
       " 'onli',\n",
       " 'on',\n",
       " 'for',\n",
       " 'minut',\n",
       " 'or',\n",
       " 'so',\n",
       " 'exclud',\n",
       " 'smooth',\n",
       " 'crimin',\n",
       " 'sequenc',\n",
       " 'and',\n",
       " 'joe',\n",
       " 'pesci',\n",
       " 'convinc',\n",
       " 'as',\n",
       " 'a',\n",
       " 'psychopath',\n",
       " 'all',\n",
       " 'power',\n",
       " 'drug',\n",
       " 'lord',\n",
       " 'whi',\n",
       " 'he',\n",
       " 'want',\n",
       " 'mj',\n",
       " 'dead',\n",
       " 'so',\n",
       " 'bad',\n",
       " 'beyond',\n",
       " 'becaus',\n",
       " 'mj',\n",
       " 'overheard',\n",
       " 'his',\n",
       " 'plan',\n",
       " 'nah',\n",
       " 'joe',\n",
       " 'pesci',\n",
       " 's',\n",
       " 'charact',\n",
       " 'rant',\n",
       " 'he',\n",
       " 'want',\n",
       " 'peopl',\n",
       " 'know',\n",
       " 'it',\n",
       " 'he',\n",
       " 'who',\n",
       " 'suppli',\n",
       " 'drug',\n",
       " 'etc',\n",
       " 'so',\n",
       " 'dunno',\n",
       " 'mayb',\n",
       " 'he',\n",
       " 'just',\n",
       " 'hate',\n",
       " 'mj',\n",
       " 's',\n",
       " 'music',\n",
       " 'lot',\n",
       " 'of',\n",
       " 'cool',\n",
       " 'thing',\n",
       " 'in',\n",
       " 'like',\n",
       " 'mj',\n",
       " 'turn',\n",
       " 'into',\n",
       " 'a',\n",
       " 'car',\n",
       " 'and',\n",
       " 'a',\n",
       " 'robot',\n",
       " 'and',\n",
       " 'whole',\n",
       " 'speed',\n",
       " 'demon',\n",
       " 'sequenc',\n",
       " 'also',\n",
       " 'director',\n",
       " 'must',\n",
       " 'have',\n",
       " 'had',\n",
       " 'patienc',\n",
       " 'of',\n",
       " 'a',\n",
       " 'saint',\n",
       " 'when',\n",
       " 'it',\n",
       " 'came',\n",
       " 'film',\n",
       " 'kiddi',\n",
       " 'bad',\n",
       " 'sequenc',\n",
       " 'as',\n",
       " 'usual',\n",
       " 'director',\n",
       " 'hate',\n",
       " 'work',\n",
       " 'with',\n",
       " 'one',\n",
       " 'kid',\n",
       " 'let',\n",
       " 'alon',\n",
       " 'a',\n",
       " 'whole',\n",
       " 'bunch',\n",
       " 'of',\n",
       " 'them',\n",
       " 'perform',\n",
       " 'a',\n",
       " 'complex',\n",
       " 'danc',\n",
       " 'scene',\n",
       " 'bottom',\n",
       " 'line',\n",
       " 'movi',\n",
       " 'for',\n",
       " 'peopl',\n",
       " 'who',\n",
       " 'like',\n",
       " 'mj',\n",
       " 'on',\n",
       " 'one',\n",
       " 'level',\n",
       " 'or',\n",
       " 'anoth',\n",
       " 'which',\n",
       " 'think',\n",
       " 'most',\n",
       " 'peopl',\n",
       " 'if',\n",
       " 'not',\n",
       " 'then',\n",
       " 'stay',\n",
       " 'away',\n",
       " 'it',\n",
       " 'doe',\n",
       " 'tri',\n",
       " 'and',\n",
       " 'give',\n",
       " 'off',\n",
       " 'a',\n",
       " 'wholesom',\n",
       " 'messag',\n",
       " 'and',\n",
       " 'iron',\n",
       " 'mj',\n",
       " 's',\n",
       " 'bestest',\n",
       " 'buddi',\n",
       " 'in',\n",
       " 'movi',\n",
       " 'a',\n",
       " 'girl',\n",
       " 'michael',\n",
       " 'jackson',\n",
       " 'truli',\n",
       " 'one',\n",
       " 'of',\n",
       " 'most',\n",
       " 'talent',\n",
       " 'peopl',\n",
       " 'ever',\n",
       " 'grace',\n",
       " 'planet',\n",
       " 'but',\n",
       " 'he',\n",
       " 'guilti',\n",
       " 'well',\n",
       " 'with',\n",
       " 'all',\n",
       " 'attent',\n",
       " 've',\n",
       " 'gave',\n",
       " 'subject',\n",
       " 'hmmm',\n",
       " 'well',\n",
       " 'don',\n",
       " 't',\n",
       " 'know',\n",
       " 'becaus',\n",
       " 'peopl',\n",
       " 'can',\n",
       " 'be',\n",
       " 'differ',\n",
       " 'behind',\n",
       " 'close',\n",
       " 'door',\n",
       " 'know',\n",
       " 'for',\n",
       " 'a',\n",
       " 'fact',\n",
       " 'he',\n",
       " 'either',\n",
       " 'an',\n",
       " 'extrem',\n",
       " 'nice',\n",
       " 'but',\n",
       " 'stupid',\n",
       " 'guy',\n",
       " 'or',\n",
       " 'one',\n",
       " 'of',\n",
       " 'most',\n",
       " 'sickest',\n",
       " 'liar',\n",
       " 'hope',\n",
       " 'he',\n",
       " 'not',\n",
       " 'latter']"
      ]
     },
     "execution_count": 78,
     "metadata": {},
     "output_type": "execute_result"
    }
   ],
   "source": [
    "clean_after5"
   ]
  },
  {
   "cell_type": "code",
   "execution_count": 79,
   "metadata": {
    "colab": {
     "autoexec": {
      "startup": false,
      "wait_interval": 0
     },
     "base_uri": "https://localhost:8080/",
     "height": 34
    },
    "colab_type": "code",
    "collapsed": false,
    "executionInfo": {
     "elapsed": 658,
     "status": "ok",
     "timestamp": 1526410516537,
     "user": {
      "displayName": "이현경",
      "photoUrl": "https://lh3.googleusercontent.com/a/default-user=s128",
      "userId": "112345304399997048072"
     },
     "user_tz": -540
    },
    "id": "8xmiY99bJylk",
    "outputId": "6fcafb24-9e7f-4df4-9ba2-409b79040910"
   },
   "outputs": [
    {
     "data": {
      "text/plain": [
       "True"
      ]
     },
     "execution_count": 79,
     "metadata": {},
     "output_type": "execute_result"
    }
   ],
   "source": [
    "clean_after5[0] == 'with'"
   ]
  },
  {
   "cell_type": "markdown",
   "metadata": {},
   "source": [
    "### 함수로 만들기"
   ]
  },
  {
   "cell_type": "code",
   "execution_count": 80,
   "metadata": {
    "colab": {
     "autoexec": {
      "startup": false,
      "wait_interval": 0
     }
    },
    "colab_type": "code",
    "collapsed": true,
    "id": "s-pFxZipKBSv"
   },
   "outputs": [],
   "source": [
    "def clean(data):\n",
    "    # 1. 태그 제거\n",
    "    review_text = BeautifulSoup(data, 'html.parser').get_text()\n",
    "    # 2. 특수문자 제거\n",
    "    letters_only = re.sub('[^a-zA-Z]', ' ', review_text)\n",
    "    # 3. 대소문자 변환\n",
    "    words = letters_only.lower().split()\n",
    "    # 4. stopwords 제거\n",
    "    stops = ['i', 'me', 'my', 'myself', 'we', 'our', 'ours', 'ourselves', 'you', 'your', 'the', 'to', 'is', 'are', 'this', 'that']\n",
    "    meaningful_words = [w for w in words if not w in stops]\n",
    "    # 5. 형태소 분석\n",
    "    stemming_words = [stemmer.stem(w) for w in meaningful_words]\n",
    "    # 공백 추가해서 반환\n",
    "    return( ' '.join(stemming_words) )"
   ]
  },
  {
   "cell_type": "code",
   "execution_count": 81,
   "metadata": {
    "colab": {
     "autoexec": {
      "startup": false,
      "wait_interval": 0
     },
     "base_uri": "https://localhost:8080/",
     "height": 34
    },
    "colab_type": "code",
    "collapsed": false,
    "executionInfo": {
     "elapsed": 553,
     "status": "ok",
     "timestamp": 1526410529758,
     "user": {
      "displayName": "이현경",
      "photoUrl": "https://lh3.googleusercontent.com/a/default-user=s128",
      "userId": "112345304399997048072"
     },
     "user_tz": -540
    },
    "id": "hWsyiqm7KDHk",
    "outputId": "f39fe851-2623-4c57-dbcc-7a95e8a22f7a"
   },
   "outputs": [
    {
     "data": {
      "text/plain": [
       "25000"
      ]
     },
     "execution_count": 81,
     "metadata": {},
     "output_type": "execute_result"
    }
   ],
   "source": [
    "tr_num = len(train['review'])\n",
    "tr_num"
   ]
  },
  {
   "cell_type": "markdown",
   "metadata": {},
   "source": [
    "### 병렬처리 하기"
   ]
  },
  {
   "cell_type": "code",
   "execution_count": 82,
   "metadata": {
    "colab": {
     "autoexec": {
      "startup": false,
      "wait_interval": 0
     }
    },
    "colab_type": "code",
    "collapsed": true,
    "id": "GcdtYiwuKEhu"
   },
   "outputs": [],
   "source": [
    "from multiprocessing import Pool\n",
    "import numpy as np\n",
    "\n",
    "def apply_df(args): # for문보다 apply가 훨씬 속도가 빠르다.\n",
    "    # argument 로 넘겨줄 것들\n",
    "    df, func, kwargs = args\n",
    "    # df 의 열 기준으로 func 과 args 를 적용\n",
    "    # 이 때 kwargs 는 이름이 있는 argument 이므로 **kwargs 로 넘겨줌\n",
    "    return df.apply(func, **kwargs) # ** => 이 argument의 각각 Label값을 지정 (밑에 workers = 4)\n",
    "\n",
    "def apply_by_multiprocessing(df, func, **kwargs): # 필요할 때마다 참고해서 사용하면 좋을듯\n",
    "    # kwargs 로 받은 것들 중 workers 에 해당하는 값 반환\n",
    "    workers = kwargs.pop('workers')\n",
    "    # 풀을 정의 -> 병렬처리에 필요한 작업\n",
    "    pool = Pool(processes=workers)\n",
    "    # 풀한 만큼 데이터프레임의 수를 나눠 작업\n",
    "    result = pool.map(apply_df, [(d, func, kwargs) for d in np.array_split(df, workers)])\n",
    "    pool.close()\n",
    "    return pd.concat(list(result))"
   ]
  },
  {
   "cell_type": "code",
   "execution_count": 83,
   "metadata": {
    "colab": {
     "autoexec": {
      "startup": false,
      "wait_interval": 0
     },
     "base_uri": "https://localhost:8080/",
     "height": 52
    },
    "colab_type": "code",
    "collapsed": false,
    "executionInfo": {
     "elapsed": 129162,
     "status": "ok",
     "timestamp": 1526410694857,
     "user": {
      "displayName": "이현경",
      "photoUrl": "https://lh3.googleusercontent.com/a/default-user=s128",
      "userId": "112345304399997048072"
     },
     "user_tz": -540
    },
    "id": "Tii2hKbyKGfq",
    "outputId": "8a79404c-f84c-4b43-b122-f3dd767cd9a2"
   },
   "outputs": [
    {
     "name": "stdout",
     "output_type": "stream",
     "text": [
      "CPU times: user 116 ms, sys: 178 ms, total: 294 ms\n",
      "Wall time: 33.4 s\n"
     ]
    }
   ],
   "source": [
    "%time clean_train_reviews = apply_by_multiprocessing(\\\n",
    "    train['review'], clean, workers=4) # 시간 확인"
   ]
  },
  {
   "cell_type": "code",
   "execution_count": 84,
   "metadata": {
    "colab": {
     "autoexec": {
      "startup": false,
      "wait_interval": 0
     },
     "base_uri": "https://localhost:8080/",
     "height": 52
    },
    "colab_type": "code",
    "collapsed": false,
    "executionInfo": {
     "elapsed": 125365,
     "status": "ok",
     "timestamp": 1526410842213,
     "user": {
      "displayName": "이현경",
      "photoUrl": "https://lh3.googleusercontent.com/a/default-user=s128",
      "userId": "112345304399997048072"
     },
     "user_tz": -540
    },
    "id": "r45-vH2_KHun",
    "outputId": "e4cd99ad-69d9-47fc-9577-8d87c49356d9"
   },
   "outputs": [
    {
     "name": "stdout",
     "output_type": "stream",
     "text": [
      "CPU times: user 117 ms, sys: 209 ms, total: 326 ms\n",
      "Wall time: 35.4 s\n"
     ]
    }
   ],
   "source": [
    "%time clean_test_reviews = apply_by_multiprocessing(\\\n",
    "    test['review'], clean, workers=4) # 시간 확인"
   ]
  },
  {
   "cell_type": "markdown",
   "metadata": {},
   "source": [
    "## 2. CounterVectorizer 를 이용해 ngram"
   ]
  },
  {
   "cell_type": "markdown",
   "metadata": {},
   "source": [
    "ngram 이해\n",
    "https://stackoverflow.com/questions/24005762/understanding-the-ngram-range-argument-in-a-countvectorizer-in-sklearn?utm_medium=organic&utm_source=google_rich_qa&utm_campaign=google_rich_qa"
   ]
  },
  {
   "cell_type": "code",
   "execution_count": 85,
   "metadata": {
    "colab": {
     "autoexec": {
      "startup": false,
      "wait_interval": 0
     },
     "base_uri": "https://localhost:8080/",
     "height": 122
    },
    "colab_type": "code",
    "collapsed": false,
    "executionInfo": {
     "elapsed": 672,
     "status": "ok",
     "timestamp": 1526410886614,
     "user": {
      "displayName": "이현경",
      "photoUrl": "https://lh3.googleusercontent.com/a/default-user=s128",
      "userId": "112345304399997048072"
     },
     "user_tz": -540
    },
    "id": "dXy7ub1OKvh9",
    "outputId": "ef5a4027-55f9-496c-ccdc-ca7e6dda9b0b"
   },
   "outputs": [
    {
     "data": {
      "text/plain": [
       "CountVectorizer(analyzer='word', binary=False, decode_error='strict',\n",
       "        dtype=<class 'numpy.int64'>, encoding='utf-8', input='content',\n",
       "        lowercase=True, max_df=1.0, max_features=20000, min_df=2,\n",
       "        ngram_range=(1, 3), preprocessor=None, stop_words=None,\n",
       "        strip_accents=None, token_pattern='(?u)\\\\b\\\\w\\\\w+\\\\b',\n",
       "        tokenizer=None, vocabulary=None)"
      ]
     },
     "execution_count": 85,
     "metadata": {},
     "output_type": "execute_result"
    }
   ],
   "source": [
    "from sklearn.feature_extraction.text import CountVectorizer\n",
    "from sklearn.pipeline import Pipeline\n",
    "\n",
    "vectorizer = CountVectorizer(analyzer = 'word', \n",
    "                             tokenizer = None,\n",
    "                             preprocessor = None, \n",
    "                             stop_words = None, \n",
    "                             min_df = 2, # 토큰이 나타날 최소 문서 개수\n",
    "                             ngram_range=(1, 3), # ngram 에 사용할 n값들 (1~3까지 전부 사용)\n",
    "                             max_features = 20000 # 최대로 뽑을 피처 수 (열을 20000개로 고정, 행이 늘어나는 방향)\n",
    "                            )\n",
    "vectorizer"
   ]
  },
  {
   "cell_type": "code",
   "execution_count": 86,
   "metadata": {
    "colab": {
     "autoexec": {
      "startup": false,
      "wait_interval": 0
     }
    },
    "colab_type": "code",
    "collapsed": true,
    "id": "ZZ3o8VcaLbnp"
   },
   "outputs": [],
   "source": [
    "pipeline = Pipeline([\n",
    "    ('vect', vectorizer),\n",
    "])"
   ]
  },
  {
   "cell_type": "code",
   "execution_count": 87,
   "metadata": {
    "colab": {
     "autoexec": {
      "startup": false,
      "wait_interval": 0
     },
     "base_uri": "https://localhost:8080/",
     "height": 87
    },
    "colab_type": "code",
    "collapsed": false,
    "executionInfo": {
     "elapsed": 77442,
     "status": "ok",
     "timestamp": 1526410981538,
     "user": {
      "displayName": "이현경",
      "photoUrl": "https://lh3.googleusercontent.com/a/default-user=s128",
      "userId": "112345304399997048072"
     },
     "user_tz": -540
    },
    "id": "ntmkTbakLd2e",
    "outputId": "d0797d3f-2fe0-4f84-d0a6-5b71058d8ee4"
   },
   "outputs": [
    {
     "name": "stdout",
     "output_type": "stream",
     "text": [
      "CPU times: user 40.1 s, sys: 1.42 s, total: 41.5 s\n",
      "Wall time: 42.2 s\n"
     ]
    },
    {
     "data": {
      "text/plain": [
       "<25000x20000 sparse matrix of type '<class 'numpy.int64'>'\n",
       "\twith 4717609 stored elements in Compressed Sparse Row format>"
      ]
     },
     "execution_count": 87,
     "metadata": {},
     "output_type": "execute_result"
    }
   ],
   "source": [
    "%time train_data_features = pipeline.fit_transform(clean_train_reviews)\n",
    "train_data_features"
   ]
  },
  {
   "cell_type": "code",
   "execution_count": 88,
   "metadata": {
    "colab": {
     "autoexec": {
      "startup": false,
      "wait_interval": 0
     },
     "base_uri": "https://localhost:8080/",
     "height": 34
    },
    "colab_type": "code",
    "collapsed": false,
    "executionInfo": {
     "elapsed": 576,
     "status": "ok",
     "timestamp": 1526410985783,
     "user": {
      "displayName": "이현경",
      "photoUrl": "https://lh3.googleusercontent.com/a/default-user=s128",
      "userId": "112345304399997048072"
     },
     "user_tz": -540
    },
    "id": "XLE1ysTSLgFC",
    "outputId": "3f823ba3-c880-451c-f284-d3c9a7d3eeda"
   },
   "outputs": [
    {
     "data": {
      "text/plain": [
       "(25000, 20000)"
      ]
     },
     "execution_count": 88,
     "metadata": {},
     "output_type": "execute_result"
    }
   ],
   "source": [
    "train_data_features.shape"
   ]
  },
  {
   "cell_type": "code",
   "execution_count": 89,
   "metadata": {
    "colab": {
     "autoexec": {
      "startup": false,
      "wait_interval": 0
     },
     "base_uri": "https://localhost:8080/",
     "height": 142
    },
    "colab_type": "code",
    "collapsed": false,
    "executionInfo": {
     "elapsed": 592,
     "status": "ok",
     "timestamp": 1526411272229,
     "user": {
      "displayName": "이현경",
      "photoUrl": "https://lh3.googleusercontent.com/a/default-user=s128",
      "userId": "112345304399997048072"
     },
     "user_tz": -540
    },
    "id": "pLjXxrOuLz3c",
    "outputId": "32e1cef8-bdce-4ec3-d9a1-737644f809eb"
   },
   "outputs": [
    {
     "ename": "NameError",
     "evalue": "name 'vocab' is not defined",
     "output_type": "error",
     "traceback": [
      "\u001b[0;31m---------------------------------------------------------------------------\u001b[0m",
      "\u001b[0;31mNameError\u001b[0m                                 Traceback (most recent call last)",
      "\u001b[0;32m<ipython-input-89-187818de371a>\u001b[0m in \u001b[0;36m<module>\u001b[0;34m()\u001b[0m\n\u001b[1;32m      3\u001b[0m \u001b[0;34m\u001b[0m\u001b[0m\n\u001b[1;32m      4\u001b[0m \u001b[0;34m\u001b[0m\u001b[0m\n\u001b[0;32m----> 5\u001b[0;31m \u001b[0mpd\u001b[0m\u001b[0;34m.\u001b[0m\u001b[0mDataFrame\u001b[0m\u001b[0;34m(\u001b[0m\u001b[0mdist\u001b[0m\u001b[0;34m,\u001b[0m \u001b[0mcolumns\u001b[0m \u001b[0;34m=\u001b[0m \u001b[0mvocab\u001b[0m\u001b[0;34m)\u001b[0m\u001b[0;34m\u001b[0m\u001b[0m\n\u001b[0m",
      "\u001b[0;31mNameError\u001b[0m: name 'vocab' is not defined"
     ]
    }
   ],
   "source": [
    "import numpy as np\n",
    "dist = np.sum(train_data_features, axis=0) # 각 열에 모든 행의 합을 구함\n",
    "\n",
    "\n",
    "pd.DataFrame(dist, columns = vocab)"
   ]
  },
  {
   "cell_type": "code",
   "execution_count": null,
   "metadata": {
    "colab": {
     "autoexec": {
      "startup": false,
      "wait_interval": 0
     },
     "base_uri": "https://localhost:8080/",
     "height": 261
    },
    "colab_type": "code",
    "collapsed": false,
    "executionInfo": {
     "elapsed": 645,
     "status": "ok",
     "timestamp": 1526411291309,
     "user": {
      "displayName": "이현경",
      "photoUrl": "https://lh3.googleusercontent.com/a/default-user=s128",
      "userId": "112345304399997048072"
     },
     "user_tz": -540
    },
    "id": "VDgbr325MRLe",
    "outputId": "222dd188-de49-4cd5-f0bb-15fbfe2d8c1f"
   },
   "outputs": [],
   "source": [
    "pd.DataFrame(train_data_features[:10].toarray(), columns=vocab).head()"
   ]
  },
  {
   "cell_type": "code",
   "execution_count": 49,
   "metadata": {
    "colab": {
     "autoexec": {
      "startup": false,
      "wait_interval": 0
     },
     "base_uri": "https://localhost:8080/",
     "height": 140
    },
    "colab_type": "code",
    "collapsed": false,
    "executionInfo": {
     "elapsed": 719,
     "status": "ok",
     "timestamp": 1526411308481,
     "user": {
      "displayName": "이현경",
      "photoUrl": "https://lh3.googleusercontent.com/a/default-user=s128",
      "userId": "112345304399997048072"
     },
     "user_tz": -540
    },
    "id": "0y6ZnvJnM-bv",
    "outputId": "b40c688a-84e6-49f5-df35-92820346d6ff"
   },
   "outputs": [
    {
     "data": {
      "text/plain": [
       "RandomForestClassifier(bootstrap=True, class_weight=None, criterion='gini',\n",
       "            max_depth=None, max_features='auto', max_leaf_nodes=None,\n",
       "            min_impurity_decrease=0.0, min_impurity_split=None,\n",
       "            min_samples_leaf=1, min_samples_split=2,\n",
       "            min_weight_fraction_leaf=0.0, n_estimators=100, n_jobs=-1,\n",
       "            oob_score=False, random_state=2018, verbose=0,\n",
       "            warm_start=False)"
      ]
     },
     "execution_count": 49,
     "metadata": {},
     "output_type": "execute_result"
    }
   ],
   "source": [
    "from sklearn.ensemble import RandomForestClassifier\n",
    "\n",
    "# 랜덤포레스트 분류기를 사용\n",
    "forest = RandomForestClassifier(\n",
    "    n_estimators = 100, n_jobs = -1, random_state=2018)\n",
    "forest"
   ]
  },
  {
   "cell_type": "code",
   "execution_count": 50,
   "metadata": {
    "colab": {
     "autoexec": {
      "startup": false,
      "wait_interval": 0
     },
     "base_uri": "https://localhost:8080/",
     "height": 52
    },
    "colab_type": "code",
    "collapsed": false,
    "executionInfo": {
     "elapsed": 63810,
     "status": "ok",
     "timestamp": 1526411379571,
     "user": {
      "displayName": "이현경",
      "photoUrl": "https://lh3.googleusercontent.com/a/default-user=s128",
      "userId": "112345304399997048072"
     },
     "user_tz": -540
    },
    "id": "4sRBKB6kNCls",
    "outputId": "e874c131-a331-455e-c958-b019d8b01ce0"
   },
   "outputs": [
    {
     "name": "stdout",
     "output_type": "stream",
     "text": [
      "CPU times: user 1min 28s, sys: 530 ms, total: 1min 28s\n",
      "Wall time: 26.9 s\n"
     ]
    }
   ],
   "source": [
    "%time forest = forest.fit(train_data_features, train['sentiment'])"
   ]
  },
  {
   "cell_type": "code",
   "execution_count": 51,
   "metadata": {
    "colab": {
     "autoexec": {
      "startup": false,
      "wait_interval": 0
     },
     "base_uri": "https://localhost:8080/",
     "height": 52
    },
    "colab_type": "code",
    "collapsed": false,
    "executionInfo": {
     "elapsed": 537858,
     "status": "ok",
     "timestamp": 1526411946102,
     "user": {
      "displayName": "이현경",
      "photoUrl": "https://lh3.googleusercontent.com/a/default-user=s128",
      "userId": "112345304399997048072"
     },
     "user_tz": -540
    },
    "id": "acV2mMt6NEkD",
    "outputId": "e5365f27-aff6-4ef9-9174-d6ed51b17847"
   },
   "outputs": [
    {
     "name": "stdout",
     "output_type": "stream",
     "text": [
      "CPU times: user 12min 15s, sys: 4.07 s, total: 12min 19s\n",
      "Wall time: 3min 44s\n"
     ]
    }
   ],
   "source": [
    "from  sklearn.model_selection import cross_val_score\n",
    "%time score = np.mean(cross_val_score(\\\n",
    "    forest, train_data_features, \\\n",
    "    train['sentiment'], cv=10, scoring='roc_auc'))"
   ]
  },
  {
   "cell_type": "code",
   "execution_count": null,
   "metadata": {
    "colab": {
     "autoexec": {
      "startup": false,
      "wait_interval": 0
     },
     "base_uri": "https://localhost:8080/",
     "height": 52
    },
    "colab_type": "code",
    "collapsed": false,
    "executionInfo": {
     "elapsed": 21088,
     "status": "ok",
     "timestamp": 1526411988098,
     "user": {
      "displayName": "이현경",
      "photoUrl": "https://lh3.googleusercontent.com/a/default-user=s128",
      "userId": "112345304399997048072"
     },
     "user_tz": -540
    },
    "id": "Z3K2CMSoNVd-",
    "outputId": "92ecaca6-f2ab-46da-da9e-985aa1978b4f"
   },
   "outputs": [],
   "source": [
    "%time test_data_features = pipeline.transform(clean_test_reviews)\n",
    "test_data_features = test_data_features.toarray()"
   ]
  },
  {
   "cell_type": "code",
   "execution_count": null,
   "metadata": {
    "colab": {
     "autoexec": {
      "startup": false,
      "wait_interval": 0
     },
     "base_uri": "https://localhost:8080/",
     "height": 34
    },
    "colab_type": "code",
    "collapsed": false,
    "executionInfo": {
     "elapsed": 6289,
     "status": "ok",
     "timestamp": 1526412001504,
     "user": {
      "displayName": "이현경",
      "photoUrl": "https://lh3.googleusercontent.com/a/default-user=s128",
      "userId": "112345304399997048072"
     },
     "user_tz": -540
    },
    "id": "4Hbek_7ZPjix",
    "outputId": "6684572a-1d3e-4f4f-837d-f9b156e70e0c"
   },
   "outputs": [],
   "source": [
    "result = forest.predict(test_data_features)\n",
    "result[:10]"
   ]
  },
  {
   "cell_type": "code",
   "execution_count": null,
   "metadata": {
    "colab": {
     "autoexec": {
      "startup": false,
      "wait_interval": 0
     },
     "base_uri": "https://localhost:8080/",
     "height": 195
    },
    "colab_type": "code",
    "collapsed": false,
    "executionInfo": {
     "elapsed": 678,
     "status": "ok",
     "timestamp": 1526412026251,
     "user": {
      "displayName": "이현경",
      "photoUrl": "https://lh3.googleusercontent.com/a/default-user=s128",
      "userId": "112345304399997048072"
     },
     "user_tz": -540
    },
    "id": "TveeJ2tLPqcd",
    "outputId": "56c6c1b0-248c-4f58-c3df-54b777cbf44c"
   },
   "outputs": [],
   "source": [
    "output = pd.DataFrame(data={'id':test['id'], 'sentiment':result})\n",
    "output.head()"
   ]
  },
  {
   "cell_type": "code",
   "execution_count": null,
   "metadata": {
    "colab": {
     "autoexec": {
      "startup": false,
      "wait_interval": 0
     }
    },
    "colab_type": "code",
    "collapsed": true,
    "id": "fpHWQSiRPx3X"
   },
   "outputs": [],
   "source": [
    "output.to_csv('tutorial_1_BOW_{0:.5f}.csv'.format(score), index=False, quoting=3)"
   ]
  },
  {
   "cell_type": "code",
   "execution_count": null,
   "metadata": {
    "colab": {
     "autoexec": {
      "startup": false,
      "wait_interval": 0
     },
     "base_uri": "https://localhost:8080/",
     "height": 87
    },
    "colab_type": "code",
    "collapsed": false,
    "executionInfo": {
     "elapsed": 821,
     "status": "ok",
     "timestamp": 1526412073040,
     "user": {
      "displayName": "이현경",
      "photoUrl": "https://lh3.googleusercontent.com/a/default-user=s128",
      "userId": "112345304399997048072"
     },
     "user_tz": -540
    },
    "id": "E2eaDj73P0Q1",
    "outputId": "34bd50eb-ead4-490b-e823-d14fbe9cb91b"
   },
   "outputs": [],
   "source": [
    "output_sentiment  = output['sentiment'].value_counts()\n",
    "print(output_sentiment[0] - output_sentiment[1])\n",
    "output_sentiment\n",
    "\n",
    "# 캐글 점수 0.85 "
   ]
  },
  {
   "cell_type": "markdown",
   "metadata": {
    "colab_type": "text",
    "id": "i0NA31BuglZw"
   },
   "source": [
    "# Part2 : word2vec"
   ]
  },
  {
   "cell_type": "code",
   "execution_count": 52,
   "metadata": {
    "colab": {
     "autoexec": {
      "startup": false,
      "wait_interval": 0
     }
    },
    "colab_type": "code",
    "collapsed": true,
    "id": "PPuo8k5XP5As"
   },
   "outputs": [],
   "source": [
    "unlabeled_train = pd.read_csv('unlabeledTrainData.tsv', header = 0, delimiter = '\\t', quoting = 3)"
   ]
  },
  {
   "cell_type": "code",
   "execution_count": 58,
   "metadata": {
    "colab": {
     "autoexec": {
      "startup": false,
      "wait_interval": 0
     },
     "base_uri": "https://localhost:8080/",
     "height": 1882
    },
    "colab_type": "code",
    "collapsed": false,
    "executionInfo": {
     "elapsed": 625,
     "status": "ok",
     "timestamp": 1526416762955,
     "user": {
      "displayName": "이현경",
      "photoUrl": "https://lh3.googleusercontent.com/a/default-user=s128",
      "userId": "112345304399997048072"
     },
     "user_tz": -540
    },
    "id": "ZhF1S_h6htRJ",
    "outputId": "8a38bbff-e3c5-4ed4-e4fa-495dac6010f1"
   },
   "outputs": [
    {
     "data": {
      "text/html": [
       "<div>\n",
       "<style scoped>\n",
       "    .dataframe tbody tr th:only-of-type {\n",
       "        vertical-align: middle;\n",
       "    }\n",
       "\n",
       "    .dataframe tbody tr th {\n",
       "        vertical-align: top;\n",
       "    }\n",
       "\n",
       "    .dataframe thead th {\n",
       "        text-align: right;\n",
       "    }\n",
       "</style>\n",
       "<table border=\"1\" class=\"dataframe\">\n",
       "  <thead>\n",
       "    <tr style=\"text-align: right;\">\n",
       "      <th></th>\n",
       "      <th>id</th>\n",
       "      <th>review</th>\n",
       "    </tr>\n",
       "  </thead>\n",
       "  <tbody>\n",
       "    <tr>\n",
       "      <th>0</th>\n",
       "      <td>\"9999_0\"</td>\n",
       "      <td>\"Watching Time Chasers, it obvious that it was...</td>\n",
       "    </tr>\n",
       "    <tr>\n",
       "      <th>1</th>\n",
       "      <td>\"45057_0\"</td>\n",
       "      <td>\"I saw this film about 20 years ago and rememb...</td>\n",
       "    </tr>\n",
       "    <tr>\n",
       "      <th>2</th>\n",
       "      <td>\"15561_0\"</td>\n",
       "      <td>\"Minor Spoilers&lt;br /&gt;&lt;br /&gt;In New York, Joan B...</td>\n",
       "    </tr>\n",
       "    <tr>\n",
       "      <th>3</th>\n",
       "      <td>\"7161_0\"</td>\n",
       "      <td>\"I went to see this film with a great deal of ...</td>\n",
       "    </tr>\n",
       "    <tr>\n",
       "      <th>4</th>\n",
       "      <td>\"43971_0\"</td>\n",
       "      <td>\"Yes, I agree with everyone on this site this ...</td>\n",
       "    </tr>\n",
       "    <tr>\n",
       "      <th>5</th>\n",
       "      <td>\"36495_0\"</td>\n",
       "      <td>\"Jennifer Ehle was sparkling in \\\"Pride and Pr...</td>\n",
       "    </tr>\n",
       "    <tr>\n",
       "      <th>6</th>\n",
       "      <td>\"49472_0\"</td>\n",
       "      <td>\"Amy Poehler is a terrific comedian on Saturda...</td>\n",
       "    </tr>\n",
       "    <tr>\n",
       "      <th>7</th>\n",
       "      <td>\"36693_0\"</td>\n",
       "      <td>\"A plane carrying employees of a large biotech...</td>\n",
       "    </tr>\n",
       "    <tr>\n",
       "      <th>8</th>\n",
       "      <td>\"316_0\"</td>\n",
       "      <td>\"A well made, gritty science fiction movie, it...</td>\n",
       "    </tr>\n",
       "    <tr>\n",
       "      <th>9</th>\n",
       "      <td>\"32454_0\"</td>\n",
       "      <td>\"Incredibly dumb and utterly predictable story...</td>\n",
       "    </tr>\n",
       "    <tr>\n",
       "      <th>10</th>\n",
       "      <td>\"37128_0\"</td>\n",
       "      <td>\"After reading the comments for this movie, I ...</td>\n",
       "    </tr>\n",
       "    <tr>\n",
       "      <th>11</th>\n",
       "      <td>\"19439_0\"</td>\n",
       "      <td>\"It's hard to describe Elfen Lied to someone w...</td>\n",
       "    </tr>\n",
       "    <tr>\n",
       "      <th>12</th>\n",
       "      <td>\"10760_0\"</td>\n",
       "      <td>\"Of all the bile-inducing vomitoriums to squee...</td>\n",
       "    </tr>\n",
       "    <tr>\n",
       "      <th>13</th>\n",
       "      <td>\"15073_0\"</td>\n",
       "      <td>\"This is quite an underrated Hitchcock movie. ...</td>\n",
       "    </tr>\n",
       "    <tr>\n",
       "      <th>14</th>\n",
       "      <td>\"33119_0\"</td>\n",
       "      <td>\"Being a huge Gary Oldman fan, I had high hope...</td>\n",
       "    </tr>\n",
       "    <tr>\n",
       "      <th>15</th>\n",
       "      <td>\"38735_0\"</td>\n",
       "      <td>\"For the most part the acting was poorly done ...</td>\n",
       "    </tr>\n",
       "    <tr>\n",
       "      <th>16</th>\n",
       "      <td>\"12041_0\"</td>\n",
       "      <td>\"Ram Gopal Varma does it again yet another mov...</td>\n",
       "    </tr>\n",
       "    <tr>\n",
       "      <th>17</th>\n",
       "      <td>\"41565_0\"</td>\n",
       "      <td>\"I gave it 2 for some attempt at historical de...</td>\n",
       "    </tr>\n",
       "    <tr>\n",
       "      <th>18</th>\n",
       "      <td>\"48612_0\"</td>\n",
       "      <td>\"I wanted to watch this one sense I am a fan o...</td>\n",
       "    </tr>\n",
       "    <tr>\n",
       "      <th>19</th>\n",
       "      <td>\"17525_0\"</td>\n",
       "      <td>\"Che is a good film for chronicling the events...</td>\n",
       "    </tr>\n",
       "    <tr>\n",
       "      <th>20</th>\n",
       "      <td>\"32062_0\"</td>\n",
       "      <td>\"This film is very disturbing. It reminded me ...</td>\n",
       "    </tr>\n",
       "    <tr>\n",
       "      <th>21</th>\n",
       "      <td>\"48625_0\"</td>\n",
       "      <td>\"Let me put it this way. I love bad movies. I ...</td>\n",
       "    </tr>\n",
       "    <tr>\n",
       "      <th>22</th>\n",
       "      <td>\"48176_0\"</td>\n",
       "      <td>\"From the combined ministries of Jack and Rexe...</td>\n",
       "    </tr>\n",
       "    <tr>\n",
       "      <th>23</th>\n",
       "      <td>\"16232_0\"</td>\n",
       "      <td>\"Ghost World is one of the better teen or comm...</td>\n",
       "    </tr>\n",
       "    <tr>\n",
       "      <th>24</th>\n",
       "      <td>\"12528_0\"</td>\n",
       "      <td>\"Outstanding film dealing with a 16 year old w...</td>\n",
       "    </tr>\n",
       "    <tr>\n",
       "      <th>25</th>\n",
       "      <td>\"39976_0\"</td>\n",
       "      <td>\"This movie did play like a dream or maybe eve...</td>\n",
       "    </tr>\n",
       "    <tr>\n",
       "      <th>26</th>\n",
       "      <td>\"25857_0\"</td>\n",
       "      <td>\"This film is supposedly based on the true acc...</td>\n",
       "    </tr>\n",
       "    <tr>\n",
       "      <th>27</th>\n",
       "      <td>\"10552_0\"</td>\n",
       "      <td>\"I know that cartoons aimed towards adults gen...</td>\n",
       "    </tr>\n",
       "    <tr>\n",
       "      <th>28</th>\n",
       "      <td>\"26437_0\"</td>\n",
       "      <td>\"...but what a disappointment. The acting was ...</td>\n",
       "    </tr>\n",
       "    <tr>\n",
       "      <th>29</th>\n",
       "      <td>\"16262_0\"</td>\n",
       "      <td>\"As a long-time Holmes fan, and particularly o...</td>\n",
       "    </tr>\n",
       "    <tr>\n",
       "      <th>...</th>\n",
       "      <td>...</td>\n",
       "      <td>...</td>\n",
       "    </tr>\n",
       "    <tr>\n",
       "      <th>49970</th>\n",
       "      <td>\"25941_0\"</td>\n",
       "      <td>\"Wouldn't suit all tastes, but if you like it ...</td>\n",
       "    </tr>\n",
       "    <tr>\n",
       "      <th>49971</th>\n",
       "      <td>\"36778_0\"</td>\n",
       "      <td>\"As a great fan of Dwight Yoakam's music as we...</td>\n",
       "    </tr>\n",
       "    <tr>\n",
       "      <th>49972</th>\n",
       "      <td>\"37114_0\"</td>\n",
       "      <td>\"I'm a huge fan of Whoopi and have seen all of...</td>\n",
       "    </tr>\n",
       "    <tr>\n",
       "      <th>49973</th>\n",
       "      <td>\"11962_0\"</td>\n",
       "      <td>\"It not very often that I go to the same movie...</td>\n",
       "    </tr>\n",
       "    <tr>\n",
       "      <th>49974</th>\n",
       "      <td>\"32293_0\"</td>\n",
       "      <td>\"I, like most, worried that it would degrade \\...</td>\n",
       "    </tr>\n",
       "    <tr>\n",
       "      <th>49975</th>\n",
       "      <td>\"7005_0\"</td>\n",
       "      <td>\"This movie makes no bones about what it is an...</td>\n",
       "    </tr>\n",
       "    <tr>\n",
       "      <th>49976</th>\n",
       "      <td>\"112_0\"</td>\n",
       "      <td>\"The eyebrow-wagging Lionel Q. Deveraux (Grouc...</td>\n",
       "    </tr>\n",
       "    <tr>\n",
       "      <th>49977</th>\n",
       "      <td>\"46123_0\"</td>\n",
       "      <td>\"There maybe spoilers in the following; if you...</td>\n",
       "    </tr>\n",
       "    <tr>\n",
       "      <th>49978</th>\n",
       "      <td>\"10628_0\"</td>\n",
       "      <td>\"This is one of my favorite films. &lt;br /&gt;&lt;br /...</td>\n",
       "    </tr>\n",
       "    <tr>\n",
       "      <th>49979</th>\n",
       "      <td>\"22572_0\"</td>\n",
       "      <td>\"A novelist who could find a funny side of a d...</td>\n",
       "    </tr>\n",
       "    <tr>\n",
       "      <th>49980</th>\n",
       "      <td>\"40601_0\"</td>\n",
       "      <td>\"This is the worst drivel I've ever seen come ...</td>\n",
       "    </tr>\n",
       "    <tr>\n",
       "      <th>49981</th>\n",
       "      <td>\"31509_0\"</td>\n",
       "      <td>\"\\\"Jaguar Lives\\\" is very slow and plodding en...</td>\n",
       "    </tr>\n",
       "    <tr>\n",
       "      <th>49982</th>\n",
       "      <td>\"33703_0\"</td>\n",
       "      <td>\"This should have been better, much better. A ...</td>\n",
       "    </tr>\n",
       "    <tr>\n",
       "      <th>49983</th>\n",
       "      <td>\"7379_0\"</td>\n",
       "      <td>\"Look at the number of film festival awards \\\"...</td>\n",
       "    </tr>\n",
       "    <tr>\n",
       "      <th>49984</th>\n",
       "      <td>\"29370_0\"</td>\n",
       "      <td>\"This movie is one of the best of all time.Fir...</td>\n",
       "    </tr>\n",
       "    <tr>\n",
       "      <th>49985</th>\n",
       "      <td>\"27604_0\"</td>\n",
       "      <td>\"The earliest episodes with John Amos as the c...</td>\n",
       "    </tr>\n",
       "    <tr>\n",
       "      <th>49986</th>\n",
       "      <td>\"9197_0\"</td>\n",
       "      <td>\"I've been looking for this movie since I beca...</td>\n",
       "    </tr>\n",
       "    <tr>\n",
       "      <th>49987</th>\n",
       "      <td>\"34018_0\"</td>\n",
       "      <td>\"OK, this isn't a good film by any stretch of ...</td>\n",
       "    </tr>\n",
       "    <tr>\n",
       "      <th>49988</th>\n",
       "      <td>\"15625_0\"</td>\n",
       "      <td>\"It is arguably the most boring film I've ever...</td>\n",
       "    </tr>\n",
       "    <tr>\n",
       "      <th>49989</th>\n",
       "      <td>\"35740_0\"</td>\n",
       "      <td>\"Oh joy,, another foreign torture/bloody movie...</td>\n",
       "    </tr>\n",
       "    <tr>\n",
       "      <th>49990</th>\n",
       "      <td>\"20947_0\"</td>\n",
       "      <td>\"In 1994, a year that gave us Forrest Gump, Pu...</td>\n",
       "    </tr>\n",
       "    <tr>\n",
       "      <th>49991</th>\n",
       "      <td>\"7432_0\"</td>\n",
       "      <td>\"http://eattheblinds.blogspot.com/&lt;br /&gt;&lt;br /&gt;...</td>\n",
       "    </tr>\n",
       "    <tr>\n",
       "      <th>49992</th>\n",
       "      <td>\"35236_0\"</td>\n",
       "      <td>\"Taste the Blood of Dracula marks a first for ...</td>\n",
       "    </tr>\n",
       "    <tr>\n",
       "      <th>49993</th>\n",
       "      <td>\"12075_0\"</td>\n",
       "      <td>\"There were some aspects of this movie I reall...</td>\n",
       "    </tr>\n",
       "    <tr>\n",
       "      <th>49994</th>\n",
       "      <td>\"23455_0\"</td>\n",
       "      <td>\"Look, I don't know what people have against E...</td>\n",
       "    </tr>\n",
       "    <tr>\n",
       "      <th>49995</th>\n",
       "      <td>\"18984_0\"</td>\n",
       "      <td>\"The original Man Eater by Joe D'Amato is some...</td>\n",
       "    </tr>\n",
       "    <tr>\n",
       "      <th>49996</th>\n",
       "      <td>\"16433_0\"</td>\n",
       "      <td>\"When Home Box Office was in it's early days m...</td>\n",
       "    </tr>\n",
       "    <tr>\n",
       "      <th>49997</th>\n",
       "      <td>\"16006_0\"</td>\n",
       "      <td>\"Griffin Dunne was born into a cultural family...</td>\n",
       "    </tr>\n",
       "    <tr>\n",
       "      <th>49998</th>\n",
       "      <td>\"40155_0\"</td>\n",
       "      <td>\"Not a bad story, but the low budget rears its...</td>\n",
       "    </tr>\n",
       "    <tr>\n",
       "      <th>49999</th>\n",
       "      <td>\"35270_0\"</td>\n",
       "      <td>\"This not-very-good mummy-alien flick does fea...</td>\n",
       "    </tr>\n",
       "  </tbody>\n",
       "</table>\n",
       "<p>50000 rows × 2 columns</p>\n",
       "</div>"
      ],
      "text/plain": [
       "              id                                             review\n",
       "0       \"9999_0\"  \"Watching Time Chasers, it obvious that it was...\n",
       "1      \"45057_0\"  \"I saw this film about 20 years ago and rememb...\n",
       "2      \"15561_0\"  \"Minor Spoilers<br /><br />In New York, Joan B...\n",
       "3       \"7161_0\"  \"I went to see this film with a great deal of ...\n",
       "4      \"43971_0\"  \"Yes, I agree with everyone on this site this ...\n",
       "5      \"36495_0\"  \"Jennifer Ehle was sparkling in \\\"Pride and Pr...\n",
       "6      \"49472_0\"  \"Amy Poehler is a terrific comedian on Saturda...\n",
       "7      \"36693_0\"  \"A plane carrying employees of a large biotech...\n",
       "8        \"316_0\"  \"A well made, gritty science fiction movie, it...\n",
       "9      \"32454_0\"  \"Incredibly dumb and utterly predictable story...\n",
       "10     \"37128_0\"  \"After reading the comments for this movie, I ...\n",
       "11     \"19439_0\"  \"It's hard to describe Elfen Lied to someone w...\n",
       "12     \"10760_0\"  \"Of all the bile-inducing vomitoriums to squee...\n",
       "13     \"15073_0\"  \"This is quite an underrated Hitchcock movie. ...\n",
       "14     \"33119_0\"  \"Being a huge Gary Oldman fan, I had high hope...\n",
       "15     \"38735_0\"  \"For the most part the acting was poorly done ...\n",
       "16     \"12041_0\"  \"Ram Gopal Varma does it again yet another mov...\n",
       "17     \"41565_0\"  \"I gave it 2 for some attempt at historical de...\n",
       "18     \"48612_0\"  \"I wanted to watch this one sense I am a fan o...\n",
       "19     \"17525_0\"  \"Che is a good film for chronicling the events...\n",
       "20     \"32062_0\"  \"This film is very disturbing. It reminded me ...\n",
       "21     \"48625_0\"  \"Let me put it this way. I love bad movies. I ...\n",
       "22     \"48176_0\"  \"From the combined ministries of Jack and Rexe...\n",
       "23     \"16232_0\"  \"Ghost World is one of the better teen or comm...\n",
       "24     \"12528_0\"  \"Outstanding film dealing with a 16 year old w...\n",
       "25     \"39976_0\"  \"This movie did play like a dream or maybe eve...\n",
       "26     \"25857_0\"  \"This film is supposedly based on the true acc...\n",
       "27     \"10552_0\"  \"I know that cartoons aimed towards adults gen...\n",
       "28     \"26437_0\"  \"...but what a disappointment. The acting was ...\n",
       "29     \"16262_0\"  \"As a long-time Holmes fan, and particularly o...\n",
       "...          ...                                                ...\n",
       "49970  \"25941_0\"  \"Wouldn't suit all tastes, but if you like it ...\n",
       "49971  \"36778_0\"  \"As a great fan of Dwight Yoakam's music as we...\n",
       "49972  \"37114_0\"  \"I'm a huge fan of Whoopi and have seen all of...\n",
       "49973  \"11962_0\"  \"It not very often that I go to the same movie...\n",
       "49974  \"32293_0\"  \"I, like most, worried that it would degrade \\...\n",
       "49975   \"7005_0\"  \"This movie makes no bones about what it is an...\n",
       "49976    \"112_0\"  \"The eyebrow-wagging Lionel Q. Deveraux (Grouc...\n",
       "49977  \"46123_0\"  \"There maybe spoilers in the following; if you...\n",
       "49978  \"10628_0\"  \"This is one of my favorite films. <br /><br /...\n",
       "49979  \"22572_0\"  \"A novelist who could find a funny side of a d...\n",
       "49980  \"40601_0\"  \"This is the worst drivel I've ever seen come ...\n",
       "49981  \"31509_0\"  \"\\\"Jaguar Lives\\\" is very slow and plodding en...\n",
       "49982  \"33703_0\"  \"This should have been better, much better. A ...\n",
       "49983   \"7379_0\"  \"Look at the number of film festival awards \\\"...\n",
       "49984  \"29370_0\"  \"This movie is one of the best of all time.Fir...\n",
       "49985  \"27604_0\"  \"The earliest episodes with John Amos as the c...\n",
       "49986   \"9197_0\"  \"I've been looking for this movie since I beca...\n",
       "49987  \"34018_0\"  \"OK, this isn't a good film by any stretch of ...\n",
       "49988  \"15625_0\"  \"It is arguably the most boring film I've ever...\n",
       "49989  \"35740_0\"  \"Oh joy,, another foreign torture/bloody movie...\n",
       "49990  \"20947_0\"  \"In 1994, a year that gave us Forrest Gump, Pu...\n",
       "49991   \"7432_0\"  \"http://eattheblinds.blogspot.com/<br /><br />...\n",
       "49992  \"35236_0\"  \"Taste the Blood of Dracula marks a first for ...\n",
       "49993  \"12075_0\"  \"There were some aspects of this movie I reall...\n",
       "49994  \"23455_0\"  \"Look, I don't know what people have against E...\n",
       "49995  \"18984_0\"  \"The original Man Eater by Joe D'Amato is some...\n",
       "49996  \"16433_0\"  \"When Home Box Office was in it's early days m...\n",
       "49997  \"16006_0\"  \"Griffin Dunne was born into a cultural family...\n",
       "49998  \"40155_0\"  \"Not a bad story, but the low budget rears its...\n",
       "49999  \"35270_0\"  \"This not-very-good mummy-alien flick does fea...\n",
       "\n",
       "[50000 rows x 2 columns]"
      ]
     },
     "execution_count": 58,
     "metadata": {
      "tags": []
     },
     "output_type": "execute_result"
    }
   ],
   "source": [
    "unlabeled_train"
   ]
  },
  {
   "cell_type": "code",
   "execution_count": null,
   "metadata": {
    "colab": {
     "autoexec": {
      "startup": false,
      "wait_interval": 0
     }
    },
    "colab_type": "code",
    "collapsed": true,
    "id": "pWP7cj8Fh2ST"
   },
   "outputs": [],
   "source": [
    "train_sentences = []\n",
    "for review in clean_train_reviews:\n",
    "  train_sentences.append(review.split())"
   ]
  },
  {
   "cell_type": "code",
   "execution_count": null,
   "metadata": {
    "colab": {
     "autoexec": {
      "startup": false,
      "wait_interval": 0
     }
    },
    "colab_type": "code",
    "collapsed": true,
    "id": "tcZiEmAVoOOI"
   },
   "outputs": [],
   "source": [
    "test_sentences = []\n",
    "for review in clean_test_reviews:\n",
    "  test_sentences.append(review.split())"
   ]
  },
  {
   "cell_type": "code",
   "execution_count": 62,
   "metadata": {
    "colab": {
     "autoexec": {
      "startup": false,
      "wait_interval": 0
     },
     "base_uri": "https://localhost:8080/",
     "height": 6423
    },
    "colab_type": "code",
    "collapsed": false,
    "executionInfo": {
     "elapsed": 633,
     "status": "ok",
     "timestamp": 1526417066322,
     "user": {
      "displayName": "이현경",
      "photoUrl": "https://lh3.googleusercontent.com/a/default-user=s128",
      "userId": "112345304399997048072"
     },
     "user_tz": -540
    },
    "id": "ud6UvxX0izaj",
    "outputId": "8da4a418-1579-437b-eb56-2582e1a37c6f"
   },
   "outputs": [
    {
     "data": {
      "text/plain": [
       "[u'with',\n",
       " u'all',\n",
       " u'stuff',\n",
       " u'go',\n",
       " u'down',\n",
       " u'at',\n",
       " u'moment',\n",
       " u'with',\n",
       " u'mj',\n",
       " u've',\n",
       " u'start',\n",
       " u'listen',\n",
       " u'his',\n",
       " u'music',\n",
       " u'watch',\n",
       " u'odd',\n",
       " u'documentari',\n",
       " u'here',\n",
       " u'and',\n",
       " u'there',\n",
       " u'watch',\n",
       " u'wiz',\n",
       " u'and',\n",
       " u'watch',\n",
       " u'moonwalk',\n",
       " u'again',\n",
       " u'mayb',\n",
       " u'just',\n",
       " u'want',\n",
       " u'get',\n",
       " u'a',\n",
       " u'certain',\n",
       " u'insight',\n",
       " u'into',\n",
       " u'guy',\n",
       " u'who',\n",
       " u'thought',\n",
       " u'was',\n",
       " u'realli',\n",
       " u'cool',\n",
       " u'in',\n",
       " u'eighti',\n",
       " u'just',\n",
       " u'mayb',\n",
       " u'make',\n",
       " u'up',\n",
       " u'mind',\n",
       " u'whether',\n",
       " u'he',\n",
       " u'guilti',\n",
       " u'or',\n",
       " u'innoc',\n",
       " u'moonwalk',\n",
       " u'part',\n",
       " u'biographi',\n",
       " u'part',\n",
       " u'featur',\n",
       " u'film',\n",
       " u'which',\n",
       " u'rememb',\n",
       " u'go',\n",
       " u'see',\n",
       " u'at',\n",
       " u'cinema',\n",
       " u'when',\n",
       " u'it',\n",
       " u'was',\n",
       " u'origin',\n",
       " u'releas',\n",
       " u'some',\n",
       " u'of',\n",
       " u'it',\n",
       " u'has',\n",
       " u'subtl',\n",
       " u'messag',\n",
       " u'about',\n",
       " u'mj',\n",
       " u's',\n",
       " u'feel',\n",
       " u'toward',\n",
       " u'press',\n",
       " u'and',\n",
       " u'also',\n",
       " u'obvious',\n",
       " u'messag',\n",
       " u'of',\n",
       " u'drug',\n",
       " u'bad',\n",
       " u'm',\n",
       " u'kay',\n",
       " u'visual',\n",
       " u'impress',\n",
       " u'but',\n",
       " u'of',\n",
       " u'cours',\n",
       " u'all',\n",
       " u'about',\n",
       " u'michael',\n",
       " u'jackson',\n",
       " u'so',\n",
       " u'unless',\n",
       " u'remot',\n",
       " u'like',\n",
       " u'mj',\n",
       " u'in',\n",
       " u'anyway',\n",
       " u'then',\n",
       " u'go',\n",
       " u'hate',\n",
       " u'and',\n",
       " u'find',\n",
       " u'it',\n",
       " u'bore',\n",
       " u'some',\n",
       " u'may',\n",
       " u'call',\n",
       " u'mj',\n",
       " u'an',\n",
       " u'egotist',\n",
       " u'for',\n",
       " u'consent',\n",
       " u'make',\n",
       " u'of',\n",
       " u'movi',\n",
       " u'but',\n",
       " u'mj',\n",
       " u'and',\n",
       " u'most',\n",
       " u'of',\n",
       " u'his',\n",
       " u'fan',\n",
       " u'would',\n",
       " u'say',\n",
       " u'he',\n",
       " u'made',\n",
       " u'it',\n",
       " u'for',\n",
       " u'fan',\n",
       " u'which',\n",
       " u'if',\n",
       " u'true',\n",
       " u'realli',\n",
       " u'nice',\n",
       " u'of',\n",
       " u'him',\n",
       " u'actual',\n",
       " u'featur',\n",
       " u'film',\n",
       " u'bit',\n",
       " u'when',\n",
       " u'it',\n",
       " u'final',\n",
       " u'start',\n",
       " u'onli',\n",
       " u'on',\n",
       " u'for',\n",
       " u'minut',\n",
       " u'or',\n",
       " u'so',\n",
       " u'exclud',\n",
       " u'smooth',\n",
       " u'crimin',\n",
       " u'sequenc',\n",
       " u'and',\n",
       " u'joe',\n",
       " u'pesci',\n",
       " u'convinc',\n",
       " u'as',\n",
       " u'a',\n",
       " u'psychopath',\n",
       " u'all',\n",
       " u'power',\n",
       " u'drug',\n",
       " u'lord',\n",
       " u'whi',\n",
       " u'he',\n",
       " u'want',\n",
       " u'mj',\n",
       " u'dead',\n",
       " u'so',\n",
       " u'bad',\n",
       " u'beyond',\n",
       " u'becaus',\n",
       " u'mj',\n",
       " u'overheard',\n",
       " u'his',\n",
       " u'plan',\n",
       " u'nah',\n",
       " u'joe',\n",
       " u'pesci',\n",
       " u's',\n",
       " u'charact',\n",
       " u'rant',\n",
       " u'he',\n",
       " u'want',\n",
       " u'peopl',\n",
       " u'know',\n",
       " u'it',\n",
       " u'he',\n",
       " u'who',\n",
       " u'suppli',\n",
       " u'drug',\n",
       " u'etc',\n",
       " u'so',\n",
       " u'dunno',\n",
       " u'mayb',\n",
       " u'he',\n",
       " u'just',\n",
       " u'hate',\n",
       " u'mj',\n",
       " u's',\n",
       " u'music',\n",
       " u'lot',\n",
       " u'of',\n",
       " u'cool',\n",
       " u'thing',\n",
       " u'in',\n",
       " u'like',\n",
       " u'mj',\n",
       " u'turn',\n",
       " u'into',\n",
       " u'a',\n",
       " u'car',\n",
       " u'and',\n",
       " u'a',\n",
       " u'robot',\n",
       " u'and',\n",
       " u'whole',\n",
       " u'speed',\n",
       " u'demon',\n",
       " u'sequenc',\n",
       " u'also',\n",
       " u'director',\n",
       " u'must',\n",
       " u'have',\n",
       " u'had',\n",
       " u'patienc',\n",
       " u'of',\n",
       " u'a',\n",
       " u'saint',\n",
       " u'when',\n",
       " u'it',\n",
       " u'came',\n",
       " u'film',\n",
       " u'kiddi',\n",
       " u'bad',\n",
       " u'sequenc',\n",
       " u'as',\n",
       " u'usual',\n",
       " u'director',\n",
       " u'hate',\n",
       " u'work',\n",
       " u'with',\n",
       " u'one',\n",
       " u'kid',\n",
       " u'let',\n",
       " u'alon',\n",
       " u'a',\n",
       " u'whole',\n",
       " u'bunch',\n",
       " u'of',\n",
       " u'them',\n",
       " u'perform',\n",
       " u'a',\n",
       " u'complex',\n",
       " u'danc',\n",
       " u'scene',\n",
       " u'bottom',\n",
       " u'line',\n",
       " u'movi',\n",
       " u'for',\n",
       " u'peopl',\n",
       " u'who',\n",
       " u'like',\n",
       " u'mj',\n",
       " u'on',\n",
       " u'one',\n",
       " u'level',\n",
       " u'or',\n",
       " u'anoth',\n",
       " u'which',\n",
       " u'think',\n",
       " u'most',\n",
       " u'peopl',\n",
       " u'if',\n",
       " u'not',\n",
       " u'then',\n",
       " u'stay',\n",
       " u'away',\n",
       " u'it',\n",
       " u'doe',\n",
       " u'tri',\n",
       " u'and',\n",
       " u'give',\n",
       " u'off',\n",
       " u'a',\n",
       " u'wholesom',\n",
       " u'messag',\n",
       " u'and',\n",
       " u'iron',\n",
       " u'mj',\n",
       " u's',\n",
       " u'bestest',\n",
       " u'buddi',\n",
       " u'in',\n",
       " u'movi',\n",
       " u'a',\n",
       " u'girl',\n",
       " u'michael',\n",
       " u'jackson',\n",
       " u'truli',\n",
       " u'one',\n",
       " u'of',\n",
       " u'most',\n",
       " u'talent',\n",
       " u'peopl',\n",
       " u'ever',\n",
       " u'grace',\n",
       " u'planet',\n",
       " u'but',\n",
       " u'he',\n",
       " u'guilti',\n",
       " u'well',\n",
       " u'with',\n",
       " u'all',\n",
       " u'attent',\n",
       " u've',\n",
       " u'gave',\n",
       " u'subject',\n",
       " u'hmmm',\n",
       " u'well',\n",
       " u'don',\n",
       " u't',\n",
       " u'know',\n",
       " u'becaus',\n",
       " u'peopl',\n",
       " u'can',\n",
       " u'be',\n",
       " u'differ',\n",
       " u'behind',\n",
       " u'close',\n",
       " u'door',\n",
       " u'know',\n",
       " u'for',\n",
       " u'a',\n",
       " u'fact',\n",
       " u'he',\n",
       " u'either',\n",
       " u'an',\n",
       " u'extrem',\n",
       " u'nice',\n",
       " u'but',\n",
       " u'stupid',\n",
       " u'guy',\n",
       " u'or',\n",
       " u'one',\n",
       " u'of',\n",
       " u'most',\n",
       " u'sickest',\n",
       " u'liar',\n",
       " u'hope',\n",
       " u'he',\n",
       " u'not',\n",
       " u'latter']"
      ]
     },
     "execution_count": 62,
     "metadata": {
      "tags": []
     },
     "output_type": "execute_result"
    }
   ],
   "source": [
    "sentences[0]"
   ]
  },
  {
   "cell_type": "code",
   "execution_count": 53,
   "metadata": {
    "colab": {
     "autoexec": {
      "startup": false,
      "wait_interval": 0
     },
     "base_uri": "https://localhost:8080/",
     "height": 34
    },
    "colab_type": "code",
    "collapsed": false,
    "executionInfo": {
     "elapsed": 59723,
     "status": "ok",
     "timestamp": 1526417906733,
     "user": {
      "displayName": "이현경",
      "photoUrl": "https://lh3.googleusercontent.com/a/default-user=s128",
      "userId": "112345304399997048072"
     },
     "user_tz": -540
    },
    "id": "A_xmw5B4i1kJ",
    "outputId": "afb965b6-60d8-45fb-b61e-8f63d14c4969"
   },
   "outputs": [
    {
     "ename": "NameError",
     "evalue": "name 'sentences' is not defined",
     "output_type": "error",
     "traceback": [
      "\u001b[0;31m---------------------------------------------------------------------------\u001b[0m",
      "\u001b[0;31mNameError\u001b[0m                                 Traceback (most recent call last)",
      "\u001b[0;32m<ipython-input-53-4edfebdd7874>\u001b[0m in \u001b[0;36m<module>\u001b[0;34m()\u001b[0m\n\u001b[1;32m      8\u001b[0m \u001b[0;34m\u001b[0m\u001b[0m\n\u001b[1;32m      9\u001b[0m \u001b[0;31m# 모델 학습\u001b[0m\u001b[0;34m\u001b[0m\u001b[0;34m\u001b[0m\u001b[0m\n\u001b[0;32m---> 10\u001b[0;31m model = word2vec.Word2Vec(sentences, \n\u001b[0m\u001b[1;32m     11\u001b[0m                           \u001b[0mworkers\u001b[0m\u001b[0;34m=\u001b[0m\u001b[0mnum_workers\u001b[0m\u001b[0;34m,\u001b[0m\u001b[0;34m\u001b[0m\u001b[0m\n\u001b[1;32m     12\u001b[0m                           \u001b[0msize\u001b[0m\u001b[0;34m=\u001b[0m\u001b[0mnum_features\u001b[0m\u001b[0;34m,\u001b[0m\u001b[0;34m\u001b[0m\u001b[0m\n",
      "\u001b[0;31mNameError\u001b[0m: name 'sentences' is not defined"
     ]
    }
   ],
   "source": [
    "num_features = 300 # 문자 벡터 차원 수\n",
    "min_word_count = 40 # 최소 문자 수\n",
    "num_workers = 4 # 병렬 처리 스레드 수\n",
    "context = 10 # 윈도우 사이즈\n",
    "downsampling = 1e-3 # 너무 자주 나오는 문자는 downsampling (과적합 방지)\n",
    "# 초기화 및 모델 학습\n",
    "from gensim.models import word2vec\n",
    "\n",
    "# 모델 학습\n",
    "model = word2vec.Word2Vec(sentences, \n",
    "                          workers=num_workers, \n",
    "                          size=num_features, \n",
    "                          min_count=min_word_count,\n",
    "                          window=context,\n",
    "                          sample=downsampling)\n",
    "model"
   ]
  },
  {
   "cell_type": "code",
   "execution_count": 66,
   "metadata": {
    "colab": {
     "autoexec": {
      "startup": false,
      "wait_interval": 0
     },
     "base_uri": "https://localhost:8080/",
     "height": 34
    },
    "colab_type": "code",
    "collapsed": false,
    "executionInfo": {
     "elapsed": 733,
     "status": "ok",
     "timestamp": 1526417927740,
     "user": {
      "displayName": "이현경",
      "photoUrl": "https://lh3.googleusercontent.com/a/default-user=s128",
      "userId": "112345304399997048072"
     },
     "user_tz": -540
    },
    "id": "Wr8S7QBpl7lX",
    "outputId": "db368d51-08b6-4857-f4e1-f2f06294e776"
   },
   "outputs": [
    {
     "data": {
      "text/plain": [
       "'kitchen'"
      ]
     },
     "execution_count": 66,
     "metadata": {
      "tags": []
     },
     "output_type": "execute_result"
    }
   ],
   "source": [
    "model.wv.doesnt_match('man woman child kitchen'.split()) #관련 없는 단어 찾기"
   ]
  },
  {
   "cell_type": "code",
   "execution_count": 67,
   "metadata": {
    "colab": {
     "autoexec": {
      "startup": false,
      "wait_interval": 0
     },
     "base_uri": "https://localhost:8080/",
     "height": 193
    },
    "colab_type": "code",
    "collapsed": false,
    "executionInfo": {
     "elapsed": 555,
     "status": "ok",
     "timestamp": 1526417960772,
     "user": {
      "displayName": "이현경",
      "photoUrl": "https://lh3.googleusercontent.com/a/default-user=s128",
      "userId": "112345304399997048072"
     },
     "user_tz": -540
    },
    "id": "5RTaTT4NmSov",
    "outputId": "e0d040ab-8071-419e-9563-1f9f9a2bf101"
   },
   "outputs": [
    {
     "data": {
      "text/plain": [
       "[(u'movi', 0.7334803342819214),\n",
       " (u'cinema', 0.5630949139595032),\n",
       " (u'flick', 0.5628443956375122),\n",
       " (u'pictur', 0.5600677728652954),\n",
       " (u'documentari', 0.5506924390792847),\n",
       " (u'it', 0.5396550893783569),\n",
       " (u'effort', 0.5266224145889282),\n",
       " (u'product', 0.5081579685211182),\n",
       " (u'masterpiec', 0.47793054580688477),\n",
       " (u'sequel', 0.47565460205078125)]"
      ]
     },
     "execution_count": 67,
     "metadata": {
      "tags": []
     },
     "output_type": "execute_result"
    }
   ],
   "source": [
    "model.wv.most_similar(\"film\")"
   ]
  },
  {
   "cell_type": "code",
   "execution_count": 68,
   "metadata": {
    "colab": {
     "autoexec": {
      "startup": false,
      "wait_interval": 0
     },
     "base_uri": "https://localhost:8080/",
     "height": 193
    },
    "colab_type": "code",
    "collapsed": false,
    "executionInfo": {
     "elapsed": 614,
     "status": "ok",
     "timestamp": 1526417985276,
     "user": {
      "displayName": "이현경",
      "photoUrl": "https://lh3.googleusercontent.com/a/default-user=s128",
      "userId": "112345304399997048072"
     },
     "user_tz": -540
    },
    "id": "lVJyOxYpmavY",
    "outputId": "f483942a-a8d2-475a-cc03-b04c1b5c02fc"
   },
   "outputs": [
    {
     "data": {
      "text/plain": [
       "[(u'sad', 0.5542956590652466),\n",
       " (u'afraid', 0.4951784312725067),\n",
       " (u'bitter', 0.4931909441947937),\n",
       " (u'joy', 0.4435582756996155),\n",
       " (u'hope', 0.43735432624816895),\n",
       " (u'happili', 0.43635138869285583),\n",
       " (u'unhappi', 0.4347827434539795),\n",
       " (u'leav', 0.42590752243995667),\n",
       " (u'pray', 0.4224507212638855),\n",
       " (u'love', 0.41848206520080566)]"
      ]
     },
     "execution_count": 68,
     "metadata": {
      "tags": []
     },
     "output_type": "execute_result"
    }
   ],
   "source": [
    "model.wv.most_similar(\"happi\")"
   ]
  },
  {
   "cell_type": "code",
   "execution_count": null,
   "metadata": {
    "colab": {
     "autoexec": {
      "startup": false,
      "wait_interval": 0
     }
    },
    "colab_type": "code",
    "collapsed": true,
    "id": "2xGaQA-emgsx"
   },
   "outputs": [],
   "source": [
    "import numpy as np\n",
    "\n",
    "def makeFeatureVec(words, model, num_features):\n",
    "    \"\"\"\n",
    "    주어진 문장에서 단어 벡터의 평균을 구하는 함수\n",
    "    \"\"\"\n",
    "    # 속도를 위해 0으로 채운 배열로 초기화 한다.\n",
    "    featureVec = np.zeros((num_features,),dtype=\"float32\")\n",
    "\n",
    "    nwords = 0.\n",
    "    # Index2word는 모델의 사전에 있는 단어명을 담은 리스트이다.\n",
    "    # 속도를 위해 set 형태로 초기화 한다.\n",
    "    index2word_set = set(model.wv.index2word)\n",
    "    # 루프를 돌며 모델 사전에 포함이 되는 단어라면 피처에 추가한다.\n",
    "    for word in words:\n",
    "        if word in index2word_set:\n",
    "            nwords = nwords + 1.\n",
    "            featureVec = np.add(featureVec,model[word])\n",
    "    # 결과를 단어수로 나누어 평균을 구한다.\n",
    "    featureVec = np.divide(featureVec,nwords)\n",
    "    return featureVec"
   ]
  },
  {
   "cell_type": "code",
   "execution_count": null,
   "metadata": {
    "colab": {
     "autoexec": {
      "startup": false,
      "wait_interval": 0
     }
    },
    "colab_type": "code",
    "collapsed": true,
    "id": "vlCIEkzomz4E"
   },
   "outputs": [],
   "source": [
    "def getAvgFeatureVecs(reviews, model, num_features):\n",
    "    # 리뷰 단어 목록의 각각에 대한 평균 feature 벡터를 계산하고 \n",
    "    # 2D numpy 배열을 반환한다.\n",
    "    \n",
    "    # 카운터를 초기화 한다.\n",
    "    counter = 0.\n",
    "    # 속도를 위해 2D 넘파이 배열을 미리 할당한다.\n",
    "    reviewFeatureVecs = np.zeros(\n",
    "        (len(reviews),num_features),dtype=\"float32\")\n",
    "    \n",
    "    for review in reviews:\n",
    "       # 매 1000개 리뷰마다 상태를 출력\n",
    "       if counter%1000. == 0.:\n",
    "           print(\"Review %d of %d\" % (counter, len(reviews)))\n",
    "       # 평균 피처 벡터를 만들기 위해 위에서 정의한 함수를 호출한다.\n",
    "       reviewFeatureVecs[int(counter)] = makeFeatureVec(review, model, \\\n",
    "           num_features)\n",
    "       # 카운터를 증가시킨다.\n",
    "       counter = counter + 1.\n",
    "    return reviewFeatureVecs"
   ]
  },
  {
   "cell_type": "code",
   "execution_count": 71,
   "metadata": {
    "colab": {
     "autoexec": {
      "startup": false,
      "wait_interval": 0
     },
     "base_uri": "https://localhost:8080/",
     "height": 530
    },
    "colab_type": "code",
    "collapsed": false,
    "executionInfo": {
     "elapsed": 49387,
     "status": "ok",
     "timestamp": 1526418454479,
     "user": {
      "displayName": "이현경",
      "photoUrl": "https://lh3.googleusercontent.com/a/default-user=s128",
      "userId": "112345304399997048072"
     },
     "user_tz": -540
    },
    "id": "Cq8TIKnCn-kM",
    "outputId": "6f148663-438f-494b-9700-d213502a632c"
   },
   "outputs": [
    {
     "name": "stdout",
     "output_type": "stream",
     "text": [
      "Review 0 of 25000\n"
     ]
    },
    {
     "name": "stderr",
     "output_type": "stream",
     "text": [
      "/usr/local/lib/python2.7/dist-packages/ipykernel_launcher.py:18: DeprecationWarning: Call to deprecated `__getitem__` (Method will be removed in 4.0.0, use self.wv.__getitem__() instead).\n"
     ]
    },
    {
     "name": "stdout",
     "output_type": "stream",
     "text": [
      "Review 1000 of 25000\n",
      "Review 2000 of 25000\n",
      "Review 3000 of 25000\n",
      "Review 4000 of 25000\n",
      "Review 5000 of 25000\n",
      "Review 6000 of 25000\n",
      "Review 7000 of 25000\n",
      "Review 8000 of 25000\n",
      "Review 9000 of 25000\n",
      "Review 10000 of 25000\n",
      "Review 11000 of 25000\n",
      "Review 12000 of 25000\n",
      "Review 13000 of 25000\n",
      "Review 14000 of 25000\n",
      "Review 15000 of 25000\n",
      "Review 16000 of 25000\n",
      "Review 17000 of 25000\n",
      "Review 18000 of 25000\n",
      "Review 19000 of 25000\n",
      "Review 20000 of 25000\n",
      "Review 21000 of 25000\n",
      "Review 22000 of 25000\n",
      "Review 23000 of 25000\n",
      "Review 24000 of 25000\n",
      "CPU times: user 48.4 s, sys: 1.09 s, total: 49.5 s\n",
      "Wall time: 48.8 s\n"
     ]
    }
   ],
   "source": [
    "%time trainDataVecs = getAvgFeatureVecs(\\\n",
    "    train_sentences, model, num_features )"
   ]
  },
  {
   "cell_type": "code",
   "execution_count": 76,
   "metadata": {
    "colab": {
     "autoexec": {
      "startup": false,
      "wait_interval": 0
     },
     "base_uri": "https://localhost:8080/",
     "height": 530
    },
    "colab_type": "code",
    "collapsed": false,
    "executionInfo": {
     "elapsed": 49608,
     "status": "ok",
     "timestamp": 1526418551030,
     "user": {
      "displayName": "이현경",
      "photoUrl": "https://lh3.googleusercontent.com/a/default-user=s128",
      "userId": "112345304399997048072"
     },
     "user_tz": -540
    },
    "id": "MklPkYTbm2So",
    "outputId": "ba1cfee6-47da-42cb-e70b-029bd65e4d0c"
   },
   "outputs": [
    {
     "name": "stdout",
     "output_type": "stream",
     "text": [
      "Review 0 of 25000\n"
     ]
    },
    {
     "name": "stderr",
     "output_type": "stream",
     "text": [
      "/usr/local/lib/python2.7/dist-packages/ipykernel_launcher.py:18: DeprecationWarning: Call to deprecated `__getitem__` (Method will be removed in 4.0.0, use self.wv.__getitem__() instead).\n"
     ]
    },
    {
     "name": "stdout",
     "output_type": "stream",
     "text": [
      "Review 1000 of 25000\n",
      "Review 2000 of 25000\n",
      "Review 3000 of 25000\n",
      "Review 4000 of 25000\n",
      "Review 5000 of 25000\n",
      "Review 6000 of 25000\n",
      "Review 7000 of 25000\n",
      "Review 8000 of 25000\n",
      "Review 9000 of 25000\n",
      "Review 10000 of 25000\n",
      "Review 11000 of 25000\n",
      "Review 12000 of 25000\n",
      "Review 13000 of 25000\n",
      "Review 14000 of 25000\n",
      "Review 15000 of 25000\n",
      "Review 16000 of 25000\n",
      "Review 17000 of 25000\n",
      "Review 18000 of 25000\n",
      "Review 19000 of 25000\n",
      "Review 20000 of 25000\n",
      "Review 21000 of 25000\n",
      "Review 22000 of 25000\n",
      "Review 23000 of 25000\n",
      "Review 24000 of 25000\n",
      "CPU times: user 48.8 s, sys: 1.47 s, total: 50.2 s\n",
      "Wall time: 49 s\n"
     ]
    }
   ],
   "source": [
    "%time testDataVecs = getAvgFeatureVecs(\\\n",
    "    test_sentences, model, num_features )"
   ]
  },
  {
   "cell_type": "code",
   "execution_count": 77,
   "metadata": {
    "colab": {
     "autoexec": {
      "startup": false,
      "wait_interval": 0
     },
     "base_uri": "https://localhost:8080/",
     "height": 52
    },
    "colab_type": "code",
    "collapsed": false,
    "executionInfo": {
     "elapsed": 34565,
     "status": "ok",
     "timestamp": 1526418595444,
     "user": {
      "displayName": "이현경",
      "photoUrl": "https://lh3.googleusercontent.com/a/default-user=s128",
      "userId": "112345304399997048072"
     },
     "user_tz": -540
    },
    "id": "5_7tcAR8oWiF",
    "outputId": "e6b48098-0bb8-47d5-e5f6-b0a479ce2d1f"
   },
   "outputs": [
    {
     "name": "stdout",
     "output_type": "stream",
     "text": [
      "CPU times: user 1min 7s, sys: 68 ms, total: 1min 7s\n",
      "Wall time: 34 s\n"
     ]
    }
   ],
   "source": [
    "%time forest = forest.fit( trainDataVecs, train[\"sentiment\"] )"
   ]
  },
  {
   "cell_type": "code",
   "execution_count": 78,
   "metadata": {
    "colab": {
     "autoexec": {
      "startup": false,
      "wait_interval": 0
     },
     "base_uri": "https://localhost:8080/",
     "height": 52
    },
    "colab_type": "code",
    "collapsed": false,
    "executionInfo": {
     "elapsed": 300669,
     "status": "ok",
     "timestamp": 1526418896791,
     "user": {
      "displayName": "이현경",
      "photoUrl": "https://lh3.googleusercontent.com/a/default-user=s128",
      "userId": "112345304399997048072"
     },
     "user_tz": -540
    },
    "id": "7TIxMjwAotYg",
    "outputId": "72f78c6b-3b9c-4dee-bdc1-a462c13c175f"
   },
   "outputs": [
    {
     "name": "stdout",
     "output_type": "stream",
     "text": [
      "CPU times: user 9min 51s, sys: 638 ms, total: 9min 52s\n",
      "Wall time: 5min\n"
     ]
    }
   ],
   "source": [
    "from sklearn.model_selection import cross_val_score\n",
    "%time score = np.mean(cross_val_score(\\\n",
    "    forest, trainDataVecs, \\\n",
    "    train['sentiment'], cv=10, scoring='roc_auc'))"
   ]
  },
  {
   "cell_type": "code",
   "execution_count": null,
   "metadata": {
    "colab": {
     "autoexec": {
      "startup": false,
      "wait_interval": 0
     }
    },
    "colab_type": "code",
    "collapsed": true,
    "id": "51jH9mMYoxsR"
   },
   "outputs": [],
   "source": [
    "result = forest.predict( testDataVecs )\n"
   ]
  },
  {
   "cell_type": "code",
   "execution_count": null,
   "metadata": {
    "colab": {
     "autoexec": {
      "startup": false,
      "wait_interval": 0
     }
    },
    "colab_type": "code",
    "collapsed": true,
    "id": "drr0r2CMpB73"
   },
   "outputs": [],
   "source": [
    "output = pd.DataFrame( data={\"id\":test[\"id\"], \"sentiment\":result} )\n",
    "output.to_csv('Word2Vec_AverageVectors_{0:.5f}.csv'.format(score), \n",
    "              index=False, quoting=3 )"
   ]
  },
  {
   "cell_type": "code",
   "execution_count": 81,
   "metadata": {
    "colab": {
     "autoexec": {
      "startup": false,
      "wait_interval": 0
     },
     "base_uri": "https://localhost:8080/",
     "height": 87
    },
    "colab_type": "code",
    "collapsed": false,
    "executionInfo": {
     "elapsed": 520,
     "status": "ok",
     "timestamp": 1526418900484,
     "user": {
      "displayName": "이현경",
      "photoUrl": "https://lh3.googleusercontent.com/a/default-user=s128",
      "userId": "112345304399997048072"
     },
     "user_tz": -540
    },
    "id": "-IwyTHSMpDCW",
    "outputId": "40711fe4-6e9f-44f9-967c-f7a3653b9d92"
   },
   "outputs": [
    {
     "name": "stdout",
     "output_type": "stream",
     "text": [
      "-120\n"
     ]
    },
    {
     "data": {
      "text/plain": [
       "1    12560\n",
       "0    12440\n",
       "Name: sentiment, dtype: int64"
      ]
     },
     "execution_count": 81,
     "metadata": {
      "tags": []
     },
     "output_type": "execute_result"
    }
   ],
   "source": [
    "output_sentiment = output['sentiment'].value_counts()\n",
    "print(output_sentiment[0] - output_sentiment[1])\n",
    "output_sentiment"
   ]
  },
  {
   "cell_type": "markdown",
   "metadata": {
    "colab_type": "text",
    "id": "g6to9FlIwNUF"
   },
   "source": [
    "# Part3 : word2vec 으로 군집화"
   ]
  },
  {
   "cell_type": "code",
   "execution_count": 59,
   "metadata": {
    "colab": {
     "autoexec": {
      "startup": false,
      "wait_interval": 0
     }
    },
    "colab_type": "code",
    "collapsed": true,
    "id": "hAA6nttXpGuv"
   },
   "outputs": [],
   "source": [
    "import pandas as pd\n",
    "import numpy as np\n",
    "from gensim.models import Word2Vec\n",
    "from sklearn.cluster import KMeans\n",
    "from sklearn.ensemble import RandomForestClassifier\n",
    "\n",
    "from bs4 import BeautifulSoup\n",
    "import re\n",
    "import time"
   ]
  },
  {
   "cell_type": "code",
   "execution_count": 60,
   "metadata": {
    "colab": {
     "autoexec": {
      "startup": false,
      "wait_interval": 0
     },
     "base_uri": "https://localhost:8080/",
     "height": 34
    },
    "colab_type": "code",
    "collapsed": false,
    "executionInfo": {
     "elapsed": 831,
     "status": "ok",
     "timestamp": 1526420928126,
     "user": {
      "displayName": "이현경",
      "photoUrl": "https://lh3.googleusercontent.com/a/default-user=s128",
      "userId": "112345304399997048072"
     },
     "user_tz": -540
    },
    "id": "zrbDKHSlw3ji",
    "outputId": "6a078259-2a3f-42d9-a3ec-1f5744a112d8"
   },
   "outputs": [
    {
     "ename": "NameError",
     "evalue": "name 'model' is not defined",
     "output_type": "error",
     "traceback": [
      "\u001b[0;31m---------------------------------------------------------------------------\u001b[0m",
      "\u001b[0;31mNameError\u001b[0m                                 Traceback (most recent call last)",
      "\u001b[0;32m<ipython-input-60-a8802f605abe>\u001b[0m in \u001b[0;36m<module>\u001b[0;34m()\u001b[0m\n\u001b[1;32m      1\u001b[0m \u001b[0;31m# 앞에서 학습했던 Word2Vec모델\u001b[0m\u001b[0;34m\u001b[0m\u001b[0;34m\u001b[0m\u001b[0m\n\u001b[0;32m----> 2\u001b[0;31m \u001b[0mmodel\u001b[0m\u001b[0;34m\u001b[0m\u001b[0m\n\u001b[0m",
      "\u001b[0;31mNameError\u001b[0m: name 'model' is not defined"
     ]
    }
   ],
   "source": [
    "# 앞에서 학습했던 Word2Vec모델\n",
    "model"
   ]
  },
  {
   "cell_type": "code",
   "execution_count": 58,
   "metadata": {
    "colab": {
     "autoexec": {
      "startup": false,
      "wait_interval": 0
     },
     "base_uri": "https://localhost:8080/",
     "height": 90
    },
    "colab_type": "code",
    "collapsed": false,
    "executionInfo": {
     "elapsed": 812,
     "status": "ok",
     "timestamp": 1526420983214,
     "user": {
      "displayName": "이현경",
      "photoUrl": "https://lh3.googleusercontent.com/a/default-user=s128",
      "userId": "112345304399997048072"
     },
     "user_tz": -540
    },
    "id": "wn0aQybrxCH-",
    "outputId": "3667b520-76d6-43b8-8d03-95214ffc86ac"
   },
   "outputs": [
    {
     "ename": "NameError",
     "evalue": "name 'model' is not defined",
     "output_type": "error",
     "traceback": [
      "\u001b[0;31m---------------------------------------------------------------------------\u001b[0m",
      "\u001b[0;31mNameError\u001b[0m                                 Traceback (most recent call last)",
      "\u001b[0;32m<ipython-input-58-23c362278b3f>\u001b[0m in \u001b[0;36m<module>\u001b[0;34m()\u001b[0m\n\u001b[1;32m      3\u001b[0m \u001b[0;31m# 'syn0'이라는 넘파이 배열로 저장된다.\u001b[0m\u001b[0;34m\u001b[0m\u001b[0;34m\u001b[0m\u001b[0m\n\u001b[1;32m      4\u001b[0m \u001b[0;31m# syn0의 행 수는 모델 어휘의 단어 수, 컬럼 수는 피처 벡터의 크기\u001b[0m\u001b[0;34m\u001b[0m\u001b[0;34m\u001b[0m\u001b[0m\n\u001b[0;32m----> 5\u001b[0;31m \u001b[0mtype\u001b[0m\u001b[0;34m(\u001b[0m\u001b[0mmodel\u001b[0m\u001b[0;34m.\u001b[0m\u001b[0mwv\u001b[0m\u001b[0;34m.\u001b[0m\u001b[0msyn0\u001b[0m\u001b[0;34m)\u001b[0m\u001b[0;34m\u001b[0m\u001b[0m\n\u001b[0m",
      "\u001b[0;31mNameError\u001b[0m: name 'model' is not defined"
     ]
    }
   ],
   "source": [
    "# 숫자로 단어를 표현\n",
    "# Word2Vec 모델은 어휘의 각 단어에 대한 feature 벡터로 구성\n",
    "# 'syn0'이라는 넘파이 배열로 저장된다.\n",
    "# syn0의 행 수는 모델 어휘의 단어 수, 컬럼 수는 피처 벡터의 크기\n",
    "type(model.wv.syn0)"
   ]
  },
  {
   "cell_type": "code",
   "execution_count": 89,
   "metadata": {
    "colab": {
     "autoexec": {
      "startup": false,
      "wait_interval": 0
     },
     "base_uri": "https://localhost:8080/",
     "height": 90
    },
    "colab_type": "code",
    "collapsed": false,
    "executionInfo": {
     "elapsed": 693,
     "status": "ok",
     "timestamp": 1526421012680,
     "user": {
      "displayName": "이현경",
      "photoUrl": "https://lh3.googleusercontent.com/a/default-user=s128",
      "userId": "112345304399997048072"
     },
     "user_tz": -540
    },
    "id": "Eg7yQzPCx8kQ",
    "outputId": "77ece36e-baf9-4416-be50-c379d9eb352b"
   },
   "outputs": [
    {
     "name": "stderr",
     "output_type": "stream",
     "text": [
      "/usr/local/lib/python2.7/dist-packages/ipykernel_launcher.py:1: DeprecationWarning: Call to deprecated `syn0` (Attribute will be removed in 4.0.0, use self.wv.vectors instead).\n",
      "  \"\"\"Entry point for launching an IPython kernel.\n"
     ]
    },
    {
     "data": {
      "text/plain": [
       "(6504, 300)"
      ]
     },
     "execution_count": 89,
     "metadata": {
      "tags": []
     },
     "output_type": "execute_result"
    }
   ],
   "source": [
    "#model.shape\n",
    "model.wv.syn0.shape"
   ]
  },
  {
   "cell_type": "code",
   "execution_count": 90,
   "metadata": {
    "colab": {
     "autoexec": {
      "startup": false,
      "wait_interval": 0
     },
     "base_uri": "https://localhost:8080/",
     "height": 70
    },
    "colab_type": "code",
    "collapsed": false,
    "executionInfo": {
     "elapsed": 760,
     "status": "ok",
     "timestamp": 1526421036884,
     "user": {
      "displayName": "이현경",
      "photoUrl": "https://lh3.googleusercontent.com/a/default-user=s128",
      "userId": "112345304399997048072"
     },
     "user_tz": -540
    },
    "id": "oJv4BUnnyA1X",
    "outputId": "b9f669d5-e733-40da-f75d-f387676d0578"
   },
   "outputs": [
    {
     "data": {
      "text/plain": [
       "array([ 0.11038329,  0.11385681, -0.08818682,  0.21141057,  0.0507158 ,\n",
       "       -0.11233751,  0.3863399 ,  0.07246252,  0.18223438, -0.02038711],\n",
       "      dtype=float32)"
      ]
     },
     "execution_count": 90,
     "metadata": {
      "tags": []
     },
     "output_type": "execute_result"
    }
   ],
   "source": [
    "model.wv['flower'][:10]"
   ]
  },
  {
   "cell_type": "code",
   "execution_count": 91,
   "metadata": {
    "colab": {
     "autoexec": {
      "startup": false,
      "wait_interval": 0
     },
     "base_uri": "https://localhost:8080/",
     "height": 90
    },
    "colab_type": "code",
    "collapsed": false,
    "executionInfo": {
     "elapsed": 140468,
     "status": "ok",
     "timestamp": 1526421216127,
     "user": {
      "displayName": "이현경",
      "photoUrl": "https://lh3.googleusercontent.com/a/default-user=s128",
      "userId": "112345304399997048072"
     },
     "user_tz": -540
    },
    "id": "yz5HzUyFyJrv",
    "outputId": "12b605ed-29ea-42d5-a27f-c0664d30e045"
   },
   "outputs": [
    {
     "name": "stderr",
     "output_type": "stream",
     "text": [
      "/usr/local/lib/python2.7/dist-packages/ipykernel_launcher.py:4: DeprecationWarning: Call to deprecated `syn0` (Attribute will be removed in 4.0.0, use self.wv.vectors instead).\n",
      "  after removing the cwd from sys.path.\n"
     ]
    },
    {
     "name": "stdout",
     "output_type": "stream",
     "text": [
      "('Time taken for K Means clustering: ', 140.0735960006714, 'seconds.')\n"
     ]
    }
   ],
   "source": [
    "# 단어 벡터에서 k-means를 실행하고 일부 클러스터를 찍어본다.\n",
    "start = time.time() # 시작시간\n",
    "\n",
    "# 클러스터의 크기 \"k\"를 어휘 크기의 1/5 이나 평균 5단어로 설정한다.\n",
    "word_vectors = model.wv.syn0 # 어휘의 feature vector\n",
    "num_clusters = word_vectors.shape[0] / 5\n",
    "num_clusters = int(num_clusters)\n",
    "\n",
    "# K means 를 정의하고 학습시킨다.\n",
    "kmeans_clustering = KMeans( n_clusters = num_clusters )\n",
    "idx = kmeans_clustering.fit_predict( word_vectors )\n",
    "\n",
    "# 끝난시간에서 시작시간을 빼서 걸린 시간을 구한다.\n",
    "end = time.time()\n",
    "elapsed = end - start\n",
    "print(\"Time taken for K Means clustering: \", elapsed, \"seconds.\")"
   ]
  },
  {
   "cell_type": "code",
   "execution_count": 92,
   "metadata": {
    "colab": {
     "autoexec": {
      "startup": false,
      "wait_interval": 0
     },
     "base_uri": "https://localhost:8080/",
     "height": 565
    },
    "colab_type": "code",
    "collapsed": false,
    "executionInfo": {
     "elapsed": 8672,
     "status": "ok",
     "timestamp": 1526421230554,
     "user": {
      "displayName": "이현경",
      "photoUrl": "https://lh3.googleusercontent.com/a/default-user=s128",
      "userId": "112345304399997048072"
     },
     "user_tz": -540
    },
    "id": "Zp0Qj3VzyTUA",
    "outputId": "6db0dc5a-cd91-42e5-a1c7-19a281e12f89"
   },
   "outputs": [
    {
     "name": "stdout",
     "output_type": "stream",
     "text": [
      "\n",
      "Cluster 0\n",
      "[u'servic']\n",
      "\n",
      "Cluster 1\n",
      "[u'unabl', u'presum', u'fund', u'target', u'test', u'appar', u'somehow', u'financi', u'task', u'fortun', u'ill', u'realis', u'insist', u'cheat', u'invest', u'demand', u'determin']\n",
      "\n",
      "Cluster 2\n",
      "[u'meg', u'posey', u'collett', u'miranda', u'crawford', u'tierney', u'rita', u'bell', u'bo', u'zelah', u'linda', u'simmon', u'timothi', u'watson', u'dalton', u'thompson', u'carey', u'rubi', u'louis', u'novak', u'kay', u'rupert', u'carter', u'brook', u'malon', u'fontain', u'lauren', u'gillian', u'glenn', u'helen', u'charlott', u'vanessa', u'northam', u'brando', u'emili', u'dee', u'fay', u'grayson', u'waitress', u'redgrav', u'harriet', u'derek', u'dian', u'bate', u'marion', u'shelley', u'bacal', u'beckinsal', u'fonda', u'hepburn', u'anni', u'knightley', u'margaret', u'richardson']\n",
      "\n",
      "Cluster 3\n",
      "[u'birth', u'pet', u'embark', u'recov', u'nearbi', u'via', u'eager', u'await', u'immedi', u'happili', u'contact', u'prepar', u'subsequ', u'cemeteri', u'farm', u'florida', u'forev', u'meteor', u'destin', u'shelter', u'newli', u'voyag', u'fallen', u'sold', u'announc', u'survivor', u'treasur']\n",
      "\n",
      "Cluster 4\n",
      "[u'okay', u'ok']\n",
      "\n",
      "Cluster 5\n",
      "[u'payoff', u'deterior', u'centr', u'interrupt', u'extend', u'transpar', u'duel', u'flood', u'splice', u'denouement', u'envelop', u'inter', u'conclud', u'inexplic', u'hallucin', u'harrow', u'yawn', u'analog', u'durat', u'vanish', u'shorten', u'elev', u'claustrophob', u'scatter', u'climact', u'decay', u'beneath', u'unravel', u'paus', u'stagger', u'daylight', u'closeup', u'glu', u'gloss', u'hypnot', u'fragment', u'ponder', u'laden', u'monologu', u'retreat', u'amidst', u'rough', u'halt', u'en', u'replay', u'silenc', u'eras', u'instanc', u'momentum', u'downward', u'uneasi', u'underwat', u'prologu', u'oblivi', u'snippet', u'horrif', u'fleet', u'infest', u'dissolv', u'psychedel', u'fuel', u'shed', u'culmin', u'portion', u'calm', u'frenzi', u'crucial', u'startl', u'dwell', u'alarm', u'blur', u'agon', u'simul', u'ooz', u'intrud', u'aimless', u'interspers', u'shatter', u'frequent', u'murki', u'trace', u'exclus', u'seal', u'exhaust', u'outdoor', u'submarin', u'escal', u'narrow', u'compound', u'omin', u'obligatori', u'corridor', u'rhyme', u'cylon', u'courtroom', u'laps', u'prolong', u'pattern', u'revers', u'instant', u'gaze', u'insert', u'propel', u'desol', u'stray', u'crumbl', u'carnag', u'filter', u'strung', u'fluid', u'erupt', u'visibl', u'stream', u'preced', u'passag', u'underneath', u'nightmarish', u'assort', u'intertwin', u'mount', u'clutter', u'reliev', u'drone', u'relentless', u'immers', u'frantic', u'lengthi', u'unseen', u'emphasi', u'weather', u'echo', u'rout', u'entic', u'swift', u'rapid', u'enact', u'lean', u'linger', u'gap']\n",
      "\n",
      "Cluster 6\n",
      "[u'hop', u'hum', u'catchi', u'punk', u'busbi', u'chorus', u'pie', u'ramon', u'skit', u'stoog', u'rap', u'guitar', u'routin', u'spinal', u'berkeley', u'hip', u'musician', u'tap']\n",
      "\n",
      "Cluster 7\n",
      "[u'content', u'context']\n",
      "\n",
      "Cluster 8\n",
      "[u'wasn']\n",
      "\n",
      "Cluster 9\n",
      "[u'dare', u'anywher', u'suffic', u'imposs', u'needless']\n"
     ]
    }
   ],
   "source": [
    "idx = list(idx)\n",
    "names = model.wv.index2word\n",
    "word_centroid_map = {names[i]: idx[i] for i in range(len(names))}\n",
    "#     word_centroid_map = dict(zip( model.wv.index2word, idx ))\n",
    "\n",
    "# 첫번째 클러스터의 처음 10개를 출력\n",
    "for cluster in range(0,10):\n",
    "    # 클러스터 번호를 출력\n",
    "    print(\"\\nCluster {}\".format(cluster))\n",
    "    \n",
    "    # 클러스터번호와 클러스터에 있는 단어를 찍는다.\n",
    "    words = []\n",
    "    for i in range(0,len(list(word_centroid_map.values()))):\n",
    "        if( list(word_centroid_map.values())[i] == cluster ):\n",
    "            words.append(list(word_centroid_map.keys())[i])\n",
    "    print(words)"
   ]
  },
  {
   "cell_type": "code",
   "execution_count": null,
   "metadata": {
    "colab": {
     "autoexec": {
      "startup": false,
      "wait_interval": 0
     }
    },
    "colab_type": "code",
    "collapsed": true,
    "id": "ik9q3hjPy3C0"
   },
   "outputs": [],
   "source": [
    "train_centroids = np.zeros((train[\"review\"].size, num_clusters), \\\n",
    "    dtype=\"float32\" )"
   ]
  },
  {
   "cell_type": "code",
   "execution_count": null,
   "metadata": {
    "colab": {
     "autoexec": {
      "startup": false,
      "wait_interval": 0
     }
    },
    "colab_type": "code",
    "collapsed": true,
    "id": "KloGT7WCzIee"
   },
   "outputs": [],
   "source": [
    "def create_bag_of_centroids( wordlist, word_centroid_map ):\n",
    "    \n",
    "    # 클러스터의 수는 word / centroid map에서 가장 높은 클러스트 인덱스와 같다.\n",
    "    num_centroids = max( word_centroid_map.values() ) + 1\n",
    "    \n",
    "    # 속도를 위해 bag of centroids vector를 미리 할당한다.\n",
    "    bag_of_centroids = np.zeros( num_centroids, dtype=\"float32\" )\n",
    "    \n",
    "    # 루프를 돌며 단어가 word_centroid_map에 있다면\n",
    "    # 해당되는 클러스터의 수를 하나씩 증가시켜 준다.\n",
    "    for word in wordlist:\n",
    "        if word in word_centroid_map:\n",
    "            index = word_centroid_map[word]\n",
    "            bag_of_centroids[index] += 1\n",
    "    \n",
    "    # bag of centroids를 반환한다.\n",
    "    return bag_of_centroids"
   ]
  },
  {
   "cell_type": "code",
   "execution_count": 95,
   "metadata": {
    "colab": {
     "autoexec": {
      "startup": false,
      "wait_interval": 0
     },
     "base_uri": "https://localhost:8080/",
     "height": 70
    },
    "colab_type": "code",
    "collapsed": false,
    "executionInfo": {
     "elapsed": 69818,
     "status": "ok",
     "timestamp": 1526421451054,
     "user": {
      "displayName": "이현경",
      "photoUrl": "https://lh3.googleusercontent.com/a/default-user=s128",
      "userId": "112345304399997048072"
     },
     "user_tz": -540
    },
    "id": "Mcd4qcTzzMpF",
    "outputId": "faa8b6d1-841a-48b7-e0df-09f748d8ad4f"
   },
   "outputs": [
    {
     "name": "stdout",
     "output_type": "stream",
     "text": [
      "Fitting a random forest to labeled training data...\n",
      "CPU times: user 23.6 s, sys: 9 ms, total: 23.6 s\n",
      "Wall time: 23.6 s\n"
     ]
    }
   ],
   "source": [
    "counter = 0\n",
    "for review in train_sentences:\n",
    "    train_centroids[counter] = create_bag_of_centroids( review, \\\n",
    "        word_centroid_map )\n",
    "    counter += 1\n",
    "\n",
    "# 테스트 리뷰도 같은 방법으로 반복해 준다.\n",
    "test_centroids = np.zeros(( test[\"review\"].size, num_clusters), \\\n",
    "    dtype=\"float32\" )\n",
    "\n",
    "counter = 0\n",
    "for review in test_sentences:\n",
    "    test_centroids[counter] = create_bag_of_centroids( review, \\\n",
    "        word_centroid_map )\n",
    "    counter += 1\n",
    "\n",
    "\n",
    "# 랜덤포레스트를 사용하여 학습시키고 예측\n",
    "forest = RandomForestClassifier(n_estimators = 100)\n",
    "\n",
    "# train 데이터의 레이블을 통해 학습시키고 예측한다.\n",
    "# 시간이 좀 소요되기 때문에 %time을 통해 걸린 시간을 찍도록 함\n",
    "print(\"Fitting a random forest to labeled training data...\")\n",
    "%time forest = forest.fit(train_centroids, train[\"sentiment\"])"
   ]
  },
  {
   "cell_type": "code",
   "execution_count": 96,
   "metadata": {
    "colab": {
     "autoexec": {
      "startup": false,
      "wait_interval": 0
     },
     "base_uri": "https://localhost:8080/",
     "height": 52
    },
    "colab_type": "code",
    "collapsed": false,
    "executionInfo": {
     "elapsed": 264826,
     "status": "ok",
     "timestamp": 1526422481581,
     "user": {
      "displayName": "이현경",
      "photoUrl": "https://lh3.googleusercontent.com/a/default-user=s128",
      "userId": "112345304399997048072"
     },
     "user_tz": -540
    },
    "id": "vbboispazd78",
    "outputId": "099eb2a2-fb62-404f-d152-4bebcaa4fba9"
   },
   "outputs": [
    {
     "name": "stdout",
     "output_type": "stream",
     "text": [
      "CPU times: user 4min 24s, sys: 138 ms, total: 4min 24s\n",
      "Wall time: 4min 24s\n"
     ]
    }
   ],
   "source": [
    "from sklearn.model_selection import cross_val_score\n",
    "%time score = np.mean(cross_val_score(\\\n",
    "    forest, train_centroids, train['sentiment'], cv=10,\\\n",
    "    scoring='roc_auc'))"
   ]
  },
  {
   "cell_type": "code",
   "execution_count": 97,
   "metadata": {
    "colab": {
     "autoexec": {
      "startup": false,
      "wait_interval": 0
     },
     "base_uri": "https://localhost:8080/",
     "height": 52
    },
    "colab_type": "code",
    "collapsed": false,
    "executionInfo": {
     "elapsed": 2732,
     "status": "ok",
     "timestamp": 1526422485092,
     "user": {
      "displayName": "이현경",
      "photoUrl": "https://lh3.googleusercontent.com/a/default-user=s128",
      "userId": "112345304399997048072"
     },
     "user_tz": -540
    },
    "id": "i9FYSsnIzlM_",
    "outputId": "6618054a-eee3-4e01-d4ff-e801f92b43ae"
   },
   "outputs": [
    {
     "name": "stdout",
     "output_type": "stream",
     "text": [
      "CPU times: user 1.93 s, sys: 1e+03 µs, total: 1.93 s\n",
      "Wall time: 1.94 s\n"
     ]
    }
   ],
   "source": [
    "%time result = forest.predict(test_centroids)\n"
   ]
  },
  {
   "cell_type": "code",
   "execution_count": 98,
   "metadata": {
    "colab": {
     "autoexec": {
      "startup": false,
      "wait_interval": 0
     },
     "base_uri": "https://localhost:8080/",
     "height": 87
    },
    "colab_type": "code",
    "collapsed": false,
    "executionInfo": {
     "elapsed": 533,
     "status": "ok",
     "timestamp": 1526422486001,
     "user": {
      "displayName": "이현경",
      "photoUrl": "https://lh3.googleusercontent.com/a/default-user=s128",
      "userId": "112345304399997048072"
     },
     "user_tz": -540
    },
    "id": "-BJ4Ei652qMS",
    "outputId": "41b24f4d-8c23-4d11-f45b-00861917b7b5"
   },
   "outputs": [
    {
     "name": "stdout",
     "output_type": "stream",
     "text": [
      "-120\n"
     ]
    },
    {
     "data": {
      "text/plain": [
       "1    12560\n",
       "0    12440\n",
       "Name: sentiment, dtype: int64"
      ]
     },
     "execution_count": 98,
     "metadata": {
      "tags": []
     },
     "output_type": "execute_result"
    }
   ],
   "source": [
    "output_sentiment = output['sentiment'].value_counts()\n",
    "print(output_sentiment[0] - output_sentiment[1])\n",
    "output_sentiment"
   ]
  },
  {
   "cell_type": "markdown",
   "metadata": {
    "colab_type": "text",
    "id": "V4iGz3uR38Vw"
   },
   "source": [
    "# Part4 : TF-IDF 벡터화"
   ]
  },
  {
   "cell_type": "code",
   "execution_count": null,
   "metadata": {
    "colab": {
     "autoexec": {
      "startup": false,
      "wait_interval": 0
     }
    },
    "colab_type": "code",
    "collapsed": true,
    "id": "23TgHL1t27-z"
   },
   "outputs": [],
   "source": [
    "train['review_clean'] = clean_train_reviews\n",
    "test['review_clean'] = clean_test_reviews\n",
    "\n",
    "X_train = train['review_clean']\n",
    "X_test = train['review_clean']"
   ]
  },
  {
   "cell_type": "markdown",
   "metadata": {
    "colab_type": "text",
    "id": "auCdi31H4rF2"
   },
   "source": [
    "TF(단어 빈도, term frequency)는 특정한 단어가 문서 내에 얼마나 자주 등장하는지를 나타내는 값으로, 이 값이 높을수록 문서에서 중요하다고 생각할 수 있다. <br>\n",
    "하지만 단어 자체가 문서군 내에서 자주 사용되는 경우, 이것은 그 단어가 흔하게 등장한다는 것을 의미한다. <br>\n",
    "이것을 DF(문서 빈도, document frequency)라고 하며, 이 값의 역수를 IDF(역문서 빈도, inverse document frequency)라고 한다. TF-IDF는 TF와 IDF를 곱한 값이다."
   ]
  },
  {
   "cell_type": "code",
   "execution_count": 103,
   "metadata": {
    "colab": {
     "autoexec": {
      "startup": false,
      "wait_interval": 0
     },
     "base_uri": "https://localhost:8080/",
     "height": 160
    },
    "colab_type": "code",
    "collapsed": false,
    "executionInfo": {
     "elapsed": 949,
     "status": "ok",
     "timestamp": 1526422835973,
     "user": {
      "displayName": "이현경",
      "photoUrl": "https://lh3.googleusercontent.com/a/default-user=s128",
      "userId": "112345304399997048072"
     },
     "user_tz": -540
    },
    "id": "wwEIdnMB4TUP",
    "outputId": "2ca50fbd-5648-4044-beb1-9fa4488037a4"
   },
   "outputs": [
    {
     "data": {
      "text/plain": [
       "CountVectorizer(analyzer='word', binary=False, decode_error=u'strict',\n",
       "        dtype=<type 'numpy.int64'>, encoding=u'utf-8', input=u'content',\n",
       "        lowercase=True, max_df=1.0, max_features=90000, min_df=2,\n",
       "        ngram_range=(1, 3), preprocessor=None, stop_words='english',\n",
       "        strip_accents=None, token_pattern=u'(?u)\\\\b\\\\w\\\\w+\\\\b',\n",
       "        tokenizer=None,\n",
       "        vocabulary=set([u'weirdward', u'sicsac', u'clotter', u'leucosyenite', u'supersensuous', u'nunnery', u'unessence', u'chilitis', u'pawnor', u'epigastrocele', u'alible', u'preadjournment', u'fleecer', u'sperrylite', u'comically', u'spidery', u'regularize', u'caner', u'fibrillose', u'mooder', u'fertilen...', u'unprisoned', u'repertoire', u'osteopetrosis', u'trafficability', u'unfeudalized', u'alangine']))"
      ]
     },
     "execution_count": 103,
     "metadata": {
      "tags": []
     },
     "output_type": "execute_result"
    }
   ],
   "source": [
    "from sklearn.feature_extraction.text import TfidfTransformer\n",
    "from sklearn.feature_extraction.text import CountVectorizer\n",
    "from sklearn.pipeline import Pipeline\n",
    "from nltk.corpus import words\n",
    "\n",
    "vectorizer = CountVectorizer(analyzer = 'word', \n",
    "                             lowercase = True,\n",
    "                             tokenizer = None,\n",
    "                             preprocessor = None,\n",
    "                             stop_words = 'english',\n",
    "                             min_df = 2, # 토큰이 나타날 최소 문서 개수로 오타나 자주 나오지 않는 특수한 전문용어 제거에 좋다. \n",
    "                             ngram_range=(1, 3),\n",
    "                             vocabulary = set(words.words()), # nltk의 words를 사용하거나 문서 자체의 사전을 만들거나 선택한다. \n",
    "                             max_features = 90000\n",
    "                            )\n",
    "vectorizer"
   ]
  },
  {
   "cell_type": "markdown",
   "metadata": {
    "colab_type": "text",
    "id": "4kZDqE525eC6"
   },
   "source": [
    "\n",
    "#### TfidfTransformer()\n",
    "- norm='l2' 각 문서의 피처 벡터를 어떻게 벡터 정규화 할지 정한다.\n",
    "    - L2 : 벡터의 각 원소의 제곱의 합이 1이 되도록 만드는 것이고 기본 값\n",
    "    - L1 : 벡터의 각 원소의 절댓값의 합이 1이 되도록 크기를 조절\n",
    "- smooth_idf=False\n",
    "피처를 만들 때 0으로 나오는 항목에 대해 작은 값을 더해서(스무딩을 해서) 피처를 만들지 아니면 그냥 생성할지를 결정\n",
    "- sublinear_tf=False\n",
    "- use_idf=True\n",
    "TF-IDF를 사용해 피처를 만들 것인지 아니면 단어 빈도 자체를 사용할 것인지 여부"
   ]
  },
  {
   "cell_type": "code",
   "execution_count": 104,
   "metadata": {
    "colab": {
     "autoexec": {
      "startup": false,
      "wait_interval": 0
     },
     "base_uri": "https://localhost:8080/",
     "height": 160
    },
    "colab_type": "code",
    "collapsed": false,
    "executionInfo": {
     "elapsed": 606,
     "status": "ok",
     "timestamp": 1526423016781,
     "user": {
      "displayName": "이현경",
      "photoUrl": "https://lh3.googleusercontent.com/a/default-user=s128",
      "userId": "112345304399997048072"
     },
     "user_tz": -540
    },
    "id": "qb8pd7Li43e7",
    "outputId": "320d41ae-ba0a-4daa-8dfc-1000baaee5de"
   },
   "outputs": [
    {
     "data": {
      "text/plain": [
       "Pipeline(memory=None,\n",
       "     steps=[('vect', CountVectorizer(analyzer='word', binary=False, decode_error=u'strict',\n",
       "        dtype=<type 'numpy.int64'>, encoding=u'utf-8', input=u'content',\n",
       "        lowercase=True, max_df=1.0, max_features=90000, min_df=2,\n",
       "        ngram_range=(1, 3), preprocessor=None, stop_words='english',\n",
       "     ...'tfidf', TfidfTransformer(norm=u'l2', smooth_idf=False, sublinear_tf=False,\n",
       "         use_idf=True))])"
      ]
     },
     "execution_count": 104,
     "metadata": {
      "tags": []
     },
     "output_type": "execute_result"
    }
   ],
   "source": [
    "pipeline = Pipeline([\n",
    "    ('vect', vectorizer),\n",
    "    ('tfidf', TfidfTransformer(smooth_idf = False)),\n",
    "])  \n",
    "pipeline"
   ]
  },
  {
   "cell_type": "code",
   "execution_count": 105,
   "metadata": {
    "colab": {
     "autoexec": {
      "startup": false,
      "wait_interval": 0
     },
     "base_uri": "https://localhost:8080/",
     "height": 107
    },
    "colab_type": "code",
    "collapsed": false,
    "executionInfo": {
     "elapsed": 13464,
     "status": "ok",
     "timestamp": 1526423038765,
     "user": {
      "displayName": "이현경",
      "photoUrl": "https://lh3.googleusercontent.com/a/default-user=s128",
      "userId": "112345304399997048072"
     },
     "user_tz": -540
    },
    "id": "v05UKY7o47Lz",
    "outputId": "df557411-fb90-4c9d-b991-7e03d68593b3"
   },
   "outputs": [
    {
     "name": "stdout",
     "output_type": "stream",
     "text": [
      "CPU times: user 12.5 s, sys: 22 ms, total: 12.6 s\n",
      "Wall time: 12.6 s\n"
     ]
    },
    {
     "name": "stderr",
     "output_type": "stream",
     "text": [
      "/usr/local/lib/python2.7/dist-packages/sklearn/feature_extraction/text.py:1067: RuntimeWarning: divide by zero encountered in divide\n",
      "  idf = np.log(float(n_samples) / df) + 1.0\n"
     ]
    }
   ],
   "source": [
    "%time X_train_tfidf_vector = pipeline.fit_transform(X_train)\n"
   ]
  },
  {
   "cell_type": "code",
   "execution_count": 106,
   "metadata": {
    "colab": {
     "autoexec": {
      "startup": false,
      "wait_interval": 0
     },
     "base_uri": "https://localhost:8080/",
     "height": 52
    },
    "colab_type": "code",
    "collapsed": false,
    "executionInfo": {
     "elapsed": 12845,
     "status": "ok",
     "timestamp": 1526423053728,
     "user": {
      "displayName": "이현경",
      "photoUrl": "https://lh3.googleusercontent.com/a/default-user=s128",
      "userId": "112345304399997048072"
     },
     "user_tz": -540
    },
    "id": "eQypVnZ55vTH",
    "outputId": "77e4558c-e1a9-48c6-bee5-0f45e9d48db4"
   },
   "outputs": [
    {
     "name": "stdout",
     "output_type": "stream",
     "text": [
      "CPU times: user 12.2 s, sys: 20 ms, total: 12.3 s\n",
      "Wall time: 12.3 s\n"
     ]
    }
   ],
   "source": [
    "%time X_test_tfidf_vector = pipeline.fit_transform(X_test)\n"
   ]
  },
  {
   "cell_type": "code",
   "execution_count": 108,
   "metadata": {
    "colab": {
     "autoexec": {
      "startup": false,
      "wait_interval": 0
     },
     "base_uri": "https://localhost:8080/",
     "height": 210
    },
    "colab_type": "code",
    "collapsed": false,
    "executionInfo": {
     "elapsed": 1024,
     "status": "ok",
     "timestamp": 1526423142580,
     "user": {
      "displayName": "이현경",
      "photoUrl": "https://lh3.googleusercontent.com/a/default-user=s128",
      "userId": "112345304399997048072"
     },
     "user_tz": -540
    },
    "id": "neY6NE1E6LNL",
    "outputId": "034dd55a-d943-4d03-e13e-2b9719e9182d"
   },
   "outputs": [
    {
     "name": "stdout",
     "output_type": "stream",
     "text": [
      "235892\n"
     ]
    },
    {
     "data": {
      "text/plain": [
       "[u'A',\n",
       " u'Aani',\n",
       " u'Aaron',\n",
       " u'Aaronic',\n",
       " u'Aaronical',\n",
       " u'Aaronite',\n",
       " u'Aaronitic',\n",
       " u'Aaru',\n",
       " u'Ab',\n",
       " u'Ababdeh']"
      ]
     },
     "execution_count": 108,
     "metadata": {
      "tags": []
     },
     "output_type": "execute_result"
    }
   ],
   "source": [
    "vocab = vectorizer.get_feature_names()\n",
    "print(len(vocab))\n",
    "vocab[:10]"
   ]
  },
  {
   "cell_type": "code",
   "execution_count": 109,
   "metadata": {
    "colab": {
     "autoexec": {
      "startup": false,
      "wait_interval": 0
     },
     "base_uri": "https://localhost:8080/",
     "height": 126
    },
    "colab_type": "code",
    "collapsed": false,
    "executionInfo": {
     "elapsed": 698,
     "status": "ok",
     "timestamp": 1526423145417,
     "user": {
      "displayName": "이현경",
      "photoUrl": "https://lh3.googleusercontent.com/a/default-user=s128",
      "userId": "112345304399997048072"
     },
     "user_tz": -540
    },
    "id": "-WHqhysu5zE3",
    "outputId": "84e795dd-31ed-4243-82e9-ac53b0fc1faa"
   },
   "outputs": [
    {
     "data": {
      "text/html": [
       "<div>\n",
       "<style scoped>\n",
       "    .dataframe tbody tr th:only-of-type {\n",
       "        vertical-align: middle;\n",
       "    }\n",
       "\n",
       "    .dataframe tbody tr th {\n",
       "        vertical-align: top;\n",
       "    }\n",
       "\n",
       "    .dataframe thead th {\n",
       "        text-align: right;\n",
       "    }\n",
       "</style>\n",
       "<table border=\"1\" class=\"dataframe\">\n",
       "  <thead>\n",
       "    <tr style=\"text-align: right;\">\n",
       "      <th></th>\n",
       "      <th>A</th>\n",
       "      <th>Aani</th>\n",
       "      <th>Aaron</th>\n",
       "      <th>Aaronic</th>\n",
       "      <th>Aaronical</th>\n",
       "      <th>Aaronite</th>\n",
       "      <th>Aaronitic</th>\n",
       "      <th>Aaru</th>\n",
       "      <th>Ab</th>\n",
       "      <th>Ababdeh</th>\n",
       "      <th>...</th>\n",
       "      <th>zymotechnical</th>\n",
       "      <th>zymotechnics</th>\n",
       "      <th>zymotechny</th>\n",
       "      <th>zymotic</th>\n",
       "      <th>zymotically</th>\n",
       "      <th>zymotize</th>\n",
       "      <th>zymotoxic</th>\n",
       "      <th>zymurgy</th>\n",
       "      <th>zythem</th>\n",
       "      <th>zythum</th>\n",
       "    </tr>\n",
       "  </thead>\n",
       "  <tbody>\n",
       "    <tr>\n",
       "      <th>0</th>\n",
       "      <td>0.0</td>\n",
       "      <td>0.0</td>\n",
       "      <td>0.0</td>\n",
       "      <td>0.0</td>\n",
       "      <td>0.0</td>\n",
       "      <td>0.0</td>\n",
       "      <td>0.0</td>\n",
       "      <td>0.0</td>\n",
       "      <td>0.0</td>\n",
       "      <td>0.0</td>\n",
       "      <td>...</td>\n",
       "      <td>0.0</td>\n",
       "      <td>0.0</td>\n",
       "      <td>0.0</td>\n",
       "      <td>0.0</td>\n",
       "      <td>0.0</td>\n",
       "      <td>0.0</td>\n",
       "      <td>0.0</td>\n",
       "      <td>0.0</td>\n",
       "      <td>0.0</td>\n",
       "      <td>0.0</td>\n",
       "    </tr>\n",
       "  </tbody>\n",
       "</table>\n",
       "<p>1 rows × 235892 columns</p>\n",
       "</div>"
      ],
      "text/plain": [
       "     A  Aani  Aaron  Aaronic  Aaronical  Aaronite  Aaronitic  Aaru   Ab  \\\n",
       "0  0.0   0.0    0.0      0.0        0.0       0.0        0.0   0.0  0.0   \n",
       "\n",
       "   Ababdeh   ...    zymotechnical  zymotechnics  zymotechny  zymotic  \\\n",
       "0      0.0   ...              0.0           0.0         0.0      0.0   \n",
       "\n",
       "   zymotically  zymotize  zymotoxic  zymurgy  zythem  zythum  \n",
       "0          0.0       0.0        0.0      0.0     0.0     0.0  \n",
       "\n",
       "[1 rows x 235892 columns]"
      ]
     },
     "execution_count": 109,
     "metadata": {
      "tags": []
     },
     "output_type": "execute_result"
    }
   ],
   "source": [
    "import numpy as np\n",
    "dist = np.sum(X_train_tfidf_vector, axis=0)\n",
    "\n",
    "    \n",
    "pd.DataFrame(dist, columns=vocab)"
   ]
  },
  {
   "cell_type": "code",
   "execution_count": 110,
   "metadata": {
    "colab": {
     "autoexec": {
      "startup": false,
      "wait_interval": 0
     },
     "base_uri": "https://localhost:8080/",
     "height": 52
    },
    "colab_type": "code",
    "collapsed": false,
    "executionInfo": {
     "elapsed": 230305,
     "status": "ok",
     "timestamp": 1526423414316,
     "user": {
      "displayName": "이현경",
      "photoUrl": "https://lh3.googleusercontent.com/a/default-user=s128",
      "userId": "112345304399997048072"
     },
     "user_tz": -540
    },
    "id": "V4AKZkG86CJq",
    "outputId": "e02dc209-df6d-4ad1-ae65-e3c17934662a"
   },
   "outputs": [
    {
     "name": "stdout",
     "output_type": "stream",
     "text": [
      "CPU times: user 3min 49s, sys: 127 ms, total: 3min 49s\n",
      "Wall time: 3min 49s\n"
     ]
    }
   ],
   "source": [
    "%time forest = forest.fit(X_train_tfidf_vector, train['sentiment'])\n"
   ]
  },
  {
   "cell_type": "code",
   "execution_count": null,
   "metadata": {
    "colab": {
     "autoexec": {
      "startup": false,
      "wait_interval": 0
     }
    },
    "colab_type": "code",
    "collapsed": true,
    "id": "spSsMeiI6WFP"
   },
   "outputs": [],
   "source": [
    "from sklearn.model_selection import KFold\n",
    "from sklearn.model_selection import cross_val_score"
   ]
  },
  {
   "cell_type": "code",
   "execution_count": 112,
   "metadata": {
    "colab": {
     "autoexec": {
      "startup": false,
      "wait_interval": 0
     },
     "base_uri": "https://localhost:8080/",
     "height": 52
    },
    "colab_type": "code",
    "collapsed": false,
    "executionInfo": {
     "elapsed": 733959,
     "status": "ok",
     "timestamp": 1526424150148,
     "user": {
      "displayName": "이현경",
      "photoUrl": "https://lh3.googleusercontent.com/a/default-user=s128",
      "userId": "112345304399997048072"
     },
     "user_tz": -540
    },
    "id": "QWUV96UI6Y_k",
    "outputId": "6fce9265-4d3c-4116-8a7a-bf8ddee64164"
   },
   "outputs": [
    {
     "name": "stdout",
     "output_type": "stream",
     "text": [
      "CPU times: user 2.5 s, sys: 718 ms, total: 3.22 s\n",
      "Wall time: 12min 13s\n"
     ]
    }
   ],
   "source": [
    "k_fold = KFold(n_splits=5, shuffle=True, random_state=2018)\n",
    "\n",
    "%time score = np.mean(cross_val_score(\\\n",
    "    forest, X_train_tfidf_vector, \\\n",
    "    train['sentiment'], cv=k_fold, scoring='roc_auc', n_jobs=-1))"
   ]
  },
  {
   "cell_type": "code",
   "execution_count": 113,
   "metadata": {
    "colab": {
     "autoexec": {
      "startup": false,
      "wait_interval": 0
     },
     "base_uri": "https://localhost:8080/",
     "height": 52
    },
    "colab_type": "code",
    "collapsed": false,
    "executionInfo": {
     "elapsed": 3420,
     "status": "ok",
     "timestamp": 1526424354947,
     "user": {
      "displayName": "이현경",
      "photoUrl": "https://lh3.googleusercontent.com/a/default-user=s128",
      "userId": "112345304399997048072"
     },
     "user_tz": -540
    },
    "id": "inZGvyLa6c56",
    "outputId": "b0b0458c-0ad8-4a7d-caeb-7516ff20dc89"
   },
   "outputs": [
    {
     "name": "stdout",
     "output_type": "stream",
     "text": [
      "CPU times: user 2.53 s, sys: 13 ms, total: 2.54 s\n",
      "Wall time: 2.55 s\n"
     ]
    }
   ],
   "source": [
    "%time result = forest.predict(X_test_tfidf_vector)"
   ]
  },
  {
   "cell_type": "code",
   "execution_count": null,
   "metadata": {
    "colab": {
     "autoexec": {
      "startup": false,
      "wait_interval": 0
     }
    },
    "colab_type": "code",
    "collapsed": true,
    "id": "791bbCSf-zGG"
   },
   "outputs": [],
   "source": [
    "output = pd.DataFrame(data={'id':test['id'], 'sentiment':result})\n",
    "output"
   ]
  },
  {
   "cell_type": "code",
   "execution_count": 125,
   "metadata": {
    "colab": {
     "autoexec": {
      "startup": false,
      "wait_interval": 0
     },
     "base_uri": "https://localhost:8080/",
     "height": 87
    },
    "colab_type": "code",
    "collapsed": false,
    "executionInfo": {
     "elapsed": 720,
     "status": "ok",
     "timestamp": 1526424562747,
     "user": {
      "displayName": "이현경",
      "photoUrl": "https://lh3.googleusercontent.com/a/default-user=s128",
      "userId": "112345304399997048072"
     },
     "user_tz": -540
    },
    "id": "BIBoITvO-4e0",
    "outputId": "fcf58a09-a677-40ed-fa26-4b7c8e37d4a3"
   },
   "outputs": [
    {
     "name": "stdout",
     "output_type": "stream",
     "text": [
      "0\n"
     ]
    },
    {
     "data": {
      "text/plain": [
       "1    12500\n",
       "0    12500\n",
       "Name: sentiment, dtype: int64"
      ]
     },
     "execution_count": 125,
     "metadata": {
      "tags": []
     },
     "output_type": "execute_result"
    }
   ],
   "source": [
    "output_sentiment = output['sentiment'].value_counts()\n",
    "print(output_sentiment[0] - output_sentiment[1])\n",
    "output_sentiment"
   ]
  },
  {
   "cell_type": "markdown",
   "metadata": {
    "colab_type": "text",
    "id": "_k7o0-Bz_0jP"
   },
   "source": [
    "라벨수는 신기하게 다 맞췄지만, 캐글에 제출해보면 점수가 그렇게 높지는 않음"
   ]
  },
  {
   "cell_type": "code",
   "execution_count": null,
   "metadata": {
    "colab": {
     "autoexec": {
      "startup": false,
      "wait_interval": 0
     }
    },
    "colab_type": "code",
    "collapsed": true,
    "id": "KxHpUmVH-5yf"
   },
   "outputs": [],
   "source": [
    "import xgboost as xgb\n",
    "\n",
    "dtrain = xgb.DMatrix(X_train_tfidf_vector, label=train['sentiment'])"
   ]
  },
  {
   "cell_type": "code",
   "execution_count": 127,
   "metadata": {
    "colab": {
     "autoexec": {
      "startup": false,
      "wait_interval": 0
     },
     "base_uri": "https://localhost:8080/",
     "height": 52
    },
    "colab_type": "code",
    "collapsed": false,
    "executionInfo": {
     "elapsed": 14949,
     "status": "ok",
     "timestamp": 1526424689875,
     "user": {
      "displayName": "이현경",
      "photoUrl": "https://lh3.googleusercontent.com/a/default-user=s128",
      "userId": "112345304399997048072"
     },
     "user_tz": -540
    },
    "id": "diQPLXyj_aeK",
    "outputId": "587f301a-5f92-4d06-9d49-2ca4ec022cdf"
   },
   "outputs": [
    {
     "name": "stdout",
     "output_type": "stream",
     "text": [
      "CPU times: user 21.3 s, sys: 968 ms, total: 22.2 s\n",
      "Wall time: 14.2 s\n"
     ]
    }
   ],
   "source": [
    "params = {\n",
    "    'booster': 'gblinear',\n",
    "    'objective': 'multi:softmax',\n",
    "    'eval_metric': 'merror',\n",
    "    'eta' : 0.02,\n",
    "    'lambda': 2.0,\n",
    "    'alpha': 1.0,\n",
    "    'lambda_bias': 6.0,\n",
    "    'num_class': 5,\n",
    "    'n_jobs' : 4,\n",
    "    'silent': 1,\n",
    "}\n",
    "\n",
    "%time booster = xgb.train(params, dtrain, num_boost_round=100)"
   ]
  },
  {
   "cell_type": "code",
   "execution_count": 128,
   "metadata": {
    "colab": {
     "autoexec": {
      "startup": false,
      "wait_interval": 0
     },
     "base_uri": "https://localhost:8080/",
     "height": 52
    },
    "colab_type": "code",
    "collapsed": false,
    "executionInfo": {
     "elapsed": 1077,
     "status": "ok",
     "timestamp": 1526424693420,
     "user": {
      "displayName": "이현경",
      "photoUrl": "https://lh3.googleusercontent.com/a/default-user=s128",
      "userId": "112345304399997048072"
     },
     "user_tz": -540
    },
    "id": "Z5kvIN61ACD0",
    "outputId": "49dfe0be-2357-4993-eaa5-2baca33c8e5f"
   },
   "outputs": [
    {
     "name": "stdout",
     "output_type": "stream",
     "text": [
      "(25000,)\n"
     ]
    },
    {
     "data": {
      "text/plain": [
       "array([0., 1., 0., 0., 0., 0., 0., 0., 0., 1.], dtype=float32)"
      ]
     },
     "execution_count": 128,
     "metadata": {
      "tags": []
     },
     "output_type": "execute_result"
    }
   ],
   "source": [
    "dtest = xgb.DMatrix(X_test_tfidf_vector)\n",
    "\n",
    "result = booster.predict(dtest)\n",
    "\n",
    "print(result.shape)\n",
    "result[0:10]"
   ]
  },
  {
   "cell_type": "code",
   "execution_count": null,
   "metadata": {
    "colab": {
     "autoexec": {
      "startup": false,
      "wait_interval": 0
     }
    },
    "colab_type": "code",
    "collapsed": true,
    "id": "hegEGYWQAGVG"
   },
   "outputs": [],
   "source": [
    "result = result.astype(int)\n"
   ]
  },
  {
   "cell_type": "code",
   "execution_count": 130,
   "metadata": {
    "colab": {
     "autoexec": {
      "startup": false,
      "wait_interval": 0
     },
     "base_uri": "https://localhost:8080/",
     "height": 195
    },
    "colab_type": "code",
    "collapsed": false,
    "executionInfo": {
     "elapsed": 818,
     "status": "ok",
     "timestamp": 1526424708292,
     "user": {
      "displayName": "이현경",
      "photoUrl": "https://lh3.googleusercontent.com/a/default-user=s128",
      "userId": "112345304399997048072"
     },
     "user_tz": -540
    },
    "id": "IIDDw0kMAIBM",
    "outputId": "2d40fbd1-d392-4434-8cce-fedc46a0b375"
   },
   "outputs": [
    {
     "data": {
      "text/html": [
       "<div>\n",
       "<style scoped>\n",
       "    .dataframe tbody tr th:only-of-type {\n",
       "        vertical-align: middle;\n",
       "    }\n",
       "\n",
       "    .dataframe tbody tr th {\n",
       "        vertical-align: top;\n",
       "    }\n",
       "\n",
       "    .dataframe thead th {\n",
       "        text-align: right;\n",
       "    }\n",
       "</style>\n",
       "<table border=\"1\" class=\"dataframe\">\n",
       "  <thead>\n",
       "    <tr style=\"text-align: right;\">\n",
       "      <th></th>\n",
       "      <th>id</th>\n",
       "      <th>sentiment</th>\n",
       "    </tr>\n",
       "  </thead>\n",
       "  <tbody>\n",
       "    <tr>\n",
       "      <th>0</th>\n",
       "      <td>\"12311_10\"</td>\n",
       "      <td>0</td>\n",
       "    </tr>\n",
       "    <tr>\n",
       "      <th>1</th>\n",
       "      <td>\"8348_2\"</td>\n",
       "      <td>1</td>\n",
       "    </tr>\n",
       "    <tr>\n",
       "      <th>2</th>\n",
       "      <td>\"5828_4\"</td>\n",
       "      <td>0</td>\n",
       "    </tr>\n",
       "    <tr>\n",
       "      <th>3</th>\n",
       "      <td>\"7186_2\"</td>\n",
       "      <td>0</td>\n",
       "    </tr>\n",
       "    <tr>\n",
       "      <th>4</th>\n",
       "      <td>\"12128_7\"</td>\n",
       "      <td>0</td>\n",
       "    </tr>\n",
       "  </tbody>\n",
       "</table>\n",
       "</div>"
      ],
      "text/plain": [
       "           id  sentiment\n",
       "0  \"12311_10\"          0\n",
       "1    \"8348_2\"          1\n",
       "2    \"5828_4\"          0\n",
       "3    \"7186_2\"          0\n",
       "4   \"12128_7\"          0"
      ]
     },
     "execution_count": 130,
     "metadata": {
      "tags": []
     },
     "output_type": "execute_result"
    }
   ],
   "source": [
    "output = pd.DataFrame(data={'id':test['id'], 'sentiment':result})\n",
    "output.head()"
   ]
  },
  {
   "cell_type": "code",
   "execution_count": 131,
   "metadata": {
    "colab": {
     "autoexec": {
      "startup": false,
      "wait_interval": 0
     },
     "base_uri": "https://localhost:8080/",
     "height": 87
    },
    "colab_type": "code",
    "collapsed": false,
    "executionInfo": {
     "elapsed": 966,
     "status": "ok",
     "timestamp": 1526424719973,
     "user": {
      "displayName": "이현경",
      "photoUrl": "https://lh3.googleusercontent.com/a/default-user=s128",
      "userId": "112345304399997048072"
     },
     "user_tz": -540
    },
    "id": "SqKSyBs_AJ77",
    "outputId": "4f7bf589-394e-4a6c-8d76-7a7b6a789bbc"
   },
   "outputs": [
    {
     "name": "stdout",
     "output_type": "stream",
     "text": [
      "-984\n"
     ]
    },
    {
     "data": {
      "text/plain": [
       "1    12992\n",
       "0    12008\n",
       "Name: sentiment, dtype: int64"
      ]
     },
     "execution_count": 131,
     "metadata": {
      "tags": []
     },
     "output_type": "execute_result"
    }
   ],
   "source": [
    "output_sentiment = output['sentiment'].value_counts()\n",
    "print(output_sentiment[0] - output_sentiment[1])\n",
    "output_sentiment"
   ]
  },
  {
   "cell_type": "code",
   "execution_count": null,
   "metadata": {
    "colab": {
     "autoexec": {
      "startup": false,
      "wait_interval": 0
     }
    },
    "colab_type": "code",
    "collapsed": true,
    "id": "TZGVPHxmAM0t"
   },
   "outputs": [],
   "source": [
    "output.to_csv(\"tutorial_4_tfidf_xgboost.csv\", index=False, quoting=3)\n"
   ]
  },
  {
   "cell_type": "markdown",
   "metadata": {
    "colab_type": "text",
    "id": "_LharopnA5Nt"
   },
   "source": [
    "라벨의 수가 많이 편향된 것으로 보이나, 실제로 제출해보면 점수가 높은 편임을 알 수 있음"
   ]
  },
  {
   "cell_type": "code",
   "execution_count": null,
   "metadata": {
    "colab": {
     "autoexec": {
      "startup": false,
      "wait_interval": 0
     }
    },
    "colab_type": "code",
    "collapsed": true,
    "id": "aTJoShUBAjxj"
   },
   "outputs": [],
   "source": []
  }
 ],
 "metadata": {
  "anaconda-cloud": {},
  "colab": {
   "collapsed_sections": [],
   "default_view": {},
   "name": "Kaggle1.ipynb",
   "provenance": [],
   "version": "0.3.2",
   "views": {}
  },
  "kernelspec": {
   "display_name": "Python 3",
   "language": "python",
   "name": "python3"
  },
  "language_info": {
   "codemirror_mode": {
    "name": "ipython",
    "version": 3
   },
   "file_extension": ".py",
   "mimetype": "text/x-python",
   "name": "python",
   "nbconvert_exporter": "python",
   "pygments_lexer": "ipython3",
   "version": "3.6.4"
  }
 },
 "nbformat": 4,
 "nbformat_minor": 2
}
