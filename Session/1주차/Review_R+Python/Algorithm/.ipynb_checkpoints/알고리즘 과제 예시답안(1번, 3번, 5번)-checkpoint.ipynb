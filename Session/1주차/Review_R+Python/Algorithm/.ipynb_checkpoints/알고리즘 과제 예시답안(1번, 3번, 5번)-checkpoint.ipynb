{
 "cells": [
  {
   "cell_type": "markdown",
   "metadata": {},
   "source": [
    "## -----1번-----"
   ]
  },
  {
   "cell_type": "code",
   "execution_count": 1,
   "metadata": {},
   "outputs": [],
   "source": [
    "inp = [[7],[3,8],[8,1,0],[2,7,4,4],[4,5,2,6,5]]\n",
    "# 예제 정수삼각형"
   ]
  },
  {
   "cell_type": "code",
   "execution_count": 2,
   "metadata": {
    "scrolled": true
   },
   "outputs": [
    {
     "data": {
      "text/plain": [
       "5"
      ]
     },
     "execution_count": 2,
     "metadata": {},
     "output_type": "execute_result"
    }
   ],
   "source": [
    "len(inp) # 삼각형 층수 확인"
   ]
  },
  {
   "cell_type": "code",
   "execution_count": 3,
   "metadata": {},
   "outputs": [],
   "source": [
    "# 아래층에 있는 숫자는 위층에서 누적된 최대합(왼쪽, 오른쪽 중 하나)\n",
    "# 을 선택해 자기자신과 더하면 된다. \n",
    "# 만일 삼각형의 양변 끝에 있는 숫자들이라면 바로 윗층 숫자가 그대로 내려온다.\n",
    "# 따라서 각 층 숫자위치별로 최대합이 기록되어 있는 sum삼각형을 새로 작성한다.\n",
    "\n",
    "def triangle(x):\n",
    "    memo = []\n",
    "    memo.append(x[0]) # 1층은 숫자 하나이므로 그냥 추가\n",
    "    for i in range(1, len(x)):\n",
    "        memo.append([0 for _ in range(i+1)]) # 메모장의 i층을 초기화\n",
    "        \n",
    "        for j in range(len(x[i])): # i번째 층 탐색\n",
    "            if j == 0:\n",
    "                memo[i][j] = memo[i-1][j] + x[i][j]\n",
    "            elif j == len(x[i])-1:\n",
    "                memo[i][j] = memo[i-1][j-1] + x[i][j]\n",
    "            else:\n",
    "                memo[i][j] = max(memo[i-1][j-1], memo[i-1][j]) + x[i][j]\n",
    "\n",
    "    return memo, max(memo[len(x)-1]) # 맨 아래층 메모장에 적힌 경로 합산값들 중 최대값 하나를 산출"
   ]
  },
  {
   "cell_type": "code",
   "execution_count": 4,
   "metadata": {},
   "outputs": [
    {
     "data": {
      "text/plain": [
       "([[7], [10, 15], [18, 16, 15], [20, 25, 20, 19], [24, 30, 27, 26, 24]], 30)"
      ]
     },
     "execution_count": 4,
     "metadata": {},
     "output_type": "execute_result"
    }
   ],
   "source": [
    "triangle(inp)"
   ]
  },
  {
   "cell_type": "markdown",
   "metadata": {},
   "source": [
    "## -----3번-----"
   ]
  },
  {
   "cell_type": "code",
   "execution_count": 5,
   "metadata": {},
   "outputs": [],
   "source": [
    "inp = [10, 20, 40, 25, 30, 15, 50]\n",
    "# LIS = [10, 20, 25, 30, 50]"
   ]
  },
  {
   "cell_type": "code",
   "execution_count": 6,
   "metadata": {},
   "outputs": [],
   "source": [
    "# O(N^2) 시간복잡도가 걸리는 방법\n",
    "# 단순하고 생각해내기 쉬움\n",
    "def partial_longest(seq):\n",
    "    memo = [1 for _ in range(len(seq))]\n",
    "    n = len(seq)\n",
    "    for i in range(1, n):\n",
    "        for j in range(i):\n",
    "            if seq[i] > seq[j] and memo[i] < memo[j] +1:\n",
    "                memo[i] = memo[j] + 1\n",
    "                \n",
    "#     maximum = 0\n",
    "#     for i in range(n):\n",
    "#         maximum = max(maximum, memo[i])\n",
    "    return max(memo) "
   ]
  },
  {
   "cell_type": "code",
   "execution_count": 7,
   "metadata": {},
   "outputs": [
    {
     "data": {
      "text/plain": [
       "5"
      ]
     },
     "execution_count": 7,
     "metadata": {},
     "output_type": "execute_result"
    }
   ],
   "source": [
    "partial_longest(inp)"
   ]
  },
  {
   "cell_type": "code",
   "execution_count": 8,
   "metadata": {},
   "outputs": [
    {
     "data": {
      "text/plain": [
       "5"
      ]
     },
     "execution_count": 8,
     "metadata": {},
     "output_type": "execute_result"
    }
   ],
   "source": [
    "partial_longest([10, 22, 9, 33, 21, 50, 41, 60])"
   ]
  },
  {
   "cell_type": "markdown",
   "metadata": {},
   "source": [
    "## -----5번-----"
   ]
  },
  {
   "cell_type": "code",
   "execution_count": 9,
   "metadata": {},
   "outputs": [],
   "source": [
    "test = [1, 2, 3]\n",
    "m = len(test)"
   ]
  },
  {
   "cell_type": "code",
   "execution_count": 10,
   "metadata": {},
   "outputs": [],
   "source": [
    "def count1(S, m, n):\n",
    "    # We need n+1 rows as the table is constructed \n",
    "    # in bottom up manner using the base case 0 value\n",
    "    # case (n = 0)\n",
    "    memo = [[0 for x in range(m)] for x in range(n+1)]\n",
    " \n",
    "    # Fill the entries for 0 value case (n = 0)\n",
    "    for i in range(m):\n",
    "        memo[0][i] = 1\n",
    " \n",
    "    # Fill rest of the table entries in bottom up manner\n",
    "    for i in range(1, n+1):\n",
    "        for j in range(m):\n",
    " \n",
    "            # Count of solutions including S[j]\n",
    "            x = memo[i - S[j]][j] if i-S[j] >= 0 else 0\n",
    " \n",
    "            # Count of solutions excluding S[j]\n",
    "            y = memo[i][j-1] if j >= 1 else 0\n",
    " \n",
    "            # total count\n",
    "            memo[i][j] = x + y\n",
    " \n",
    "    return memo[n][m-1]"
   ]
  },
  {
   "cell_type": "code",
   "execution_count": 11,
   "metadata": {},
   "outputs": [],
   "source": [
    "# Recursion으로 풀기\n",
    "def count2(S, m, n):\n",
    " \n",
    "    # If n is 0 then there is 1\n",
    "    # solution (do not include any coin)\n",
    "    if (n == 0):\n",
    "        return 1\n",
    " \n",
    "    # If n is less than 0 then no\n",
    "    # solution exists\n",
    "    if (n < 0):\n",
    "        return 0;\n",
    " \n",
    "    # If there are no coins and n\n",
    "    # is greater than 0, then no\n",
    "    # solution exist\n",
    "    if (m <=0 and n >= 1):\n",
    "        return 0\n",
    " \n",
    "    # count is sum of solutions (i) \n",
    "    # including S[m-1] (ii) excluding S[m-1]\n",
    "    return count2( S, m - 1, n ) + count2( S, m, n-S[m-1] )"
   ]
  },
  {
   "cell_type": "code",
   "execution_count": 12,
   "metadata": {},
   "outputs": [
    {
     "name": "stdout",
     "output_type": "stream",
     "text": [
      "4\n",
      "4\n"
     ]
    }
   ],
   "source": [
    "print(count1(test, m, 4))\n",
    "print(count2(test, m, 4))"
   ]
  }
 ],
 "metadata": {
  "kernelspec": {
   "display_name": "Python 3",
   "language": "python",
   "name": "python3"
  },
  "language_info": {
   "codemirror_mode": {
    "name": "ipython",
    "version": 3
   },
   "file_extension": ".py",
   "mimetype": "text/x-python",
   "name": "python",
   "nbconvert_exporter": "python",
   "pygments_lexer": "ipython3",
   "version": "3.6.4"
  }
 },
 "nbformat": 4,
 "nbformat_minor": 2
}
