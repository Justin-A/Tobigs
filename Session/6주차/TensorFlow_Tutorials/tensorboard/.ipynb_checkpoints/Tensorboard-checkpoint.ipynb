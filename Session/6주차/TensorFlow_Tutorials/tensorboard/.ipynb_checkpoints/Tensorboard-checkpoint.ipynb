{
 "cells": [
  {
   "cell_type": "code",
   "execution_count": 1,
   "metadata": {},
   "outputs": [],
   "source": [
    "import tensorflow as tf"
   ]
  },
  {
   "cell_type": "code",
   "execution_count": 2,
   "metadata": {},
   "outputs": [],
   "source": [
    "X = tf.placeholder(tf.float32)\n",
    "Y = tf.placeholder(tf.float32)"
   ]
  },
  {
   "cell_type": "code",
   "execution_count": 3,
   "metadata": {},
   "outputs": [],
   "source": [
    "add = tf.add(X,Y)\n",
    "mul = tf.multiply(X,Y)"
   ]
  },
  {
   "cell_type": "markdown",
   "metadata": {},
   "source": [
    "# STEP1 : node 선택 "
   ]
  },
  {
   "cell_type": "markdown",
   "metadata": {},
   "source": [
    "# Summary Operations\n",
    "# - tensor_summary\n",
    "# - scalar\n",
    "# - histogram\n",
    "# - image"
   ]
  },
  {
   "cell_type": "code",
   "execution_count": 4,
   "metadata": {},
   "outputs": [],
   "source": [
    "add_hist = tf.summary.scalar(\"add_scalar\", add) #연산자 연결 \n",
    "mul_hist = tf.summary.scalar(\"mul_scalar\", mul)\n",
    "# tf.summary.tensor_summary or tf.summary.histogram or tf.summary.image"
   ]
  },
  {
   "cell_type": "markdown",
   "metadata": {},
   "source": [
    "# STEP2 : summary 통합, 두개의 코드 모두 동작 "
   ]
  },
  {
   "cell_type": "code",
   "execution_count": 5,
   "metadata": {},
   "outputs": [],
   "source": [
    "merged = tf.summary.merge_all()\n",
    "# merged = tf.summary.merge([add_hist, mul_hist])"
   ]
  },
  {
   "cell_type": "code",
   "execution_count": 6,
   "metadata": {},
   "outputs": [],
   "source": [
    "with tf.Session() as sess:\n",
    "    sess.run(tf.global_variables_initializer())\n",
    "    \n",
    "    #STEP3: writer 생성\n",
    "    writer = tf.summary.FileWriter('./graphs_model',sess.graph)\n",
    "    \n",
    "    for step in range(100):\n",
    "        #STEP4: 노드 추가\n",
    "        \n",
    "        summary = sess.run(merged, feed_dict={X: step * 1.0, Y: 2.0})\n",
    "        writer.add_summary(summary, step)\n",
    "        #학습을 진행하며 결과를 저장, step 설정 "
   ]
  },
  {
   "cell_type": "markdown",
   "metadata": {},
   "source": [
    "# STEP5: 콘솔에서 명령 실행"
   ]
  },
  {
   "cell_type": "code",
   "execution_count": null,
   "metadata": {},
   "outputs": [],
   "source": [
    "## 새로운 DOS command 창에서\n",
    "# activate tensorflow\n",
    "# tensorboard --logdir=\"./graphs_model\" --port 6006\n",
    "# 브라우저: http://Com-PC:6006   (컴퓨터마다 다름, 화면에 나온 값 참조)\n",
    "# graphs 확인"
   ]
  },
  {
   "cell_type": "code",
   "execution_count": null,
   "metadata": {},
   "outputs": [],
   "source": [
    "#tensorboard --logdir=./graphs_model\n",
    "#tensorboard --logdir= C:\\Users\\Desktop\\Test\\board\\sample_2\n",
    "\n",
    "#콘솔 폴더가 현재 폴더(.)가 아니라면 절대 경로 지정\n",
    "#tensorboard --logdir=~/test/board/sample_2"
   ]
  }
 ],
 "metadata": {
  "kernelspec": {
   "display_name": "Python 3",
   "language": "python",
   "name": "python3"
  },
  "language_info": {
   "codemirror_mode": {
    "name": "ipython",
    "version": 3
   },
   "file_extension": ".py",
   "mimetype": "text/x-python",
   "name": "python",
   "nbconvert_exporter": "python",
   "pygments_lexer": "ipython3",
   "version": "3.6.4"
  }
 },
 "nbformat": 4,
 "nbformat_minor": 2
}
