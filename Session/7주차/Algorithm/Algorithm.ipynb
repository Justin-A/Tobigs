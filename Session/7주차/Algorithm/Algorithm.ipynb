{
 "cells": [
  {
   "cell_type": "markdown",
   "metadata": {},
   "source": [
    "#### 공지사항\n",
    "- 7문제 중 본인이 풀고 싶은 4문제를 선택해서 풀어주시면 됩니다. 물론 5문제 이상 푸셔도 됩니다.\n",
    "- 코드 실행시, 제시된 답안과 동일하게 출력되어야 합니다.\n",
    "- 2, 3, 4, 5, 6번 문제는 코드 실행시 입력창이 나타나게 되고, 입력할 때마다 다음 입력값을 받아야 하며, 공백에 대해서 입력을 할 시 종료가 되는 방식으로 작성해주시면 됩니다.\n",
    "- 1번, 7번은 코드 실행시 자동으로 출력을 하게끔 작성해주시면 됩니다."
   ]
  },
  {
   "cell_type": "markdown",
   "metadata": {},
   "source": [
    "# Exercise 1: Reverse Order\n",
    "- Write a program that reads integers from the user and stores them in a list. Use 0 as a sentinel value to mark the end of the input. Once all of the values have been read your program should display them (except for the 0) in reverse order, with one value\n",
    "appearing on each line."
   ]
  },
  {
   "cell_type": "code",
   "execution_count": 1,
   "metadata": {},
   "outputs": [],
   "source": [
    "def Reverse_Order(user):"
   ]
  },
  {
   "cell_type": "code",
   "execution_count": 2,
   "metadata": {
    "scrolled": false
   },
   "outputs": [
    {
     "name": "stdout",
     "output_type": "stream",
     "text": [
      "User's List: \n",
      "16\n",
      "345\n",
      "56\n",
      "3457\n",
      "236\n",
      "354\n",
      "75\n",
      "634\n",
      "2\n",
      "23\n",
      "6537\n",
      "4576\n",
      "4\n",
      "3\n",
      "\n",
      "Sentinel Value:  0\n",
      "\n",
      "Reverse of User's list: \n",
      "3\n",
      "4\n",
      "4576\n",
      "6537\n",
      "23\n",
      "2\n",
      "634\n",
      "75\n",
      "354\n",
      "236\n",
      "3457\n",
      "56\n",
      "345\n",
      "16\n"
     ]
    }
   ],
   "source": [
    "user = (16, 345, 56, 3457, 236, 354, 75, 634, 2, 23, 6537, 4576, 4, 3)\n",
    "Reverse_Order(user)"
   ]
  },
  {
   "cell_type": "markdown",
   "metadata": {},
   "source": [
    "# Exercise 2: Avoiding Duplicates\n",
    "- In this exercise, you will create a program that reads words from the user until the user enters a blank line. After the user enters a blank line your program should display each word entered by the user exactly once. The words should be displayed in the same order that they were entered. For example, if the user enters:\n",
    "\n",
    "##### first\n",
    "##### second\n",
    "##### first\n",
    "##### third\n",
    "##### second\n",
    "\n",
    "then your program should display:\n",
    "\n",
    "- first\n",
    "- second\n",
    "- third"
   ]
  },
  {
   "cell_type": "code",
   "execution_count": 3,
   "metadata": {},
   "outputs": [],
   "source": [
    "def Avoiding_Duplicates():"
   ]
  },
  {
   "cell_type": "code",
   "execution_count": 4,
   "metadata": {
    "scrolled": false
   },
   "outputs": [
    {
     "name": "stdout",
     "output_type": "stream",
     "text": [
      "first\n",
      "second\n",
      "first\n",
      "third\n",
      "second\n",
      "\n",
      "\n",
      "Result: \n",
      "\n",
      "first\n",
      "second\n",
      "third\n"
     ]
    }
   ],
   "source": [
    "Avoiding_Duplicates()"
   ]
  },
  {
   "cell_type": "markdown",
   "metadata": {},
   "source": [
    "# Exercise 3: Negatives, Zeros and Positives\n",
    "- Create a program that reads integers from the user until a blank line is entered. Once all of the integers have been read your program should display all of the negative numbers, followed by all of the zeros, followed by all of the positive numbers. Within each group the numbers should be displayed in the same order that they were entered by the user. For example, if the user enters the values 3, -4, 1, 0, -1, 0, and -2 then your program should output the values -4, -1, -2, 0, 0, 3, and 1. Your program should display each value on its own line."
   ]
  },
  {
   "cell_type": "code",
   "execution_count": 5,
   "metadata": {},
   "outputs": [],
   "source": [
    "def NZP():"
   ]
  },
  {
   "cell_type": "code",
   "execution_count": 6,
   "metadata": {},
   "outputs": [
    {
     "name": "stdout",
     "output_type": "stream",
     "text": [
      "3\n",
      "-4\n",
      "1\n",
      "0\n",
      "-1\n",
      "0\n",
      "-2\n",
      "\n",
      "Negative_Numbers:  [-4, -1, -2]\n",
      "Zeros:  [0, 0]\n",
      "Positive_Numbers:  [3, 1]\n"
     ]
    }
   ],
   "source": [
    "NZP()"
   ]
  },
  {
   "cell_type": "markdown",
   "metadata": {},
   "source": [
    "# Exercise 4: Perfect Numbers\n",
    "- An integer, n, is said to be perfect when the sum of all of the proper divisors of n is equal to n. For example, 28 is a perfect number because its proper divisors are 1, 2, 4, 7 and 14, and 1 + 2 + 4 + 7 + 14 = 28. Write a function that determines whether or not a positive integer is perfect. Your function will take one parameter. If that parameter is a perfect number then your func- tion will return true. Otherwise it will return false. In addition, write a main program that uses your function to identify and display all of the perfect numbers between 1 and 10,000. Import your solution to Exercise 109 when completing this task."
   ]
  },
  {
   "cell_type": "code",
   "execution_count": 7,
   "metadata": {},
   "outputs": [],
   "source": [
    "def Perfect_Numbers():"
   ]
  },
  {
   "cell_type": "code",
   "execution_count": 8,
   "metadata": {
    "scrolled": true
   },
   "outputs": [
    {
     "name": "stdout",
     "output_type": "stream",
     "text": [
      "Numbers: 28\n",
      "Measures:  [1, 2, 4, 7, 14, 28]\n",
      "28  is Perfect Numbers\n"
     ]
    }
   ],
   "source": [
    "Perfect_Numbers()"
   ]
  },
  {
   "cell_type": "code",
   "execution_count": 9,
   "metadata": {},
   "outputs": [
    {
     "name": "stdout",
     "output_type": "stream",
     "text": [
      "Numbers: 29\n",
      "Measures:  [1, 29]\n",
      "29  is not Perfect Numbers\n"
     ]
    }
   ],
   "source": [
    "Perfect_Numbers()"
   ]
  },
  {
   "cell_type": "markdown",
   "metadata": {},
   "source": [
    "# Exercise 5: Formatting a List\n",
    "- When writing out a list of items in English, one normally separates the items with commas. In addition, the word “and” is normally included before the last item, unless the list only contains one item. Consider the following four lists:\n",
    "\n",
    "##### apples\n",
    "##### apples and oranges\n",
    "##### apples, oranges and bananas\n",
    "##### apples, oranges, bananas and lemons\n",
    "\n",
    "- Write a function that takes a list of strings as its only parameter. Your function should return a string that contains all of the items in the list formatted in the manner described previously as its only result. While the examples shown previously only include lists containing four elements or less, your function should behave correctly for lists of any length. Include a main program that reads several items from the user, formats them by calling your function, and then displays the result returned by the function."
   ]
  },
  {
   "cell_type": "code",
   "execution_count": 10,
   "metadata": {},
   "outputs": [],
   "source": [
    "def Format():"
   ]
  },
  {
   "cell_type": "code",
   "execution_count": 11,
   "metadata": {},
   "outputs": [
    {
     "name": "stdout",
     "output_type": "stream",
     "text": [
      "Items: apples\n",
      "Items: oranges\n",
      "Items: \n",
      "apples  and oranges\n"
     ]
    }
   ],
   "source": [
    "Format()"
   ]
  },
  {
   "cell_type": "code",
   "execution_count": 13,
   "metadata": {},
   "outputs": [
    {
     "name": "stdout",
     "output_type": "stream",
     "text": [
      "Items: apples\n",
      "Items: oranges\n",
      "Items: bananas\n",
      "Items: \n",
      "apples, oranges  and bananas\n"
     ]
    }
   ],
   "source": [
    "Format()"
   ]
  },
  {
   "cell_type": "code",
   "execution_count": 14,
   "metadata": {},
   "outputs": [
    {
     "name": "stdout",
     "output_type": "stream",
     "text": [
      "Items: apples\n",
      "Items: oranges\n",
      "Items: bananas\n",
      "Items: lemons\n",
      "Items: \n",
      "apples, oranges, bananas  and lemons\n"
     ]
    }
   ],
   "source": [
    "Format()"
   ]
  },
  {
   "cell_type": "markdown",
   "metadata": {},
   "source": [
    "# Exercise 6: Unique Characters\n",
    "- Create a program that determines and displays the number of unique characters in a string entered by the user. For example, Hello, World! has 10 unique characters while zzz has only one unique character. Use a dictionary or set to solve this problem."
   ]
  },
  {
   "cell_type": "code",
   "execution_count": 15,
   "metadata": {},
   "outputs": [],
   "source": [
    "def Unique_Characters():"
   ]
  },
  {
   "cell_type": "code",
   "execution_count": 16,
   "metadata": {},
   "outputs": [
    {
     "name": "stdout",
     "output_type": "stream",
     "text": [
      "Sentences: Hello, World!\n",
      "10\n"
     ]
    }
   ],
   "source": [
    "Unique_Characters()"
   ]
  },
  {
   "cell_type": "code",
   "execution_count": 17,
   "metadata": {
    "scrolled": true
   },
   "outputs": [
    {
     "name": "stdout",
     "output_type": "stream",
     "text": [
      "Sentences: Tobigs is too difficult!\n",
      "14\n"
     ]
    }
   ],
   "source": [
    "Unique_Characters()"
   ]
  },
  {
   "cell_type": "markdown",
   "metadata": {},
   "source": [
    "# Exercise 7: Anagrams\n",
    "- Two words are anagrams if they contain all of the same letters, but in a different order. For example, “evil” and “live” are anagrams because each contains one e, one i, one l, and one v. Create a program that reads two strings from the user, determines whether or not they are anagrams, and reports the result.\n"
   ]
  },
  {
   "cell_type": "code",
   "execution_count": 18,
   "metadata": {},
   "outputs": [],
   "source": [
    "def Anagrams(a,b):"
   ]
  },
  {
   "cell_type": "code",
   "execution_count": 19,
   "metadata": {},
   "outputs": [
    {
     "data": {
      "text/plain": [
       "False"
      ]
     },
     "execution_count": 19,
     "metadata": {},
     "output_type": "execute_result"
    }
   ],
   "source": [
    "Anagrams('korea', 'ersoka')"
   ]
  },
  {
   "cell_type": "code",
   "execution_count": 20,
   "metadata": {},
   "outputs": [
    {
     "data": {
      "text/plain": [
       "True"
      ]
     },
     "execution_count": 20,
     "metadata": {},
     "output_type": "execute_result"
    }
   ],
   "source": [
    "Anagrams('evil', 'live')"
   ]
  },
  {
   "cell_type": "code",
   "execution_count": 21,
   "metadata": {},
   "outputs": [
    {
     "data": {
      "text/plain": [
       "False"
      ]
     },
     "execution_count": 21,
     "metadata": {},
     "output_type": "execute_result"
    }
   ],
   "source": [
    "Anagrams('Apple', 'apple')"
   ]
  },
  {
   "cell_type": "code",
   "execution_count": 22,
   "metadata": {},
   "outputs": [
    {
     "data": {
      "text/plain": [
       "False"
      ]
     },
     "execution_count": 22,
     "metadata": {},
     "output_type": "execute_result"
    }
   ],
   "source": [
    "Anagrams('samsung', 'apple')"
   ]
  },
  {
   "cell_type": "code",
   "execution_count": 23,
   "metadata": {},
   "outputs": [
    {
     "data": {
      "text/plain": [
       "True"
      ]
     },
     "execution_count": 23,
     "metadata": {},
     "output_type": "execute_result"
    }
   ],
   "source": [
    "Anagrams('maybe','ybeam')"
   ]
  }
 ],
 "metadata": {
  "kernelspec": {
   "display_name": "Python 3",
   "language": "python",
   "name": "python3"
  },
  "language_info": {
   "codemirror_mode": {
    "name": "ipython",
    "version": 3
   },
   "file_extension": ".py",
   "mimetype": "text/x-python",
   "name": "python",
   "nbconvert_exporter": "python",
   "pygments_lexer": "ipython3",
   "version": "3.6.4"
  }
 },
 "nbformat": 4,
 "nbformat_minor": 2
}
