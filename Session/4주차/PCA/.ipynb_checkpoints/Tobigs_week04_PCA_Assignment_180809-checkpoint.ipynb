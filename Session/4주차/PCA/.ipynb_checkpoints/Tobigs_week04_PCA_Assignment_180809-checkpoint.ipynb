{
 "cells": [
  {
   "cell_type": "markdown",
   "metadata": {},
   "source": [
    "# PCA 2번째 과제"
   ]
  },
  {
   "cell_type": "markdown",
   "metadata": {},
   "source": [
    "### 1) MNIST 데이터를 로드하고 train - testset으로 분할"
   ]
  },
  {
   "cell_type": "code",
   "execution_count": 1,
   "metadata": {
    "collapsed": true
   },
   "outputs": [],
   "source": [
    "from sklearn.datasets import fetch_mldata\n",
    "mnist = fetch_mldata('MNIST original')\n",
    "\n",
    "X_train = mnist['data'][:60000]\n",
    "y_train = mnist['target'][:60000]\n",
    "\n",
    "X_test = mnist['data'][60000:]\n",
    "y_test = mnist['target'][60000:]"
   ]
  },
  {
   "cell_type": "markdown",
   "metadata": {},
   "source": [
    "### 2) RandomForest 분류기"
   ]
  },
  {
   "cell_type": "markdown",
   "metadata": {},
   "source": [
    "#### 2-1) RF 분류기 생성  "
   ]
  },
  {
   "cell_type": "code",
   "execution_count": 2,
   "metadata": {
    "collapsed": true
   },
   "outputs": [],
   "source": [
    "from sklearn.ensemble import RandomForestClassifier # 랜포용 모듈\n",
    "# 파라미터 설명: http://scikit-learn.org/stable/modules/generated/sklearn.ensemble.RandomForestClassifier.html \n",
    "\n",
    "RF_classfication = RandomForestClassifier(random_state=10) # RF 분류기 생성 , random_state는 난수같은 역할 "
   ]
  },
  {
   "cell_type": "code",
   "execution_count": 3,
   "metadata": {},
   "outputs": [
    {
     "name": "stdout",
     "output_type": "stream",
     "text": [
      "훈련 시간 3.99s\n"
     ]
    }
   ],
   "source": [
    "import time # 시간을 나타내주는 모듈\n",
    "\n",
    "before_fit_rf = time.time() # 훈련 전 시간 \n",
    "RF_classfication.fit(X_train, y_train)\n",
    "after_fit_rf = time.time() # 훈련 후 시간\n",
    "\n",
    "print(\"훈련 시간 {:.2f}s\".format(after_fit_rf - before_fit_rf)) # 소수점 둘째자리까지 숫자표현 "
   ]
  },
  {
   "cell_type": "code",
   "execution_count": 4,
   "metadata": {},
   "outputs": [
    {
     "data": {
      "text/plain": [
       "0.94569999999999999"
      ]
     },
     "execution_count": 4,
     "metadata": {},
     "output_type": "execute_result"
    }
   ],
   "source": [
    "from sklearn.metrics import accuracy_score # 정확도 확인 모듈 \n",
    "\n",
    "y_pred = RF_classfication.predict(X_test) # 분류기 적합 \n",
    "accuracy_score(y_test, y_pred) # 94% "
   ]
  },
  {
   "cell_type": "markdown",
   "metadata": {},
   "source": [
    "#### 2-2) PCA로 설명된 분산이 96%가 되도록 차원을 축소"
   ]
  },
  {
   "cell_type": "code",
   "execution_count": 5,
   "metadata": {
    "collapsed": true
   },
   "outputs": [],
   "source": [
    "from sklearn.decomposition import PCA # PCA 모듈 \n",
    "\n",
    "pca = PCA(n_components=0.96) # 분산이 96%가 되도록 차원 축소\n",
    "X_train_reduction = pca.fit_transform(X_train) # 축소된 train data "
   ]
  },
  {
   "cell_type": "markdown",
   "metadata": {},
   "source": [
    "#### 2-3) 축소된 데이터 셋으로 새로운 RF 분류기 예측 "
   ]
  },
  {
   "cell_type": "code",
   "execution_count": 6,
   "metadata": {},
   "outputs": [
    {
     "name": "stdout",
     "output_type": "stream",
     "text": [
      "훈련 시간 11.08s\n"
     ]
    }
   ],
   "source": [
    "RF_classfication2 = RandomForestClassifier(random_state=10)\n",
    "\n",
    "before_fit2_rf = time.time()\n",
    "RF_classfication2.fit(X_train_reduction, y_train)\n",
    "after_fit2_rf = time.time()\n",
    "\n",
    "print(\"훈련 시간 {:.2f}s\".format(after_fit2_rf - before_fit2_rf)) ## 랜포는 훈련시간이 3배 느려짐 ㅠ(4.05s -> 11.93s)"
   ]
  },
  {
   "cell_type": "code",
   "execution_count": 7,
   "metadata": {},
   "outputs": [
    {
     "data": {
      "text/plain": [
       "0.89370000000000005"
      ]
     },
     "execution_count": 7,
     "metadata": {},
     "output_type": "execute_result"
    }
   ],
   "source": [
    "X_test_reduction = pca.transform(X_test)\n",
    "\n",
    "y_pred = RF_classfication2.predict(X_test_reduction)\n",
    "accuracy_score(y_test, y_pred) ## 성능도 떨어짐. 이건 아니구나 (94% -> 89%) "
   ]
  },
  {
   "cell_type": "markdown",
   "metadata": {},
   "source": [
    "### 3) Softmax 분류기 "
   ]
  },
  {
   "cell_type": "markdown",
   "metadata": {},
   "source": [
    "#### 3-1) Softmax 분류기 생성  "
   ]
  },
  {
   "cell_type": "code",
   "execution_count": 8,
   "metadata": {
    "collapsed": true
   },
   "outputs": [],
   "source": [
    "from sklearn.linear_model import LogisticRegression # 로지스틱회귀용 모듈\n",
    "# 파라미터 설명: http://scikit-learn.org/stable/modules/generated/sklearn.linear_model.LogisticRegression.html\n",
    "\n",
    "Logistic_classfication = LogisticRegression(multi_class=\"multinomial\", solver=\"lbfgs\", random_state=10) # solver=\"lbfgs\": 가중치^2에 패널티를 주는 L2 정규화"
   ]
  },
  {
   "cell_type": "code",
   "execution_count": 9,
   "metadata": {},
   "outputs": [
    {
     "name": "stdout",
     "output_type": "stream",
     "text": [
      "훈련 시간 15.72s\n"
     ]
    }
   ],
   "source": [
    "import time # 시간을 나타내주는 모듈\n",
    "\n",
    "before_fit_sfm = time.time() # 훈련 전 시간 \n",
    "Logistic_classfication.fit(X_train, y_train)\n",
    "after_fit_sfm = time.time() # 훈련 후 시간\n",
    "\n",
    "print(\"훈련 시간 {:.2f}s\".format(after_fit_sfm - before_fit_sfm)) # 소수점 둘째자리까지 숫자표현  "
   ]
  },
  {
   "cell_type": "code",
   "execution_count": 10,
   "metadata": {},
   "outputs": [
    {
     "data": {
      "text/plain": [
       "0.92520000000000002"
      ]
     },
     "execution_count": 10,
     "metadata": {},
     "output_type": "execute_result"
    }
   ],
   "source": [
    "from sklearn.metrics import accuracy_score # 정확도 확인 모듈 \n",
    "\n",
    "y_pred = Logistic_classfication.predict(X_test) # 분류기 적합 \n",
    "accuracy_score(y_test, y_pred) # 92% "
   ]
  },
  {
   "cell_type": "markdown",
   "metadata": {},
   "source": [
    "#### 3-2) PCA로 설명된 분산이 96%가 되도록 차원을 축소"
   ]
  },
  {
   "cell_type": "code",
   "execution_count": 11,
   "metadata": {
    "collapsed": true
   },
   "outputs": [],
   "source": [
    "from sklearn.decomposition import PCA # PCA 모듈 \n",
    "\n",
    "pca = PCA(n_components=0.96) # 분산이 96%가 되도록 차원 축소\n",
    "X_train_reduction = pca.fit_transform(X_train) # 축소된 train data "
   ]
  },
  {
   "cell_type": "markdown",
   "metadata": {},
   "source": [
    "#### 3-3) 축소된 데이터 셋으로 새로운 Softmax 분류기 예측 "
   ]
  },
  {
   "cell_type": "code",
   "execution_count": 12,
   "metadata": {},
   "outputs": [
    {
     "name": "stdout",
     "output_type": "stream",
     "text": [
      "훈련 시간 7.22s\n"
     ]
    }
   ],
   "source": [
    "Logistic_classfication2 = LogisticRegression(multi_class=\"multinomial\", solver=\"lbfgs\", random_state=10)\n",
    "\n",
    "before_fit2_sfm = time.time()\n",
    "Logistic_classfication2.fit(X_train_reduction, y_train)\n",
    "after_fit2_sfm = time.time()\n",
    "\n",
    "print(\"훈련 시간 {:.2f}s\".format(after_fit2_sfm - before_fit2_sfm)) ## 오 2배 빨라짐..ㅎ (15.72s -> 7.22s)"
   ]
  },
  {
   "cell_type": "code",
   "execution_count": 13,
   "metadata": {},
   "outputs": [
    {
     "data": {
      "text/plain": [
       "0.92210000000000003"
      ]
     },
     "execution_count": 13,
     "metadata": {},
     "output_type": "execute_result"
    }
   ],
   "source": [
    "X_test_reduction = pca.transform(X_test)\n",
    "\n",
    "y_pred = Logistic_classfication2.predict(X_test_reduction)\n",
    "accuracy_score(y_test, y_pred) ## 성능은 유지! (92% -> 92%) "
   ]
  },
  {
   "cell_type": "markdown",
   "metadata": {},
   "source": [
    "### 4) 분류기 간 성능 비교\n",
    "\n",
    "- 이 데이터는 기본 RF 분류기의 시간과 성능에 적합하다.\n",
    "- PCA가 적용되고 RF 분류기는 시간/성능 모두 안좋았지만, Softmax 분류기는 시간/성능 모두 좋았다.\n",
    "- 결론: 데이터마다 성능이 다르게 적용되니, 일단 데이터 받아보면 PCA는 다 해보자!!"
   ]
  }
 ],
 "metadata": {
  "kernelspec": {
   "display_name": "Python 3",
   "language": "python",
   "name": "python3"
  },
  "language_info": {
   "codemirror_mode": {
    "name": "ipython",
    "version": 3
   },
   "file_extension": ".py",
   "mimetype": "text/x-python",
   "name": "python",
   "nbconvert_exporter": "python",
   "pygments_lexer": "ipython3",
   "version": "3.6.4"
  }
 },
 "nbformat": 4,
 "nbformat_minor": 2
}
