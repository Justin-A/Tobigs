{
 "cells": [
  {
   "cell_type": "code",
   "execution_count": 20,
   "metadata": {},
   "outputs": [],
   "source": [
    "import keras\n",
    "\n",
    "from keras.models import Sequential\n",
    "from keras.layers import Conv2D, MaxPooling2D, Flatten, Dense, Dropout\n",
    "from keras.callbacks import EarlyStopping\n",
    "from keras import optimizers"
   ]
  },
  {
   "cell_type": "code",
   "execution_count": 35,
   "metadata": {},
   "outputs": [],
   "source": [
    "Alexnet = Sequential()\n",
    "early_stopping = EarlyStopping()"
   ]
  },
  {
   "cell_type": "code",
   "execution_count": 36,
   "metadata": {},
   "outputs": [],
   "source": [
    "# CONV1\n",
    "Alexnet.add(Conv2D(\n",
    "\tfilters = 96,\n",
    "\tkernel_size = (11, 11),\n",
    "\tinput_shape = (227, 227, 3),\n",
    "\tstrides = (4, 4),\n",
    "\tpadding = 'valid',\n",
    "\tactivation = 'relu'))"
   ]
  },
  {
   "cell_type": "code",
   "execution_count": 37,
   "metadata": {},
   "outputs": [],
   "source": [
    "# MAX POOL1\n",
    "Alexnet.add(MaxPooling2D(\n",
    "\tpool_size = (3,3),\n",
    "\tstrides = (2,2)))"
   ]
  },
  {
   "cell_type": "code",
   "execution_count": 38,
   "metadata": {},
   "outputs": [],
   "source": [
    "# CONV2\n",
    "Alexnet.add(Conv2D(\n",
    "\tfilters = 256,\n",
    "\tkernel_size = (5, 5),\n",
    "\tstrides = (1,1),\n",
    "\tpadding = 'same',\n",
    "\tactivation = 'relu'))"
   ]
  },
  {
   "cell_type": "code",
   "execution_count": 39,
   "metadata": {},
   "outputs": [],
   "source": [
    "# Max POOL2\n",
    "Alexnet.add(MaxPooling2D(\n",
    "\tpool_size = (3,3), \n",
    "\tstrides = (2,2)))"
   ]
  },
  {
   "cell_type": "code",
   "execution_count": 41,
   "metadata": {},
   "outputs": [],
   "source": [
    "# CONV3\n",
    "Alexnet.add(Conv2D(\n",
    "\tfilters = 384,\n",
    "\tkernel_size = (3,3),\n",
    "\tstrides = (1,1),\n",
    "\tpadding = 'same',\n",
    "\tactivation = 'relu'))"
   ]
  },
  {
   "cell_type": "code",
   "execution_count": 42,
   "metadata": {},
   "outputs": [],
   "source": [
    "# CONV4\n",
    "Alexnet.add(Conv2D(\n",
    "\tfilters = 384,\n",
    "\tkernel_size = (3,3),\n",
    "\tstrides = (1,1),\n",
    "\tpadding = 'same',\n",
    "\tactivation = 'relu'))"
   ]
  },
  {
   "cell_type": "code",
   "execution_count": 43,
   "metadata": {},
   "outputs": [],
   "source": [
    "# CONV5\n",
    "Alexnet.add(Conv2D(\n",
    "\tfilters = 256,\n",
    "\tkernel_size = (3,3),\n",
    "\tstrides = (1,1),\n",
    "\tpadding = 'same',\n",
    "\tactivation = 'relu'))"
   ]
  },
  {
   "cell_type": "code",
   "execution_count": 45,
   "metadata": {},
   "outputs": [],
   "source": [
    "# MAX POOL3\n",
    "Alexnet.add(MaxPooling2D(\n",
    "\tpool_size = (3,3), \n",
    "\tstrides = (2,2)))"
   ]
  },
  {
   "cell_type": "code",
   "execution_count": 46,
   "metadata": {},
   "outputs": [],
   "source": [
    "# Flatten for FC Input\n",
    "Alexnet.add(Flatten())\n"
   ]
  },
  {
   "cell_type": "code",
   "execution_count": 47,
   "metadata": {},
   "outputs": [],
   "source": [
    "# FC6\n",
    "Alexnet.add(Dense(\n",
    "\tunits = 4096,\n",
    "\tactivation = 'relu'))"
   ]
  },
  {
   "cell_type": "code",
   "execution_count": 48,
   "metadata": {},
   "outputs": [],
   "source": [
    "# FC7\n",
    "Alexnet.add(Dense(\n",
    "\tunits = 4096,\n",
    "\tactivation = 'relu'))"
   ]
  },
  {
   "cell_type": "code",
   "execution_count": 49,
   "metadata": {},
   "outputs": [],
   "source": [
    "# FC8\n",
    "Alexnet.add(Dense(\n",
    "\tunits = 1000, \n",
    "\tactivation = 'softmax'))"
   ]
  },
  {
   "cell_type": "code",
   "execution_count": 50,
   "metadata": {},
   "outputs": [],
   "source": [
    "# SGD\n",
    "sgd = optimizers.SGD(\n",
    "\tlr = 0.01, \n",
    "\tdecay = 5e-4, \n",
    "\tmomentum = 0.9)"
   ]
  },
  {
   "cell_type": "code",
   "execution_count": 51,
   "metadata": {},
   "outputs": [],
   "source": [
    "# Compile\n",
    "Alexnet.compile(\n",
    "\toptimizer = sgd, \n",
    "\tloss = 'categorical_crossentropy',\n",
    "\tmetrics = ['accuracy'])"
   ]
  },
  {
   "cell_type": "code",
   "execution_count": 52,
   "metadata": {},
   "outputs": [
    {
     "name": "stdout",
     "output_type": "stream",
     "text": [
      "_________________________________________________________________\n",
      "Layer (type)                 Output Shape              Param #   \n",
      "=================================================================\n",
      "conv2d_12 (Conv2D)           (None, 55, 55, 96)        34944     \n",
      "_________________________________________________________________\n",
      "max_pooling2d_12 (MaxPooling (None, 27, 27, 96)        0         \n",
      "_________________________________________________________________\n",
      "conv2d_13 (Conv2D)           (None, 27, 27, 256)       614656    \n",
      "_________________________________________________________________\n",
      "max_pooling2d_13 (MaxPooling (None, 13, 13, 256)       0         \n",
      "_________________________________________________________________\n",
      "conv2d_14 (Conv2D)           (None, 13, 13, 384)       885120    \n",
      "_________________________________________________________________\n",
      "conv2d_15 (Conv2D)           (None, 13, 13, 384)       1327488   \n",
      "_________________________________________________________________\n",
      "conv2d_16 (Conv2D)           (None, 13, 13, 256)       884992    \n",
      "_________________________________________________________________\n",
      "max_pooling2d_14 (MaxPooling (None, 6, 6, 256)         0         \n",
      "_________________________________________________________________\n",
      "flatten_1 (Flatten)          (None, 9216)              0         \n",
      "_________________________________________________________________\n",
      "dense_1 (Dense)              (None, 4096)              37752832  \n",
      "_________________________________________________________________\n",
      "dense_2 (Dense)              (None, 4096)              16781312  \n",
      "_________________________________________________________________\n",
      "dense_3 (Dense)              (None, 1000)              4097000   \n",
      "=================================================================\n",
      "Total params: 62,378,344\n",
      "Trainable params: 62,378,344\n",
      "Non-trainable params: 0\n",
      "_________________________________________________________________\n"
     ]
    }
   ],
   "source": [
    "Alexnet.summary()"
   ]
  },
  {
   "cell_type": "code",
   "execution_count": null,
   "metadata": {},
   "outputs": [],
   "source": []
  }
 ],
 "metadata": {
  "kernelspec": {
   "display_name": "Python 3",
   "language": "python",
   "name": "python3"
  },
  "language_info": {
   "codemirror_mode": {
    "name": "ipython",
    "version": 3
   },
   "file_extension": ".py",
   "mimetype": "text/x-python",
   "name": "python",
   "nbconvert_exporter": "python",
   "pygments_lexer": "ipython3",
   "version": "3.6.4"
  }
 },
 "nbformat": 4,
 "nbformat_minor": 2
}
